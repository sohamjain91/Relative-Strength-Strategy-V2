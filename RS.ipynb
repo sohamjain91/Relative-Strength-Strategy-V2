{
 "cells": [
  {
   "cell_type": "code",
   "execution_count": 34,
   "id": "c6d26c48",
   "metadata": {},
   "outputs": [],
   "source": [
    "import pandas as pd\n",
    "import numpy as np\n",
    "import matplotlib.pyplot as plt\n",
    "import yfinance as yf\n",
    "import time\n",
    "import seaborn as sns\n",
    "import datetime\n",
    "import zipfile\n",
    "import os\n",
    "import warnings\n",
    "warnings.filterwarnings(\"ignore\")\n",
    "#import streamlit as st"
   ]
  },
  {
   "cell_type": "markdown",
   "id": "f06711a2",
   "metadata": {},
   "source": [
    "def extract_zip(zip_file_path, extracted_dir):\n",
    "    with zipfile.ZipFile(zip_file_path, 'r') as zip_ref:\n",
    "        zip_ref.extractall(extracted_dir)\n",
    "\n",
    "zip_file_path = \"data/StocksAndSectors.zip\"\n",
    "extracted_dir = \"data/extracted_files\"\n",
    "extract_zip(zip_file_path, extracted_dir)"
   ]
  },
  {
   "cell_type": "markdown",
   "id": "49592ea4",
   "metadata": {},
   "source": [
    "path_address = os.listdir('data/extracted_files/StocksAndSectors')"
   ]
  },
  {
   "cell_type": "markdown",
   "id": "6e612a2e",
   "metadata": {},
   "source": [
    "path_address = ['../relative strength strategy/data/extracted_files/StocksAndSectors/' + i for i in path_address]"
   ]
  },
  {
   "cell_type": "markdown",
   "id": "daf1655b",
   "metadata": {},
   "source": [
    "data = pd.read_csv(path_address[1],skiprows=5)\n",
    "\n",
    "for i in path_address[2:]:\n",
    "    temp_data = pd.read_csv(i,skiprows=5)\n",
    "    data = pd.concat([data, temp_data], axis = 0)    "
   ]
  },
  {
   "cell_type": "code",
   "execution_count": 35,
   "id": "1ec21e8f",
   "metadata": {},
   "outputs": [],
   "source": [
    "data = pd.read_excel('data/stocks_list.xlsx')"
   ]
  },
  {
   "cell_type": "code",
   "execution_count": 36,
   "id": "c37b8de2",
   "metadata": {},
   "outputs": [],
   "source": [
    "data = data.drop_duplicates()\n",
    "data = data[data['Market Cap(Rs. Cr.)']>500]"
   ]
  },
  {
   "cell_type": "code",
   "execution_count": 37,
   "id": "23d27a8a",
   "metadata": {},
   "outputs": [],
   "source": [
    "# numeric_pattern = r'^\\d+$'\n",
    "# data = data[~data['Symbol'].str.match(numeric_pattern)]"
   ]
  },
  {
   "cell_type": "code",
   "execution_count": 38,
   "id": "e21de38f",
   "metadata": {},
   "outputs": [
    {
     "data": {
      "text/html": [
       "<div>\n",
       "<style scoped>\n",
       "    .dataframe tbody tr th:only-of-type {\n",
       "        vertical-align: middle;\n",
       "    }\n",
       "\n",
       "    .dataframe tbody tr th {\n",
       "        vertical-align: top;\n",
       "    }\n",
       "\n",
       "    .dataframe thead th {\n",
       "        text-align: right;\n",
       "    }\n",
       "</style>\n",
       "<table border=\"1\" class=\"dataframe\">\n",
       "  <thead>\n",
       "    <tr style=\"text-align: right;\">\n",
       "      <th></th>\n",
       "      <th>Stock Name</th>\n",
       "      <th>Symbol</th>\n",
       "      <th>Industry</th>\n",
       "      <th>Market Cap(Rs. Cr.)</th>\n",
       "    </tr>\n",
       "  </thead>\n",
       "  <tbody>\n",
       "    <tr>\n",
       "      <th>1</th>\n",
       "      <td>Prevest Denpro Ltd</td>\n",
       "      <td>PREVEST.BO</td>\n",
       "      <td>Medical Equipment &amp; Supplies</td>\n",
       "      <td>5.017254e+02</td>\n",
       "    </tr>\n",
       "    <tr>\n",
       "      <th>2</th>\n",
       "      <td>A.K.CAPITAL SERVICES LTD.</td>\n",
       "      <td>AKCAPIT.BO</td>\n",
       "      <td>Non Banking Financial Company (NBFC)</td>\n",
       "      <td>5.018310e+02</td>\n",
       "    </tr>\n",
       "    <tr>\n",
       "      <th>3</th>\n",
       "      <td>HIGH ENERGY BATTERIES (INDIA) LTD.</td>\n",
       "      <td>HIGHENE.BO</td>\n",
       "      <td>Household Products</td>\n",
       "      <td>5.024232e+02</td>\n",
       "    </tr>\n",
       "    <tr>\n",
       "      <th>4</th>\n",
       "      <td>DOLPHIN OFFSHORE ENTERPRISES (INDIA) LTD.-$</td>\n",
       "      <td>DOLPHINOFF.BO</td>\n",
       "      <td>Offshore Support Solution Drilling</td>\n",
       "      <td>5.028209e+02</td>\n",
       "    </tr>\n",
       "    <tr>\n",
       "      <th>5</th>\n",
       "      <td>ASM TECHNOLOGIES LTD.</td>\n",
       "      <td>ASMTEC.BO</td>\n",
       "      <td>Computers - Software &amp; Consulting</td>\n",
       "      <td>5.034150e+02</td>\n",
       "    </tr>\n",
       "    <tr>\n",
       "      <th>...</th>\n",
       "      <td>...</td>\n",
       "      <td>...</td>\n",
       "      <td>...</td>\n",
       "      <td>...</td>\n",
       "    </tr>\n",
       "    <tr>\n",
       "      <th>1479</th>\n",
       "      <td>ITC LTD.</td>\n",
       "      <td>ITC.BO</td>\n",
       "      <td>Diversified FMCG</td>\n",
       "      <td>5.766855e+05</td>\n",
       "    </tr>\n",
       "    <tr>\n",
       "      <th>1480</th>\n",
       "      <td>BHARTI AIRTEL LTD.</td>\n",
       "      <td>BHARTIARTL.BO</td>\n",
       "      <td>Telecom - Cellular &amp; Fixed line services</td>\n",
       "      <td>6.053543e+05</td>\n",
       "    </tr>\n",
       "    <tr>\n",
       "      <th>1481</th>\n",
       "      <td>HINDUSTAN UNILEVER LTD.</td>\n",
       "      <td>HINDUNILVR.BO</td>\n",
       "      <td>Diversified FMCG</td>\n",
       "      <td>6.257664e+05</td>\n",
       "    </tr>\n",
       "    <tr>\n",
       "      <th>1482</th>\n",
       "      <td>TATA CONSULTANCY SERVICES LTD.</td>\n",
       "      <td>TCS.BO</td>\n",
       "      <td>Computers - Software &amp; Consulting</td>\n",
       "      <td>1.372630e+06</td>\n",
       "    </tr>\n",
       "    <tr>\n",
       "      <th>1483</th>\n",
       "      <td>RELIANCE INDUSTRIES LTD.</td>\n",
       "      <td>RELIANCE.BO</td>\n",
       "      <td>Refineries &amp; Marketing</td>\n",
       "      <td>1.748659e+06</td>\n",
       "    </tr>\n",
       "  </tbody>\n",
       "</table>\n",
       "<p>1483 rows × 4 columns</p>\n",
       "</div>"
      ],
      "text/plain": [
       "                                       Stock Name         Symbol  \\\n",
       "1                              Prevest Denpro Ltd     PREVEST.BO   \n",
       "2                       A.K.CAPITAL SERVICES LTD.     AKCAPIT.BO   \n",
       "3              HIGH ENERGY BATTERIES (INDIA) LTD.     HIGHENE.BO   \n",
       "4     DOLPHIN OFFSHORE ENTERPRISES (INDIA) LTD.-$  DOLPHINOFF.BO   \n",
       "5                           ASM TECHNOLOGIES LTD.      ASMTEC.BO   \n",
       "...                                           ...            ...   \n",
       "1479                                     ITC LTD.         ITC.BO   \n",
       "1480                           BHARTI AIRTEL LTD.  BHARTIARTL.BO   \n",
       "1481                      HINDUSTAN UNILEVER LTD.  HINDUNILVR.BO   \n",
       "1482               TATA CONSULTANCY SERVICES LTD.         TCS.BO   \n",
       "1483                     RELIANCE INDUSTRIES LTD.    RELIANCE.BO   \n",
       "\n",
       "                                      Industry  Market Cap(Rs. Cr.)  \n",
       "1                 Medical Equipment & Supplies         5.017254e+02  \n",
       "2         Non Banking Financial Company (NBFC)         5.018310e+02  \n",
       "3                           Household Products         5.024232e+02  \n",
       "4           Offshore Support Solution Drilling         5.028209e+02  \n",
       "5            Computers - Software & Consulting         5.034150e+02  \n",
       "...                                        ...                  ...  \n",
       "1479                          Diversified FMCG         5.766855e+05  \n",
       "1480  Telecom - Cellular & Fixed line services         6.053543e+05  \n",
       "1481                          Diversified FMCG         6.257664e+05  \n",
       "1482         Computers - Software & Consulting         1.372630e+06  \n",
       "1483                    Refineries & Marketing         1.748659e+06  \n",
       "\n",
       "[1483 rows x 4 columns]"
      ]
     },
     "execution_count": 38,
     "metadata": {},
     "output_type": "execute_result"
    }
   ],
   "source": [
    "data"
   ]
  },
  {
   "cell_type": "code",
   "execution_count": 39,
   "id": "1651de66",
   "metadata": {},
   "outputs": [],
   "source": [
    "categories = data['Industry'].value_counts()\n",
    "categories = categories[categories>0]"
   ]
  },
  {
   "cell_type": "code",
   "execution_count": 40,
   "id": "9acacba8",
   "metadata": {},
   "outputs": [
    {
     "data": {
      "text/plain": [
       "Industry\n",
       "Pharmaceuticals                         83\n",
       "Auto Components & Equipments            71\n",
       "Specialty Chemicals                     57\n",
       "Industrial Products                     52\n",
       "Non Banking Financial Company (NBFC)    43\n",
       "                                        ..\n",
       "Consulting Services                      2\n",
       "Industrial Gases                         2\n",
       "E-Learning                               2\n",
       "Power - Transmission                     2\n",
       "Oil Storage & Transportation             1\n",
       "Name: count, Length: 146, dtype: int64"
      ]
     },
     "execution_count": 40,
     "metadata": {},
     "output_type": "execute_result"
    }
   ],
   "source": [
    "categories"
   ]
  },
  {
   "cell_type": "code",
   "execution_count": 41,
   "id": "f4c0e33d",
   "metadata": {},
   "outputs": [
    {
     "data": {
      "text/plain": [
       "146"
      ]
     },
     "execution_count": 41,
     "metadata": {},
     "output_type": "execute_result"
    }
   ],
   "source": [
    "len(categories.index)"
   ]
  },
  {
   "cell_type": "code",
   "execution_count": 42,
   "id": "37faf520",
   "metadata": {
    "scrolled": true
   },
   "outputs": [],
   "source": [
    "data = data[data['Industry'].isin(categories.index)]"
   ]
  },
  {
   "cell_type": "code",
   "execution_count": 43,
   "id": "51742c81",
   "metadata": {},
   "outputs": [],
   "source": [
    "#data = data.drop(columns = data.columns[data.isna().sum()>1000])"
   ]
  },
  {
   "cell_type": "code",
   "execution_count": 44,
   "id": "9e1e4035",
   "metadata": {},
   "outputs": [],
   "source": [
    "#list(data[data['Industry'] == 'Paper & Paper Products'].Symbol.values + \".NS\")"
   ]
  },
  {
   "cell_type": "code",
   "execution_count": 45,
   "id": "3bde1ad3",
   "metadata": {},
   "outputs": [],
   "source": [
    "stocks_list = {}\n",
    "market_cap = {}\n",
    "for i in categories.index:\n",
    "    stocks_list[i] = list(data[data['Industry'] == i].Symbol.values + \".NS\")\n",
    "    market_cap[i] = list(data[data['Industry'] == i].loc[:, 'Market Cap(Rs. Cr.)'].values)"
   ]
  },
  {
   "cell_type": "code",
   "execution_count": 46,
   "id": "aaa367e5",
   "metadata": {},
   "outputs": [],
   "source": [
    "stocks_list = {}\n",
    "market_cap = {}\n",
    "for i in categories.index:\n",
    "    stocks_list[i] = list(data[data['Industry'] == i].Symbol.values)\n",
    "    market_cap[i] = list(data[data['Industry'] == i].loc[:, 'Market Cap(Rs. Cr.)'].values)"
   ]
  },
  {
   "cell_type": "code",
   "execution_count": 47,
   "id": "2d641c94",
   "metadata": {},
   "outputs": [],
   "source": [
    "def return_analysis(stocks_dict, market_cap_dict, sector):\n",
    "    \n",
    "    import datetime\n",
    "    from datetime import datetime, timedelta\n",
    "    \n",
    "    s = yf.download(stocks_dict[sector])\n",
    "    s = s['Adj Close']\n",
    "    s = s.sort_index()\n",
    "    \n",
    "    f = s/s.shift(1)\n",
    "    \n",
    "    indices_df = f.T.mean().fillna(1).to_frame().rename(columns = {0:'daily_nav'})\n",
    "    \n",
    "    s = s.iloc[[-1, -6, -22, -64]].T\n",
    "    \n",
    "    \n",
    "    a = yf.download(stocks_dict[sector], interval = '1m', start = datetime.now() - timedelta(minutes = 30))\n",
    "    a = a['Adj Close']\n",
    "    a = a.sort_index().max().to_frame()\n",
    "    \n",
    "    s.iloc[:, 0] = a\n",
    "    \n",
    "    s['week_ret'] = s.iloc[:,0]/s.iloc[:,1]\n",
    "    s['month_ret'] = s.iloc[:,0]/s.iloc[:,2]\n",
    "    s['quarter_ret'] = s.iloc[:,0]/s.iloc[:,3]\n",
    "    \n",
    "    market_cap_df = pd.DataFrame(market_cap_dict[sector],stocks_dict[sector])\n",
    "    s = pd.concat([s, market_cap_df], axis = 1)\n",
    "    s = s.dropna()\n",
    "    s = s.rename(columns = {0:'market_cap'})\n",
    "    \n",
    "    s['weight'] = s['market_cap']/s['market_cap'].sum()\n",
    "    s['weighted_weekly_ret'] = s['week_ret'] * s['weight']\n",
    "    s['weighted_month_ret'] = s['month_ret'] * s['weight']\n",
    "    s['weighted_quarter_ret'] = s['quarter_ret'] * s['weight']\n",
    "    \n",
    "    sector_index_ret = [sector, s['weighted_weekly_ret'].sum(), s['weighted_month_ret'].sum(), s['weighted_quarter_ret'].sum()]\n",
    "    \n",
    "    return(s, sector_index_ret, indices_df)"
   ]
  },
  {
   "cell_type": "code",
   "execution_count": 48,
   "id": "35b2fd8a",
   "metadata": {
    "scrolled": true
   },
   "outputs": [
    {
     "name": "stdout",
     "output_type": "stream",
     "text": [
      "[*********************100%%**********************]  12 of 12 completed\n",
      "[*********************100%%**********************]  12 of 12 completed"
     ]
    },
    {
     "name": "stderr",
     "output_type": "stream",
     "text": [
      "\n",
      "2 Failed downloads:\n",
      "['ANDHRAPAP.BO', 'NRAGRINDQ.BO']: Exception('%ticker%: No price data found, symbol may be delisted (1m 2024-01-10 14:42:49.269977 -> 2024-01-10 15:12:49+05:30)')\n"
     ]
    },
    {
     "name": "stdout",
     "output_type": "stream",
     "text": [
      "\n"
     ]
    }
   ],
   "source": [
    "returns = return_analysis(stocks_list, market_cap, 'Paper & Paper Products')"
   ]
  },
  {
   "cell_type": "code",
   "execution_count": 49,
   "id": "1291dcfe",
   "metadata": {},
   "outputs": [
    {
     "data": {
      "text/html": [
       "<div>\n",
       "<style scoped>\n",
       "    .dataframe tbody tr th:only-of-type {\n",
       "        vertical-align: middle;\n",
       "    }\n",
       "\n",
       "    .dataframe tbody tr th {\n",
       "        vertical-align: top;\n",
       "    }\n",
       "\n",
       "    .dataframe thead th {\n",
       "        text-align: right;\n",
       "    }\n",
       "</style>\n",
       "<table border=\"1\" class=\"dataframe\">\n",
       "  <thead>\n",
       "    <tr style=\"text-align: right;\">\n",
       "      <th></th>\n",
       "      <th>2024-01-10 00:00:00</th>\n",
       "      <th>2024-01-03 00:00:00</th>\n",
       "      <th>2023-12-11 00:00:00</th>\n",
       "      <th>2023-10-09 00:00:00</th>\n",
       "      <th>week_ret</th>\n",
       "      <th>month_ret</th>\n",
       "      <th>quarter_ret</th>\n",
       "      <th>market_cap</th>\n",
       "      <th>weight</th>\n",
       "      <th>weighted_weekly_ret</th>\n",
       "      <th>weighted_month_ret</th>\n",
       "      <th>weighted_quarter_ret</th>\n",
       "    </tr>\n",
       "  </thead>\n",
       "  <tbody>\n",
       "    <tr>\n",
       "      <th>CENTURYTEX.BO</th>\n",
       "      <td>1577.800049</td>\n",
       "      <td>1245.650024</td>\n",
       "      <td>1290.650024</td>\n",
       "      <td>1098.199951</td>\n",
       "      <td>1.266648</td>\n",
       "      <td>1.222485</td>\n",
       "      <td>1.436715</td>\n",
       "      <td>13502.230000</td>\n",
       "      <td>0.386490</td>\n",
       "      <td>0.489547</td>\n",
       "      <td>0.472478</td>\n",
       "      <td>0.555276</td>\n",
       "    </tr>\n",
       "    <tr>\n",
       "      <th>EMAMIPAP.BO</th>\n",
       "      <td>119.000000</td>\n",
       "      <td>122.099998</td>\n",
       "      <td>135.000000</td>\n",
       "      <td>129.699997</td>\n",
       "      <td>0.974611</td>\n",
       "      <td>0.881481</td>\n",
       "      <td>0.917502</td>\n",
       "      <td>719.031200</td>\n",
       "      <td>0.020582</td>\n",
       "      <td>0.020059</td>\n",
       "      <td>0.018142</td>\n",
       "      <td>0.018884</td>\n",
       "    </tr>\n",
       "    <tr>\n",
       "      <th>JKPAPER.BO</th>\n",
       "      <td>390.600006</td>\n",
       "      <td>398.100006</td>\n",
       "      <td>399.700012</td>\n",
       "      <td>380.450012</td>\n",
       "      <td>0.981161</td>\n",
       "      <td>0.977233</td>\n",
       "      <td>1.026679</td>\n",
       "      <td>6923.294798</td>\n",
       "      <td>0.198174</td>\n",
       "      <td>0.194440</td>\n",
       "      <td>0.193662</td>\n",
       "      <td>0.203461</td>\n",
       "    </tr>\n",
       "    <tr>\n",
       "      <th>KUANTUM.BO</th>\n",
       "      <td>174.850006</td>\n",
       "      <td>174.300003</td>\n",
       "      <td>184.699997</td>\n",
       "      <td>178.600006</td>\n",
       "      <td>1.003155</td>\n",
       "      <td>0.946670</td>\n",
       "      <td>0.979003</td>\n",
       "      <td>1499.196058</td>\n",
       "      <td>0.042913</td>\n",
       "      <td>0.043049</td>\n",
       "      <td>0.040625</td>\n",
       "      <td>0.042012</td>\n",
       "    </tr>\n",
       "    <tr>\n",
       "      <th>ORIENTPPR.BO</th>\n",
       "      <td>43.250000</td>\n",
       "      <td>42.900002</td>\n",
       "      <td>42.770000</td>\n",
       "      <td>48.770000</td>\n",
       "      <td>1.008158</td>\n",
       "      <td>1.011223</td>\n",
       "      <td>0.886816</td>\n",
       "      <td>917.915107</td>\n",
       "      <td>0.026275</td>\n",
       "      <td>0.026489</td>\n",
       "      <td>0.026569</td>\n",
       "      <td>0.023301</td>\n",
       "    </tr>\n",
       "    <tr>\n",
       "      <th>PAKKA.BO</th>\n",
       "      <td>235.000000</td>\n",
       "      <td>240.649994</td>\n",
       "      <td>244.050003</td>\n",
       "      <td>216.199997</td>\n",
       "      <td>0.976522</td>\n",
       "      <td>0.962917</td>\n",
       "      <td>1.086957</td>\n",
       "      <td>859.347871</td>\n",
       "      <td>0.024598</td>\n",
       "      <td>0.024021</td>\n",
       "      <td>0.023686</td>\n",
       "      <td>0.026737</td>\n",
       "    </tr>\n",
       "    <tr>\n",
       "      <th>SATIA.BO</th>\n",
       "      <td>135.899994</td>\n",
       "      <td>138.750000</td>\n",
       "      <td>137.550003</td>\n",
       "      <td>126.349998</td>\n",
       "      <td>0.979459</td>\n",
       "      <td>0.988004</td>\n",
       "      <td>1.075584</td>\n",
       "      <td>1391.500000</td>\n",
       "      <td>0.039831</td>\n",
       "      <td>0.039012</td>\n",
       "      <td>0.039353</td>\n",
       "      <td>0.042841</td>\n",
       "    </tr>\n",
       "    <tr>\n",
       "      <th>SESHAPAPER.BO</th>\n",
       "      <td>365.649994</td>\n",
       "      <td>353.000000</td>\n",
       "      <td>369.950012</td>\n",
       "      <td>368.149994</td>\n",
       "      <td>1.035836</td>\n",
       "      <td>0.988377</td>\n",
       "      <td>0.993209</td>\n",
       "      <td>2233.558000</td>\n",
       "      <td>0.063934</td>\n",
       "      <td>0.066225</td>\n",
       "      <td>0.063191</td>\n",
       "      <td>0.063500</td>\n",
       "    </tr>\n",
       "    <tr>\n",
       "      <th>TNPL.BO</th>\n",
       "      <td>295.549988</td>\n",
       "      <td>290.549988</td>\n",
       "      <td>288.950012</td>\n",
       "      <td>249.800003</td>\n",
       "      <td>1.017209</td>\n",
       "      <td>1.022841</td>\n",
       "      <td>1.183146</td>\n",
       "      <td>2071.819000</td>\n",
       "      <td>0.059304</td>\n",
       "      <td>0.060325</td>\n",
       "      <td>0.060659</td>\n",
       "      <td>0.070165</td>\n",
       "    </tr>\n",
       "    <tr>\n",
       "      <th>WSTCSTPAPR.BO</th>\n",
       "      <td>700.750000</td>\n",
       "      <td>718.299988</td>\n",
       "      <td>694.400024</td>\n",
       "      <td>679.549988</td>\n",
       "      <td>0.975567</td>\n",
       "      <td>1.009145</td>\n",
       "      <td>1.031197</td>\n",
       "      <td>4817.607000</td>\n",
       "      <td>0.137900</td>\n",
       "      <td>0.134531</td>\n",
       "      <td>0.139161</td>\n",
       "      <td>0.142202</td>\n",
       "    </tr>\n",
       "  </tbody>\n",
       "</table>\n",
       "</div>"
      ],
      "text/plain": [
       "               2024-01-10 00:00:00  2024-01-03 00:00:00  2023-12-11 00:00:00  \\\n",
       "CENTURYTEX.BO          1577.800049          1245.650024          1290.650024   \n",
       "EMAMIPAP.BO             119.000000           122.099998           135.000000   \n",
       "JKPAPER.BO              390.600006           398.100006           399.700012   \n",
       "KUANTUM.BO              174.850006           174.300003           184.699997   \n",
       "ORIENTPPR.BO             43.250000            42.900002            42.770000   \n",
       "PAKKA.BO                235.000000           240.649994           244.050003   \n",
       "SATIA.BO                135.899994           138.750000           137.550003   \n",
       "SESHAPAPER.BO           365.649994           353.000000           369.950012   \n",
       "TNPL.BO                 295.549988           290.549988           288.950012   \n",
       "WSTCSTPAPR.BO           700.750000           718.299988           694.400024   \n",
       "\n",
       "               2023-10-09 00:00:00  week_ret  month_ret  quarter_ret  \\\n",
       "CENTURYTEX.BO          1098.199951  1.266648   1.222485     1.436715   \n",
       "EMAMIPAP.BO             129.699997  0.974611   0.881481     0.917502   \n",
       "JKPAPER.BO              380.450012  0.981161   0.977233     1.026679   \n",
       "KUANTUM.BO              178.600006  1.003155   0.946670     0.979003   \n",
       "ORIENTPPR.BO             48.770000  1.008158   1.011223     0.886816   \n",
       "PAKKA.BO                216.199997  0.976522   0.962917     1.086957   \n",
       "SATIA.BO                126.349998  0.979459   0.988004     1.075584   \n",
       "SESHAPAPER.BO           368.149994  1.035836   0.988377     0.993209   \n",
       "TNPL.BO                 249.800003  1.017209   1.022841     1.183146   \n",
       "WSTCSTPAPR.BO           679.549988  0.975567   1.009145     1.031197   \n",
       "\n",
       "                 market_cap    weight  weighted_weekly_ret  \\\n",
       "CENTURYTEX.BO  13502.230000  0.386490             0.489547   \n",
       "EMAMIPAP.BO      719.031200  0.020582             0.020059   \n",
       "JKPAPER.BO      6923.294798  0.198174             0.194440   \n",
       "KUANTUM.BO      1499.196058  0.042913             0.043049   \n",
       "ORIENTPPR.BO     917.915107  0.026275             0.026489   \n",
       "PAKKA.BO         859.347871  0.024598             0.024021   \n",
       "SATIA.BO        1391.500000  0.039831             0.039012   \n",
       "SESHAPAPER.BO   2233.558000  0.063934             0.066225   \n",
       "TNPL.BO         2071.819000  0.059304             0.060325   \n",
       "WSTCSTPAPR.BO   4817.607000  0.137900             0.134531   \n",
       "\n",
       "               weighted_month_ret  weighted_quarter_ret  \n",
       "CENTURYTEX.BO            0.472478              0.555276  \n",
       "EMAMIPAP.BO              0.018142              0.018884  \n",
       "JKPAPER.BO               0.193662              0.203461  \n",
       "KUANTUM.BO               0.040625              0.042012  \n",
       "ORIENTPPR.BO             0.026569              0.023301  \n",
       "PAKKA.BO                 0.023686              0.026737  \n",
       "SATIA.BO                 0.039353              0.042841  \n",
       "SESHAPAPER.BO            0.063191              0.063500  \n",
       "TNPL.BO                  0.060659              0.070165  \n",
       "WSTCSTPAPR.BO            0.139161              0.142202  "
      ]
     },
     "execution_count": 49,
     "metadata": {},
     "output_type": "execute_result"
    }
   ],
   "source": [
    "returns[0]"
   ]
  },
  {
   "cell_type": "code",
   "execution_count": 50,
   "id": "49c4c424",
   "metadata": {},
   "outputs": [],
   "source": [
    "def nifty_ret():\n",
    "    \n",
    "    import datetime\n",
    "    from datetime import datetime, timedelta\n",
    "    \n",
    "    todays_date = datetime.now().date()\n",
    "    start_date = todays_date - timedelta(days = 200)\n",
    "\n",
    "    s = yf.download(\"^NSEI\", start = start_date)\n",
    "    s = s['Adj Close']\n",
    "    s = s.sort_index()\n",
    "    s = s.to_frame()\n",
    "\n",
    "    s = s.iloc[[-1, -6, -22, -64]].T\n",
    "    \n",
    "    a = yf.download(\"^NSEI\", interval = '1m', start = datetime.now() - timedelta(minutes = 30))\n",
    "    a = a['Adj Close']\n",
    "    a = a.sort_index().max()\n",
    "    s.iloc[:, 0] = a\n",
    "    \n",
    "    s['week_ret'] = s.iloc[:,0]/s.iloc[:,1]\n",
    "    s['month_ret'] = s.iloc[:,0]/s.iloc[:,2]\n",
    "    s['quarter_ret'] = s.iloc[:,0]/s.iloc[:,3]\n",
    "    \n",
    "    returns = [\"nifty_ret\", s['week_ret'].sum(), s['month_ret'].sum(), s['quarter_ret'].sum()]\n",
    "    \n",
    "    return(returns)"
   ]
  },
  {
   "cell_type": "code",
   "execution_count": 51,
   "id": "0a6edebe",
   "metadata": {},
   "outputs": [],
   "source": [
    "def stocks_selector(stocks_dict, market_cap_dict, sector):\n",
    "    \n",
    "    df_sectors = return_analysis(stocks_dict, market_cap_dict, sector)\n",
    "    \n",
    "    df_rets = df_sectors[1]\n",
    "    df_full_df = df_sectors[0]\n",
    "    indices_returns_df = df_sectors[2]\n",
    "    \n",
    "    df_nifty = nifty_ret()\n",
    "    \n",
    "    sectors = []\n",
    "    stocks = []\n",
    "    rs_score = []\n",
    "    \n",
    "    if (df_rets[1]>df_nifty[1])&(df_rets[2]>df_nifty[2])&(df_rets[3]>df_nifty[3]):\n",
    "        \n",
    "        try:\n",
    "            sectors.append(df_rets[0])\n",
    "\n",
    "            df_full_df['position'] = np.where((df_full_df['week_ret'] > df_rets[1])&\n",
    "                                              (df_full_df['month_ret'] > df_rets[2])&\n",
    "                                              (df_full_df['quarter_ret'] > df_rets[3]),\n",
    "                                              1, 0)\n",
    "\n",
    "            df_full_df = df_full_df[df_full_df['position'] == 1]\n",
    "\n",
    "            df_full_df['rs_score'] = (df_full_df['week_ret']/df_rets[1])-1+(df_full_df['month_ret']/df_rets[2])-1+(df_full_df['quarter_ret']/df_rets[3])-1+(df_rets[1]/df_nifty[1])-1+(df_rets[2]/df_nifty[2])-1+(df_rets[3]/df_nifty[3])-1                  \n",
    "\n",
    "            stocks.append(list(df_full_df.index))\n",
    "            rs_score.append(list(df_full_df['rs_score'].values))\n",
    "\n",
    "            df = pd.concat([pd.DataFrame(sectors).T, pd.DataFrame(stocks).T, pd.DataFrame(rs_score).T], axis = 1)\n",
    "            df = df.fillna(method = \"ffill\")\n",
    "            \n",
    "        except Exception as e:\n",
    "            \n",
    "            print('hello')\n",
    "        \n",
    "    else:\n",
    "        df = 'NA'\n",
    "            \n",
    "    return(df_rets, df, indices_returns_df)"
   ]
  },
  {
   "cell_type": "code",
   "execution_count": 52,
   "id": "4d84683d",
   "metadata": {},
   "outputs": [
    {
     "name": "stdout",
     "output_type": "stream",
     "text": [
      "[*********************100%%**********************]  83 of 83 completed"
     ]
    },
    {
     "name": "stderr",
     "output_type": "stream",
     "text": [
      "\n",
      "1 Failed download:\n",
      "['RAJNISH.BO']: Exception(\"%ticker%: Period 'max' is invalid, must be one of ['1d', '5d']\")\n"
     ]
    },
    {
     "name": "stdout",
     "output_type": "stream",
     "text": [
      "\n",
      "[*********************100%%**********************]  83 of 83 completed"
     ]
    },
    {
     "name": "stderr",
     "output_type": "stream",
     "text": [
      "\n",
      "16 Failed downloads:\n",
      "['ALBERTDA.BO']: Exception('%ticker%: No price data found, symbol may be delisted (1m 2024-01-10 14:42:55.906543 -> 2024-01-10 15:12:55+05:30)')\n",
      "['LINCOPH.BO', 'BLISSGVS.BO', 'MEDICO.BO', 'NEULANDLAB.BO', 'INDSWFTLAB.BO', 'PGHL.BO', 'NGLFINE.BO', 'ORCHIDPHAR.BO', 'CAPPL.BO', 'ERIS.BO']: Exception('%ticker%: No price data found, symbol may be delisted (1m 2024-01-10 14:42:55.906543 -> 2024-01-10 15:12:56+05:30)')\n",
      "['HESTERBIO.BO', 'JAGSNPHARM.BO', 'THEMISMED.BO', 'INDOCO.BO', 'AJANTPHARM.BO']: Exception('%ticker%: No price data found, symbol may be delisted (1m 2024-01-10 14:42:55.906543 -> 2024-01-10 15:12:57+05:30)')\n"
     ]
    },
    {
     "name": "stdout",
     "output_type": "stream",
     "text": [
      "\n",
      "[*********************100%%**********************]  1 of 1 completed\n",
      "[*********************100%%**********************]  1 of 1 completed\n",
      "[*********************100%%**********************]  71 of 71 completed\n",
      "[*********************100%%**********************]  71 of 71 completed"
     ]
    },
    {
     "name": "stderr",
     "output_type": "stream",
     "text": [
      "\n",
      "19 Failed downloads:\n",
      "['HITECHGEAR.BO', 'ISTLTD.BO', 'SHARDA.BO', 'RBL.BO', 'TVSHLTD.BO', 'IGARASHI.BO', 'SSWL.BO', 'RAJGLOWIR.BO']: Exception('%ticker%: No price data found, symbol may be delisted (1m 2024-01-10 14:43:01.427223 -> 2024-01-10 15:13:01+05:30)')\n",
      "['HINDCOMPOS.BO', 'SUNDRMFAST.BO', 'NDRAUTO.BO', 'ROLEXRINGS.BO', 'LUMAXIND.BO', 'ZFCVINDIA.BO', 'RML.BO', 'MENONBE.BO', 'JAYBARMARU.BO', 'SAPL.BO', 'ENKEIWHEL.BO']: Exception('%ticker%: No price data found, symbol may be delisted (1m 2024-01-10 14:43:01.427223 -> 2024-01-10 15:13:02+05:30)')\n"
     ]
    },
    {
     "name": "stdout",
     "output_type": "stream",
     "text": [
      "\n",
      "[*********************100%%**********************]  1 of 1 completed\n",
      "[*********************100%%**********************]  1 of 1 completed\n",
      "[*********************100%%**********************]  57 of 57 completed"
     ]
    },
    {
     "name": "stderr",
     "output_type": "stream",
     "text": [
      "\n",
      "1 Failed download:\n",
      "['DDEVPLASTIK.BO']: Exception(\"%ticker%: Period 'max' is invalid, must be one of ['1d', '5d']\")\n"
     ]
    },
    {
     "name": "stdout",
     "output_type": "stream",
     "text": [
      "\n",
      "[*********************100%%**********************]  57 of 57 completed"
     ]
    },
    {
     "name": "stderr",
     "output_type": "stream",
     "text": [
      "\n",
      "9 Failed downloads:\n",
      "['BASF.BO', 'FOSECOIND.BO', 'DMCC.BO', 'JUBLINGREA.BO', 'DIAMINESQ.BO']: Exception('%ticker%: No price data found, symbol may be delisted (1m 2024-01-10 14:43:06.517128 -> 2024-01-10 15:13:06+05:30)')\n",
      "['VALIANTORG.BO', 'PRIVISCL.BO', 'DEEPAKNI.BO', 'EXCELINDUS.BO']: Exception('%ticker%: No price data found, symbol may be delisted (1m 2024-01-10 14:43:06.517128 -> 2024-01-10 15:13:07+05:30)')\n"
     ]
    },
    {
     "name": "stdout",
     "output_type": "stream",
     "text": [
      "\n",
      "[*********************100%%**********************]  1 of 1 completed\n",
      "[*********************100%%**********************]  1 of 1 completed\n",
      "[*********************100%%**********************]  52 of 52 completed"
     ]
    },
    {
     "name": "stderr",
     "output_type": "stream",
     "text": [
      "\n",
      "6 Failed downloads:\n",
      "['TRL.BO', 'BALUFORGE.BO', 'MIC.BO', 'CNCRD.BO', 'AFFORDABLE.BO', 'COCKERILL.BO']: Exception(\"%ticker%: Period 'max' is invalid, must be one of ['1d', '5d']\")\n"
     ]
    },
    {
     "name": "stdout",
     "output_type": "stream",
     "text": [
      "\n",
      "[*********************100%%**********************]  52 of 52 completed"
     ]
    },
    {
     "name": "stderr",
     "output_type": "stream",
     "text": [
      "\n",
      "14 Failed downloads:\n",
      "['UNIDT.BO', 'EIMCOELECO.BO', 'WSIND.BO', 'GMM.BO', 'MAZDALTD.BO', 'STOVACQ.BO', 'HMT.BO']: Exception('%ticker%: No price data found, symbol may be delisted (1m 2024-01-10 14:43:11.505198 -> 2024-01-10 15:13:11+05:30)')\n",
      "['SEMAC.BO', 'DANLAW.BO', 'RAJOOENG.BO', 'DYNAMATECH.BO']: Exception('%ticker%: No price data found, symbol may be delisted (1m 2024-01-10 14:43:11.505198 -> 2024-01-10 15:13:12+05:30)')\n",
      "['MIC.BO', 'AFFORDABLE.BO', 'CNCRD.BO']: Exception(\"%ticker%: Period 'max' is invalid, must be one of ['1d', '5d']\")\n"
     ]
    },
    {
     "name": "stdout",
     "output_type": "stream",
     "text": [
      "\n",
      "[*********************100%%**********************]  1 of 1 completed\n",
      "[*********************100%%**********************]  1 of 1 completed\n",
      "[*********************100%%**********************]  43 of 43 completed"
     ]
    },
    {
     "name": "stderr",
     "output_type": "stream",
     "text": [
      "\n",
      "3 Failed downloads:\n",
      "['MONEYBOXX.BO', 'SGFIN.BO', 'UYFINCORP.BO']: Exception(\"%ticker%: Period 'max' is invalid, must be one of ['1d', '5d']\")\n"
     ]
    },
    {
     "name": "stdout",
     "output_type": "stream",
     "text": [
      "\n",
      "[*********************100%%**********************]  43 of 43 completed"
     ]
    },
    {
     "name": "stderr",
     "output_type": "stream",
     "text": [
      "\n",
      "9 Failed downloads:\n",
      "['MONEYBOXX.BO']: Exception(\"%ticker%: Period 'max' is invalid, must be one of ['1d', '5d']\")\n"
     ]
    },
    {
     "name": "stdout",
     "output_type": "stream",
     "text": [
      "\n"
     ]
    },
    {
     "name": "stderr",
     "output_type": "stream",
     "text": [
      "['CREST.BO', 'MASTERTR.BO', 'IMCAP.BO', 'INDOSTAR.BO', 'VHL.BO']: Exception('%ticker%: No price data found, symbol may be delisted (1m 2024-01-10 14:43:15.561879 -> 2024-01-10 15:13:15+05:30)')\n",
      "['MUTHTFN.BO', 'CIFL.BO', 'AKCAPIT.BO']: Exception('%ticker%: No price data found, symbol may be delisted (1m 2024-01-10 14:43:15.561879 -> 2024-01-10 15:13:16+05:30)')\n"
     ]
    },
    {
     "name": "stdout",
     "output_type": "stream",
     "text": [
      "[*********************100%%**********************]  1 of 1 completed\n",
      "[*********************100%%**********************]  1 of 1 completed\n",
      "[*********************100%%**********************]  42 of 42 completed"
     ]
    },
    {
     "name": "stderr",
     "output_type": "stream",
     "text": [
      "\n",
      "2 Failed downloads:\n",
      "['KRRAIL.BO', 'SGMART.BO']: Exception(\"%ticker%: Period 'max' is invalid, must be one of ['1d', '5d']\")\n"
     ]
    },
    {
     "name": "stdout",
     "output_type": "stream",
     "text": [
      "\n",
      "[*********************100%%**********************]  42 of 42 completed"
     ]
    },
    {
     "name": "stderr",
     "output_type": "stream",
     "text": [
      "\n",
      "6 Failed downloads:\n",
      "['OMINFRAL.BO', 'GPTINFRA.BO', 'PSPPROJECT.BO', 'POWERMECH.BO']: Exception('%ticker%: No price data found, symbol may be delisted (1m 2024-01-10 14:43:19.168003 -> 2024-01-10 15:13:19+05:30)')\n",
      "['KRRAIL.BO', 'SGMART.BO']: Exception(\"%ticker%: Period 'max' is invalid, must be one of ['1d', '5d']\")\n"
     ]
    },
    {
     "name": "stdout",
     "output_type": "stream",
     "text": [
      "\n",
      "[*********************100%%**********************]  1 of 1 completed\n",
      "[*********************100%%**********************]  1 of 1 completed\n",
      "[*********************100%%**********************]  42 of 42 completed"
     ]
    },
    {
     "name": "stderr",
     "output_type": "stream",
     "text": [
      "\n",
      "2 Failed downloads:\n",
      "['HAMPTON.BO']: Exception(\"%ticker%: Period 'max' is invalid, must be one of ['1d', '5d']\")\n",
      "['HAZOOR.BO']: Exception('%ticker%: No price data found, symbol may be delisted (1d 1925-02-03 -> 2024-01-10)')\n"
     ]
    },
    {
     "name": "stdout",
     "output_type": "stream",
     "text": [
      "\n",
      "[*********************100%%**********************]  42 of 42 completed"
     ]
    },
    {
     "name": "stderr",
     "output_type": "stream",
     "text": [
      "\n",
      "7 Failed downloads:\n",
      "['PENINLAND.BO']: Exception('%ticker%: No price data found, symbol may be delisted (1m 2024-01-10 14:43:22.888701 -> 2024-01-10 15:13:22+05:30)')\n",
      "['ELDEHSG.BO', 'MAXESTATES.BO', 'NATIONSTD.BO', 'HAZOOR.BO', 'ASL.BO', 'AJMERA.BO']: Exception('%ticker%: No price data found, symbol may be delisted (1m 2024-01-10 14:43:22.888701 -> 2024-01-10 15:13:23+05:30)')\n"
     ]
    },
    {
     "name": "stdout",
     "output_type": "stream",
     "text": [
      "\n",
      "[*********************100%%**********************]  1 of 1 completed\n",
      "[*********************100%%**********************]  1 of 1 completed\n",
      "[*********************100%%**********************]  40 of 40 completed"
     ]
    },
    {
     "name": "stderr",
     "output_type": "stream",
     "text": [
      "\n",
      "4 Failed downloads:\n",
      "['SUPERSHAKT.BO', 'WELSPLSOL.BO', 'BMW.BO', 'RHETAN.BO']: Exception(\"%ticker%: Period 'max' is invalid, must be one of ['1d', '5d']\")\n"
     ]
    },
    {
     "name": "stdout",
     "output_type": "stream",
     "text": [
      "\n",
      "[*********************100%%**********************]  40 of 40 completed"
     ]
    },
    {
     "name": "stderr",
     "output_type": "stream",
     "text": [
      "\n",
      "9 Failed downloads:\n",
      "['SUPERSHAKT.BO', 'RHETAN.BO']: Exception(\"%ticker%: Period 'max' is invalid, must be one of ['1d', '5d']\")\n",
      "['MSPL.BO', 'BEDMUTHA.BO', 'TIIL.BO', 'RATNAVEER.BO', 'JAYNECOIND.BO', 'SHBCLQ.BO', 'UNIABEXAL.BO']: Exception('%ticker%: No price data found, symbol may be delisted (1m 2024-01-10 14:43:35.884769 -> 2024-01-10 15:13:36+05:30)')\n"
     ]
    },
    {
     "name": "stdout",
     "output_type": "stream",
     "text": [
      "\n",
      "[*********************100%%**********************]  1 of 1 completed\n",
      "[*********************100%%**********************]  1 of 1 completed\n",
      "[*********************100%%**********************]  36 of 36 completed"
     ]
    },
    {
     "name": "stderr",
     "output_type": "stream",
     "text": [
      "\n",
      "2 Failed downloads:\n",
      "['MCLOUD.BO', 'XTGLOBAL.BO']: Exception(\"%ticker%: Period 'max' is invalid, must be one of ['1d', '5d']\")\n"
     ]
    },
    {
     "name": "stdout",
     "output_type": "stream",
     "text": [
      "\n",
      "[*********************100%%**********************]  36 of 36 completed"
     ]
    },
    {
     "name": "stderr",
     "output_type": "stream",
     "text": [
      "\n",
      "4 Failed downloads:\n",
      "['INFOBEAN.BO', '3IINFOTECH.BO', 'MINDTECK.BO']: Exception('%ticker%: No price data found, symbol may be delisted (1m 2024-01-10 14:43:39.263753 -> 2024-01-10 15:13:39+05:30)')\n",
      "['XTGLOBAL.BO']: Exception(\"%ticker%: Period 'max' is invalid, must be one of ['1d', '5d']\")\n"
     ]
    },
    {
     "name": "stdout",
     "output_type": "stream",
     "text": [
      "\n",
      "[*********************100%%**********************]  1 of 1 completed\n",
      "[*********************100%%**********************]  1 of 1 completed\n",
      "[*********************100%%**********************]  32 of 32 completed\n",
      "[*********************100%%**********************]  32 of 32 completed"
     ]
    },
    {
     "name": "stderr",
     "output_type": "stream",
     "text": [
      "\n",
      "2 Failed downloads:\n",
      "['EVERESTIND.BO']: Exception('%ticker%: No price data found, symbol may be delisted (1m 2024-01-10 14:43:41.949889 -> 2024-01-10 15:13:41+05:30)')\n",
      "['DECCANCE.BO']: Exception('%ticker%: No price data found, symbol may be delisted (1m 2024-01-10 14:43:41.949889 -> 2024-01-10 15:13:42+05:30)')\n"
     ]
    },
    {
     "name": "stdout",
     "output_type": "stream",
     "text": [
      "\n",
      "[*********************100%%**********************]  1 of 1 completed\n",
      "[*********************100%%**********************]  1 of 1 completed\n",
      "[*********************100%%**********************]  32 of 32 completed"
     ]
    },
    {
     "name": "stderr",
     "output_type": "stream",
     "text": [
      "\n",
      "1 Failed download:\n",
      "['RAJRAYON.BO']: Exception(\"%ticker%: Period 'max' is invalid, must be one of ['1d', '5d']\")\n"
     ]
    },
    {
     "name": "stdout",
     "output_type": "stream",
     "text": [
      "\n",
      "[*********************100%%**********************]  32 of 32 completed"
     ]
    },
    {
     "name": "stderr",
     "output_type": "stream",
     "text": [
      "\n",
      "12 Failed downloads:\n",
      "['ALOKTEXT.BO', 'DONEAR.BO', 'GANECOS.BO', 'RUBYMILLS.BO', 'SIYSIL.BO', 'RAJPALAYAM.BO', 'VOITHPAPR.BO', 'SPORTKING.BO', 'JINDWORLD.BO', 'NITINSPIN.BO', 'SANGAMIND.BO']: Exception('%ticker%: No price data found, symbol may be delisted (1m 2024-01-10 14:43:45.184511 -> 2024-01-10 15:13:45+05:30)')\n",
      "['RAJRAYON.BO']: Exception(\"%ticker%: Period 'max' is invalid, must be one of ['1d', '5d']\")\n"
     ]
    },
    {
     "name": "stdout",
     "output_type": "stream",
     "text": [
      "\n",
      "[*********************100%%**********************]  1 of 1 completed\n",
      "[*********************100%%**********************]  1 of 1 completed\n",
      "[*********************100%%**********************]  28 of 28 completed"
     ]
    },
    {
     "name": "stderr",
     "output_type": "stream",
     "text": [
      "\n",
      "1 Failed download:\n",
      "['PROTEAN.BO']: Exception(\"%ticker%: Period 'max' is invalid, must be one of ['1d', '5d']\")\n"
     ]
    },
    {
     "name": "stdout",
     "output_type": "stream",
     "text": [
      "\n",
      "[*********************100%%**********************]  28 of 28 completed"
     ]
    },
    {
     "name": "stderr",
     "output_type": "stream",
     "text": [
      "\n",
      "7 Failed downloads:\n",
      "['DIGISPICE.BO', 'BBOX.BO']: Exception('%ticker%: No price data found, symbol may be delisted (1m 2024-01-10 14:43:47.811725 -> 2024-01-10 15:13:47+05:30)')\n",
      "['MOLDTEK.BO', 'ASMS.BO', 'CIGNITI.BO', 'RSYSTEMINT.BO', 'SILVERTUC.BO']: Exception('%ticker%: No price data found, symbol may be delisted (1m 2024-01-10 14:43:47.811725 -> 2024-01-10 15:13:48+05:30)')\n"
     ]
    },
    {
     "name": "stdout",
     "output_type": "stream",
     "text": [
      "\n",
      "[*********************100%%**********************]  1 of 1 completed\n",
      "[*********************100%%**********************]  1 of 1 completed\n",
      "[*********************100%%**********************]  27 of 27 completed"
     ]
    },
    {
     "name": "stderr",
     "output_type": "stream",
     "text": [
      "\n",
      "2 Failed downloads:\n",
      "['CHEMFABALKA.BO', 'PRIMO.BO']: Exception(\"%ticker%: Period 'max' is invalid, must be one of ['1d', '5d']\")\n"
     ]
    },
    {
     "name": "stdout",
     "output_type": "stream",
     "text": [
      "\n",
      "[*********************100%%**********************]  27 of 27 completed"
     ]
    },
    {
     "name": "stderr",
     "output_type": "stream",
     "text": [
      "\n",
      "6 Failed downloads:\n",
      "['CHEMFABALKA.BO']: Exception(\"%ticker%: Period 'max' is invalid, must be one of ['1d', '5d']\")\n",
      "['VALIANTLAB.BO', 'KANORICHEM.BO', 'ORIENTCQ.BO', 'NATPEROX.BO', 'INDOBORAX.BO']: Exception('%ticker%: No price data found, symbol may be delisted (1m 2024-01-10 14:43:50.589310 -> 2024-01-10 15:13:50+05:30)')\n"
     ]
    },
    {
     "name": "stdout",
     "output_type": "stream",
     "text": [
      "\n",
      "[*********************100%%**********************]  1 of 1 completed\n",
      "[*********************100%%**********************]  1 of 1 completed\n",
      "[*********************100%%**********************]  21 of 21 completed\n",
      "[*********************100%%**********************]  21 of 21 completed"
     ]
    },
    {
     "name": "stderr",
     "output_type": "stream",
     "text": [
      "\n",
      "3 Failed downloads:\n",
      "['JYOTISTRUC.BO', 'VOLTAMP.BO', 'URJAGLOBA.BO']: Exception('%ticker%: No price data found, symbol may be delisted (1m 2024-01-10 14:43:53.329314 -> 2024-01-10 15:13:53+05:30)')\n"
     ]
    },
    {
     "name": "stdout",
     "output_type": "stream",
     "text": [
      "\n",
      "[*********************100%%**********************]  1 of 1 completed\n",
      "[*********************100%%**********************]  1 of 1 completed\n",
      "[*********************100%%**********************]  20 of 20 completed\n",
      "[*********************100%%**********************]  20 of 20 completed\n",
      "[*********************100%%**********************]  1 of 1 completed\n",
      "[*********************100%%**********************]  1 of 1 completed\n",
      "[*********************100%%**********************]  20 of 20 completed"
     ]
    },
    {
     "name": "stderr",
     "output_type": "stream",
     "text": [
      "\n",
      "1 Failed download:\n",
      "['BESTAGRO.BO']: Exception(\"%ticker%: Period 'max' is invalid, must be one of ['1d', '5d']\")\n"
     ]
    },
    {
     "name": "stdout",
     "output_type": "stream",
     "text": [
      "\n",
      "[*********************100%%**********************]  20 of 20 completed"
     ]
    },
    {
     "name": "stderr",
     "output_type": "stream",
     "text": [
      "\n",
      "5 Failed downloads:\n",
      "['ASTEC.BO', 'BHAGCHEM.BO', 'DHANUKA.BO', 'PUNJABCHEM.BO', 'KILPEST.BO']: Exception('%ticker%: No price data found, symbol may be delisted (1m 2024-01-10 14:43:59.430522 -> 2024-01-10 15:13:59+05:30)')\n"
     ]
    },
    {
     "name": "stdout",
     "output_type": "stream",
     "text": [
      "\n",
      "[*********************100%%**********************]  1 of 1 completed\n",
      "[*********************100%%**********************]  1 of 1 completed\n",
      "[*********************100%%**********************]  19 of 19 completed"
     ]
    },
    {
     "name": "stderr",
     "output_type": "stream",
     "text": [
      "\n",
      "1 Failed download:\n",
      "['TREL.BO']: Exception(\"%ticker%: Period 'max' is invalid, must be one of ['1d', '5d']\")\n"
     ]
    },
    {
     "name": "stdout",
     "output_type": "stream",
     "text": [
      "\n",
      "[*********************100%%**********************]  19 of 19 completed"
     ]
    },
    {
     "name": "stderr",
     "output_type": "stream",
     "text": [
      "\n",
      "4 Failed downloads:\n",
      "['TCIEXP.BO', 'TCI.BO']: Exception('%ticker%: No price data found, symbol may be delisted (1m 2024-01-10 14:44:01.828491 -> 2024-01-10 15:14:01+05:30)')\n",
      "['BLUEDART.BO', 'RITCO.BO']: Exception('%ticker%: No price data found, symbol may be delisted (1m 2024-01-10 14:44:01.828491 -> 2024-01-10 15:14:02+05:30)')\n"
     ]
    },
    {
     "name": "stdout",
     "output_type": "stream",
     "text": [
      "\n",
      "[*********************100%%**********************]  1 of 1 completed\n",
      "[*********************100%%**********************]  1 of 1 completed\n",
      "[*********************100%%**********************]  19 of 19 completed\n",
      "[*********************100%%**********************]  19 of 19 completed"
     ]
    },
    {
     "name": "stderr",
     "output_type": "stream",
     "text": [
      "\n",
      "9 Failed downloads:\n",
      "['AGI.BO', 'ESTER.BO', 'UFLEX.BO', 'XPROINDIA.BO', 'BBTCL.BO', 'TCPLPACK.BO', 'ORICON.BO']: Exception('%ticker%: No price data found, symbol may be delisted (1m 2024-01-10 14:44:03.965609 -> 2024-01-10 15:14:03+05:30)')\n",
      "['COSMOFIRST.BO', 'MOLDTKPAC.BO']: Exception('%ticker%: No price data found, symbol may be delisted (1m 2024-01-10 14:44:03.965609 -> 2024-01-10 15:14:04+05:30)')\n"
     ]
    },
    {
     "name": "stdout",
     "output_type": "stream",
     "text": [
      "\n",
      "[*********************100%%**********************]  1 of 1 completed\n",
      "[*********************100%%**********************]  1 of 1 completed\n",
      "[*********************100%%**********************]  19 of 19 completed"
     ]
    },
    {
     "name": "stderr",
     "output_type": "stream",
     "text": [
      "\n",
      "1 Failed download:\n",
      "['EUREKAFORBE.BO']: Exception(\"%ticker%: Period 'max' is invalid, must be one of ['1d', '5d']\")\n"
     ]
    },
    {
     "name": "stdout",
     "output_type": "stream",
     "text": [
      "\n",
      "[*********************100%%**********************]  19 of 19 completed"
     ]
    },
    {
     "name": "stderr",
     "output_type": "stream",
     "text": [
      "\n",
      "4 Failed downloads:\n",
      "['BUTTERFLY.BO', 'WEL.BO', 'IFBIND.BO', 'FORBESCO.BO']: Exception('%ticker%: No price data found, symbol may be delisted (1m 2024-01-10 14:44:06.246640 -> 2024-01-10 15:14:06+05:30)')\n"
     ]
    },
    {
     "name": "stdout",
     "output_type": "stream",
     "text": [
      "\n",
      "[*********************100%%**********************]  1 of 1 completed\n",
      "[*********************100%%**********************]  1 of 1 completed\n",
      "[*********************100%%**********************]  18 of 18 completed\n",
      "[*********************100%%**********************]  18 of 18 completed"
     ]
    },
    {
     "name": "stderr",
     "output_type": "stream",
     "text": [
      "\n",
      "7 Failed downloads:\n",
      "['INDPRUD.BO', 'OSWALGREEN.BO', 'KICL.BO', 'DHUNINV.BO', 'JSWHL.BO', 'JPOLYINVST.BO', 'STEL.BO']: Exception('%ticker%: No price data found, symbol may be delisted (1m 2024-01-10 14:44:08.145242 -> 2024-01-10 15:14:08+05:30)')\n"
     ]
    },
    {
     "name": "stdout",
     "output_type": "stream",
     "text": [
      "\n",
      "[*********************100%%**********************]  1 of 1 completed\n",
      "[*********************100%%**********************]  1 of 1 completed\n",
      "[*********************100%%**********************]  18 of 18 completed"
     ]
    },
    {
     "name": "stderr",
     "output_type": "stream",
     "text": [
      "\n",
      "2 Failed downloads:\n",
      "['CFF.BO', 'NIBE.BO']: Exception(\"%ticker%: Period 'max' is invalid, must be one of ['1d', '5d']\")\n"
     ]
    },
    {
     "name": "stdout",
     "output_type": "stream",
     "text": [
      "\n",
      "[*********************100%%**********************]  18 of 18 completed"
     ]
    },
    {
     "name": "stderr",
     "output_type": "stream",
     "text": [
      "\n",
      "2 Failed downloads:\n",
      "['ROSSELLIND.BO']: Exception('%ticker%: No price data found, symbol may be delisted (1m 2024-01-10 14:44:10.152021 -> 2024-01-10 15:14:10+05:30)')\n",
      "['NIBE.BO']: Exception(\"%ticker%: Period 'max' is invalid, must be one of ['1d', '5d']\")\n"
     ]
    },
    {
     "name": "stdout",
     "output_type": "stream",
     "text": [
      "\n",
      "[*********************100%%**********************]  1 of 1 completed\n",
      "[*********************100%%**********************]  1 of 1 completed\n",
      "[*********************100%%**********************]  18 of 18 completed"
     ]
    },
    {
     "name": "stderr",
     "output_type": "stream",
     "text": [
      "\n",
      "1 Failed download:\n",
      "['KHAZANCHI.BO']: Exception(\"%ticker%: Period 'max' is invalid, must be one of ['1d', '5d']\")\n"
     ]
    },
    {
     "name": "stdout",
     "output_type": "stream",
     "text": [
      "\n",
      "[*********************100%%**********************]  18 of 18 completed"
     ]
    },
    {
     "name": "stderr",
     "output_type": "stream",
     "text": [
      "\n",
      "4 Failed downloads:\n",
      "['KHAZANCHI.BO']: Exception(\"%ticker%: Period 'max' is invalid, must be one of ['1d', '5d']\")\n",
      "['KDDL.BO', 'TIMEX.BO', 'SKYGOLD.BO']: Exception('%ticker%: No price data found, symbol may be delisted (1m 2024-01-10 14:44:12.216513 -> 2024-01-10 15:14:12+05:30)')\n"
     ]
    },
    {
     "name": "stdout",
     "output_type": "stream",
     "text": [
      "\n",
      "[*********************100%%**********************]  1 of 1 completed\n",
      "[*********************100%%**********************]  1 of 1 completed\n",
      "[*********************100%%**********************]  17 of 17 completed"
     ]
    },
    {
     "name": "stderr",
     "output_type": "stream",
     "text": [
      "\n",
      "1 Failed download:\n",
      "['DAVANGERE.BO']: Exception(\"%ticker%: Period 'max' is invalid, must be one of ['1d', '5d']\")\n"
     ]
    },
    {
     "name": "stdout",
     "output_type": "stream",
     "text": [
      "\n",
      "[*********************100%%**********************]  17 of 17 completed"
     ]
    },
    {
     "name": "stderr",
     "output_type": "stream",
     "text": [
      "\n",
      "6 Failed downloads:\n",
      "['BANARISUG.BO', 'DCMSRMIND.BO', 'UGARSUGAR.BO', 'MAGADHSUGAR.BO', 'DALMIASUG.BO']: Exception('%ticker%: No price data found, symbol may be delisted (1m 2024-01-10 14:44:14.444950 -> 2024-01-10 15:14:14+05:30)')\n",
      "['DAVANGERE.BO']: Exception(\"%ticker%: Period 'max' is invalid, must be one of ['1d', '5d']\")\n"
     ]
    },
    {
     "name": "stdout",
     "output_type": "stream",
     "text": [
      "\n",
      "[*********************100%%**********************]  1 of 1 completed\n",
      "[*********************100%%**********************]  1 of 1 completed\n",
      "[*********************100%%**********************]  17 of 17 completed"
     ]
    },
    {
     "name": "stderr",
     "output_type": "stream",
     "text": [
      "\n",
      "3 Failed downloads:\n",
      "['WAAREE.BO', 'WAAREERTL.BO', 'INA.BO']: Exception(\"%ticker%: Period 'max' is invalid, must be one of ['1d', '5d']\")\n"
     ]
    },
    {
     "name": "stdout",
     "output_type": "stream",
     "text": [
      "\n",
      "[*********************100%%**********************]  17 of 17 completed"
     ]
    },
    {
     "name": "stderr",
     "output_type": "stream",
     "text": [
      "\n",
      "1 Failed download:\n",
      "['WAAREE.BO']: Exception(\"%ticker%: Period 'max' is invalid, must be one of ['1d', '5d']\")\n"
     ]
    },
    {
     "name": "stdout",
     "output_type": "stream",
     "text": [
      "\n",
      "[*********************100%%**********************]  1 of 1 completed\n",
      "[*********************100%%**********************]  1 of 1 completed\n",
      "[*********************100%%**********************]  17 of 17 completed"
     ]
    },
    {
     "name": "stderr",
     "output_type": "stream",
     "text": [
      "\n",
      "1 Failed download:\n",
      "['ARTEMISMED.BO']: Exception(\"%ticker%: Period 'max' is invalid, must be one of ['1d', '5d']\")\n"
     ]
    },
    {
     "name": "stdout",
     "output_type": "stream",
     "text": [
      "\n",
      "[*********************100%%**********************]  17 of 17 completed"
     ]
    },
    {
     "name": "stderr",
     "output_type": "stream",
     "text": [
      "\n",
      "2 Failed downloads:\n",
      "['KOVAI.BO', 'JLHL.BO']: Exception('%ticker%: No price data found, symbol may be delisted (1m 2024-01-10 14:44:18.274309 -> 2024-01-10 15:14:18+05:30)')\n"
     ]
    },
    {
     "name": "stdout",
     "output_type": "stream",
     "text": [
      "\n",
      "[*********************100%%**********************]  1 of 1 completed\n",
      "[*********************100%%**********************]  1 of 1 completed\n",
      "[*********************100%%**********************]  16 of 16 completed\n",
      "[*********************100%%**********************]  16 of 16 completed"
     ]
    },
    {
     "name": "stderr",
     "output_type": "stream",
     "text": [
      "\n",
      "1 Failed download:\n",
      "['MCCHRLS-B.BO']: Exception('%ticker%: No price data found, symbol may be delisted (1m 2024-01-10 14:44:20.240568 -> 2024-01-10 15:14:20+05:30)')\n"
     ]
    },
    {
     "name": "stdout",
     "output_type": "stream",
     "text": [
      "\n",
      "[*********************100%%**********************]  1 of 1 completed\n",
      "[*********************100%%**********************]  1 of 1 completed\n",
      "[*********************100%%**********************]  15 of 15 completed\n",
      "[*********************100%%**********************]  15 of 15 completed"
     ]
    },
    {
     "name": "stderr",
     "output_type": "stream",
     "text": [
      "\n",
      "4 Failed downloads:\n",
      "['MONTECARLO.BO', 'CANTABIL.BO', 'PGIL.BO', 'SPAL.BO']: Exception('%ticker%: No price data found, symbol may be delisted (1m 2024-01-10 14:44:22.205289 -> 2024-01-10 15:14:22+05:30)')\n"
     ]
    },
    {
     "name": "stdout",
     "output_type": "stream",
     "text": [
      "\n",
      "[*********************100%%**********************]  1 of 1 completed\n",
      "[*********************100%%**********************]  1 of 1 completed\n",
      "[*********************100%%**********************]  15 of 15 completed"
     ]
    },
    {
     "name": "stderr",
     "output_type": "stream",
     "text": [
      "\n",
      "1 Failed download:\n",
      "['AEPL.BO']: Exception(\"%ticker%: Period 'max' is invalid, must be one of ['1d', '5d']\")\n"
     ]
    },
    {
     "name": "stdout",
     "output_type": "stream",
     "text": [
      "\n",
      "[*********************100%%**********************]  15 of 15 completed"
     ]
    },
    {
     "name": "stderr",
     "output_type": "stream",
     "text": [
      "\n",
      "1 Failed download:\n",
      "['SALZER.BO']: Exception('%ticker%: No price data found, symbol may be delisted (1m 2024-01-10 14:44:24.629251 -> 2024-01-10 15:14:24+05:30)')\n"
     ]
    },
    {
     "name": "stdout",
     "output_type": "stream",
     "text": [
      "\n",
      "[*********************100%%**********************]  1 of 1 completed\n",
      "[*********************100%%**********************]  1 of 1 completed\n",
      "[*********************100%%**********************]  14 of 14 completed\n",
      "[*********************100%%**********************]  14 of 14 completed\n"
     ]
    },
    {
     "name": "stderr",
     "output_type": "stream",
     "text": [
      "\n",
      "2 Failed downloads:\n",
      "['EIDPARRY.BO', 'NAGARFERT.BO']: Exception('%ticker%: No price data found, symbol may be delisted (1m 2024-01-10 14:44:26.715377 -> 2024-01-10 15:14:26+05:30)')\n"
     ]
    },
    {
     "name": "stdout",
     "output_type": "stream",
     "text": [
      "[*********************100%%**********************]  1 of 1 completed\n",
      "[*********************100%%**********************]  1 of 1 completed\n",
      "[*********************100%%**********************]  14 of 14 completed\n",
      "[*********************100%%**********************]  14 of 14 completed"
     ]
    },
    {
     "name": "stderr",
     "output_type": "stream",
     "text": [
      "\n",
      "7 Failed downloads:\n",
      "['SHAILY.BO', 'INTELLCAP.BO', 'KRITIIND.BO', 'JISLDVREQS.BO', 'FINOLEXIND.BO', 'APOLLOPIPES.BO', 'KINGFA.BO']: Exception('%ticker%: No price data found, symbol may be delisted (1m 2024-01-10 14:44:28.560949 -> 2024-01-10 15:14:28+05:30)')\n"
     ]
    },
    {
     "name": "stdout",
     "output_type": "stream",
     "text": [
      "\n",
      "[*********************100%%**********************]  1 of 1 completed\n",
      "[*********************100%%**********************]  1 of 1 completed\n",
      "[*********************100%%**********************]  14 of 14 completed\n",
      "[*********************100%%**********************]  14 of 14 completed"
     ]
    },
    {
     "name": "stderr",
     "output_type": "stream",
     "text": [
      "\n",
      "3 Failed downloads:\n",
      "['ARIHCAPM.BO', 'SMCGLOBAL.BO', 'SYSTMTXC.BO']: Exception('%ticker%: No price data found, symbol may be delisted (1m 2024-01-10 14:44:30.331232 -> 2024-01-10 15:14:30+05:30)')\n"
     ]
    },
    {
     "name": "stdout",
     "output_type": "stream",
     "text": [
      "\n",
      "[*********************100%%**********************]  1 of 1 completed\n",
      "[*********************100%%**********************]  1 of 1 completed\n",
      "[*********************100%%**********************]  12 of 12 completed\n",
      "[*********************100%%**********************]  12 of 12 completed\n",
      "[*********************100%%**********************]  1 of 1 completed\n",
      "[*********************100%%**********************]  1 of 1 completed\n",
      "[*********************100%%**********************]  12 of 12 completed\n",
      "[*********************100%%**********************]  12 of 12 completed"
     ]
    },
    {
     "name": "stderr",
     "output_type": "stream",
     "text": [
      "\n",
      "2 Failed downloads:\n",
      "['NRAGRINDQ.BO', 'ANDHRAPAP.BO']: Exception('%ticker%: No price data found, symbol may be delisted (1m 2024-01-10 14:44:33.708193 -> 2024-01-10 15:14:33+05:30)')\n"
     ]
    },
    {
     "name": "stdout",
     "output_type": "stream",
     "text": [
      "\n",
      "[*********************100%%**********************]  1 of 1 completed\n",
      "[*********************100%%**********************]  1 of 1 completed\n",
      "[*********************100%%**********************]  12 of 12 completed\n",
      "[*********************100%%**********************]  12 of 12 completed"
     ]
    },
    {
     "name": "stderr",
     "output_type": "stream",
     "text": [
      "\n",
      "3 Failed downloads:\n",
      "['PILANIINVS.BO', 'AHL.BO', 'MAXINDIA.BO']: Exception('%ticker%: No price data found, symbol may be delisted (1m 2024-01-10 14:44:35.320000 -> 2024-01-10 15:14:35+05:30)')\n"
     ]
    },
    {
     "name": "stdout",
     "output_type": "stream",
     "text": [
      "\n",
      "[*********************100%%**********************]  1 of 1 completed\n",
      "[*********************100%%**********************]  1 of 1 completed\n",
      "[*********************100%%**********************]  12 of 12 completed"
     ]
    },
    {
     "name": "stderr",
     "output_type": "stream",
     "text": [
      "\n",
      "1 Failed download:\n",
      "['MUFTI.BO']: Exception(\"%ticker%: Period 'max' is invalid, must be one of ['1d', '5d']\")\n"
     ]
    },
    {
     "name": "stdout",
     "output_type": "stream",
     "text": [
      "\n",
      "[*********************100%%**********************]  12 of 12 completed"
     ]
    },
    {
     "name": "stderr",
     "output_type": "stream",
     "text": [
      "\n",
      "1 Failed download:\n",
      "['BCONCEPTS.BO']: Exception('%ticker%: No price data found, symbol may be delisted (1m 2024-01-10 14:44:36.794450 -> 2024-01-10 15:14:36+05:30)')\n"
     ]
    },
    {
     "name": "stdout",
     "output_type": "stream",
     "text": [
      "\n",
      "[*********************100%%**********************]  1 of 1 completed\n",
      "[*********************100%%**********************]  1 of 1 completed\n",
      "[*********************100%%**********************]  12 of 12 completed"
     ]
    },
    {
     "name": "stderr",
     "output_type": "stream",
     "text": [
      "\n",
      "5 Failed downloads:\n",
      "['MSTC.BO', 'YSL.BO', 'NSL.BO', 'REMLIFE.BO']: Exception(\"%ticker%: Period 'max' is invalid, must be one of ['1d', '5d']\")\n",
      "['NEWINFRA.BO']: Exception('%ticker%: No price data found, symbol may be delisted (1d 1925-02-03 -> 2024-01-10)')\n"
     ]
    },
    {
     "name": "stdout",
     "output_type": "stream",
     "text": [
      "\n",
      "[*********************100%%**********************]  12 of 12 completed"
     ]
    },
    {
     "name": "stderr",
     "output_type": "stream",
     "text": [
      "\n",
      "7 Failed downloads:\n",
      "['VERITAS.BO', 'HARDWYN.BO', 'PQIF.BO', 'NEWINFRA.BO']: Exception('%ticker%: No price data found, symbol may be delisted (1m 2024-01-10 14:44:38.308084 -> 2024-01-10 15:14:38+05:30)')\n",
      "['YSL.BO', 'NSL.BO', 'MSTC.BO']: Exception(\"%ticker%: Period 'max' is invalid, must be one of ['1d', '5d']\")\n"
     ]
    },
    {
     "name": "stdout",
     "output_type": "stream",
     "text": [
      "\n",
      "[*********************100%%**********************]  1 of 1 completed\n",
      "[*********************100%%**********************]  1 of 1 completed\n",
      "[*********************100%%**********************]  11 of 11 completed\n",
      "[*********************100%%**********************]  11 of 11 completed"
     ]
    },
    {
     "name": "stderr",
     "output_type": "stream",
     "text": [
      "\n",
      "3 Failed downloads:\n",
      "['YUKEN.BO', 'INGERRAND.BO', 'SWARAJENG.BO']: Exception('%ticker%: No price data found, symbol may be delisted (1m 2024-01-10 14:44:40.185812 -> 2024-01-10 15:14:40+05:30)')\n"
     ]
    },
    {
     "name": "stdout",
     "output_type": "stream",
     "text": [
      "\n",
      "[*********************100%%**********************]  1 of 1 completed\n",
      "[*********************100%%**********************]  1 of 1 completed\n",
      "[*********************100%%**********************]  11 of 11 completed\n",
      "[*********************100%%**********************]  11 of 11 completed"
     ]
    },
    {
     "name": "stderr",
     "output_type": "stream",
     "text": [
      "\n",
      "1 Failed download:\n",
      "['JAIBALAJI.BO']: Exception('%ticker%: No price data found, symbol may be delisted (1m 2024-01-10 14:44:41.746604 -> 2024-01-10 15:14:41+05:30)')\n"
     ]
    },
    {
     "name": "stdout",
     "output_type": "stream",
     "text": [
      "\n",
      "[*********************100%%**********************]  1 of 1 completed\n",
      "[*********************100%%**********************]  1 of 1 completed\n",
      "[*********************100%%**********************]  11 of 11 completed\n",
      "[*********************100%%**********************]  11 of 11 completed"
     ]
    },
    {
     "name": "stderr",
     "output_type": "stream",
     "text": [
      "\n",
      "1 Failed download:\n",
      "['TASTYBIT.BO']: Exception('%ticker%: No price data found, symbol may be delisted (1m 2024-01-10 14:44:43.241558 -> 2024-01-10 15:14:43+05:30)')\n"
     ]
    },
    {
     "name": "stdout",
     "output_type": "stream",
     "text": [
      "\n",
      "[*********************100%%**********************]  1 of 1 completed\n",
      "[*********************100%%**********************]  1 of 1 completed\n",
      "[*********************100%%**********************]  11 of 11 completed\n",
      "[*********************100%%**********************]  11 of 11 completed"
     ]
    },
    {
     "name": "stderr",
     "output_type": "stream",
     "text": [
      "\n",
      "3 Failed downloads:\n",
      "['CHAMANSEQ.BO', 'RAFL.BO', 'GRMOVER.BO']: Exception('%ticker%: No price data found, symbol may be delisted (1m 2024-01-10 14:44:44.782441 -> 2024-01-10 15:14:44+05:30)')\n"
     ]
    },
    {
     "name": "stdout",
     "output_type": "stream",
     "text": [
      "\n",
      "[*********************100%%**********************]  1 of 1 completed\n",
      "[*********************100%%**********************]  1 of 1 completed\n",
      "[*********************100%%**********************]  10 of 10 completed\n",
      "[*********************100%%**********************]  10 of 10 completed\n",
      "[*********************100%%**********************]  1 of 1 completed\n",
      "[*********************100%%**********************]  1 of 1 completed\n",
      "[*********************100%%**********************]  10 of 10 completed"
     ]
    },
    {
     "name": "stderr",
     "output_type": "stream",
     "text": [
      "\n",
      "1 Failed download:\n",
      "['STARHFL.BO']: Exception(\"%ticker%: Period 'max' is invalid, must be one of ['1d', '5d']\")\n"
     ]
    },
    {
     "name": "stdout",
     "output_type": "stream",
     "text": [
      "\n",
      "[*********************100%%**********************]  10 of 10 completed"
     ]
    },
    {
     "name": "stderr",
     "output_type": "stream",
     "text": [
      "\n",
      "1 Failed download:\n",
      "['STARHFL.BO']: Exception(\"%ticker%: Period 'max' is invalid, must be one of ['1d', '5d']\")\n"
     ]
    },
    {
     "name": "stdout",
     "output_type": "stream",
     "text": [
      "\n",
      "[*********************100%%**********************]  1 of 1 completed\n",
      "[*********************100%%**********************]  1 of 1 completed\n",
      "[*********************100%%**********************]  10 of 10 completed\n",
      "[*********************100%%**********************]  10 of 10 completed\n",
      "[*********************100%%**********************]  1 of 1 completed\n",
      "[*********************100%%**********************]  1 of 1 completed\n",
      "[*********************100%%**********************]  10 of 10 completed\n",
      "[*********************100%%**********************]  9 of 10 completed"
     ]
    },
    {
     "name": "stderr",
     "output_type": "stream",
     "text": [
      "\n",
      "2 Failed downloads:\n",
      "['GILLETTE.BO', 'PGHH.BO']: Exception('%ticker%: No price data found, symbol may be delisted (1m 2024-01-10 14:44:50.135768 -> 2024-01-10 15:14:50+05:30)')\n"
     ]
    },
    {
     "name": "stdout",
     "output_type": "stream",
     "text": [
      "\n",
      "[*********************100%%**********************]  1 of 1 completed\n",
      "[*********************100%%**********************]  1 of 1 completed\n",
      "[*********************100%%**********************]  9 of 9 completed\n",
      "[*********************100%%**********************]  9 of 9 completed"
     ]
    },
    {
     "name": "stderr",
     "output_type": "stream",
     "text": [
      "\n",
      "3 Failed downloads:\n",
      "['MORGANITE.BO', 'ORIENTCER.BO', 'RPEL.BO']: Exception('%ticker%: No price data found, symbol may be delisted (1m 2024-01-10 14:44:51.488430 -> 2024-01-10 15:14:51+05:30)')\n"
     ]
    },
    {
     "name": "stdout",
     "output_type": "stream",
     "text": [
      "\n",
      "[*********************100%%**********************]  1 of 1 completed\n",
      "[*********************100%%**********************]  1 of 1 completed\n",
      "[*********************100%%**********************]  9 of 9 completed"
     ]
    },
    {
     "name": "stderr",
     "output_type": "stream",
     "text": [
      "\n",
      "1 Failed download:\n",
      "['BLUECLOUDS.BO']: Exception('%ticker%: No price data found, symbol may be delisted (1d 1925-02-03 -> 2024-01-10)')\n"
     ]
    },
    {
     "name": "stdout",
     "output_type": "stream",
     "text": [
      "\n",
      "[*********************100%%**********************]  9 of 9 completed"
     ]
    },
    {
     "name": "stderr",
     "output_type": "stream",
     "text": [
      "\n",
      "1 Failed download:\n",
      "['SUBEX.BO']: Exception('%ticker%: No price data found, symbol may be delisted (1m 2024-01-10 14:44:52.840124 -> 2024-01-10 15:14:52+05:30)')\n"
     ]
    },
    {
     "name": "stdout",
     "output_type": "stream",
     "text": [
      "\n",
      "[*********************100%%**********************]  1 of 1 completed\n",
      "[*********************100%%**********************]  1 of 1 completed\n",
      "[*********************100%%**********************]  9 of 9 completed\n",
      "[*********************100%%**********************]  9 of 9 completed"
     ]
    },
    {
     "name": "stderr",
     "output_type": "stream",
     "text": [
      "\n",
      "2 Failed downloads:\n",
      "['DVL.BO', 'TTKHEALTH.BO']: Exception('%ticker%: No price data found, symbol may be delisted (1m 2024-01-10 14:44:54.141361 -> 2024-01-10 15:14:54+05:30)')\n"
     ]
    },
    {
     "name": "stdout",
     "output_type": "stream",
     "text": [
      "\n",
      "[*********************100%%**********************]  1 of 1 completed\n",
      "[*********************100%%**********************]  1 of 1 completed\n",
      "[*********************100%%**********************]  9 of 9 completed\n",
      "[*********************100%%**********************]  9 of 9 completed\n",
      "[*********************100%%**********************]  1 of 1 completed\n",
      "[*********************100%%**********************]  1 of 1 completed\n",
      "[*********************100%%**********************]  8 of 8 completed\n",
      "[*********************100%%**********************]  8 of 8 completed"
     ]
    },
    {
     "name": "stderr",
     "output_type": "stream",
     "text": [
      "\n",
      "1 Failed download:\n",
      "['20MICRONS.BO']: Exception('%ticker%: No price data found, symbol may be delisted (1m 2024-01-10 14:44:56.745984 -> 2024-01-10 15:14:56+05:30)')\n"
     ]
    },
    {
     "name": "stdout",
     "output_type": "stream",
     "text": [
      "\n",
      "[*********************100%%**********************]  1 of 1 completed\n",
      "[*********************100%%**********************]  1 of 1 completed\n",
      "[*********************100%%**********************]  8 of 8 completed"
     ]
    },
    {
     "name": "stderr",
     "output_type": "stream",
     "text": [
      "\n",
      "1 Failed download:\n",
      "['ADVAIT.BO']: Exception(\"%ticker%: Period 'max' is invalid, must be one of ['1d', '5d']\")\n"
     ]
    },
    {
     "name": "stdout",
     "output_type": "stream",
     "text": [
      "\n",
      "[*********************100%%**********************]  8 of 8 completed"
     ]
    },
    {
     "name": "stderr",
     "output_type": "stream",
     "text": [
      "\n",
      "2 Failed downloads:\n",
      "['UNIVCABLES.BO', 'DYNAMIC.BO']: Exception('%ticker%: No price data found, symbol may be delisted (1m 2024-01-10 14:44:57.895626 -> 2024-01-10 15:14:57+05:30)')\n"
     ]
    },
    {
     "name": "stdout",
     "output_type": "stream",
     "text": [
      "\n",
      "[*********************100%%**********************]  1 of 1 completed\n",
      "[*********************100%%**********************]  1 of 1 completed\n",
      "[*********************100%%**********************]  8 of 8 completed"
     ]
    },
    {
     "name": "stderr",
     "output_type": "stream",
     "text": [
      "\n",
      "1 Failed download:\n",
      "['BCLIL.BO']: Exception(\"%ticker%: Period 'max' is invalid, must be one of ['1d', '5d']\")\n"
     ]
    },
    {
     "name": "stdout",
     "output_type": "stream",
     "text": [
      "\n",
      "[*********************100%%**********************]  8 of 8 completed"
     ]
    },
    {
     "name": "stderr",
     "output_type": "stream",
     "text": [
      "\n",
      "3 Failed downloads:\n",
      "['ATFL.BO', 'GOKULAGRO.BO']: Exception('%ticker%: No price data found, symbol may be delisted (1m 2024-01-10 14:44:59.184206 -> 2024-01-10 15:14:59+05:30)')\n",
      "['BCLIL.BO']: Exception(\"%ticker%: Period 'max' is invalid, must be one of ['1d', '5d']\")\n"
     ]
    },
    {
     "name": "stdout",
     "output_type": "stream",
     "text": [
      "\n",
      "[*********************100%%**********************]  1 of 1 completed\n",
      "[*********************100%%**********************]  1 of 1 completed\n",
      "[*********************100%%**********************]  8 of 8 completed\n",
      "[*********************100%%**********************]  8 of 8 completed"
     ]
    },
    {
     "name": "stderr",
     "output_type": "stream",
     "text": [
      "\n",
      "2 Failed downloads:\n",
      "['SPECIALITY.BO', 'WESTLIFE.BO']: Exception('%ticker%: No price data found, symbol may be delisted (1m 2024-01-10 14:45:00.252079 -> 2024-01-10 15:15:00+05:30)')\n"
     ]
    },
    {
     "name": "stdout",
     "output_type": "stream",
     "text": [
      "\n",
      "[*********************100%%**********************]  1 of 1 completed\n",
      "[*********************100%%**********************]  1 of 1 completed\n",
      "[*********************100%%**********************]  8 of 8 completed\n",
      "[*********************100%%**********************]  8 of 8 completed"
     ]
    },
    {
     "name": "stderr",
     "output_type": "stream",
     "text": [
      "\n",
      "1 Failed download:\n",
      "['SHALPAINTS.BO']: Exception('%ticker%: No price data found, symbol may be delisted (1m 2024-01-10 14:45:01.914099 -> 2024-01-10 15:15:01+05:30)')\n"
     ]
    },
    {
     "name": "stdout",
     "output_type": "stream",
     "text": [
      "\n",
      "[*********************100%%**********************]  1 of 1 completed\n",
      "[*********************100%%**********************]  1 of 1 completed\n",
      "[*********************100%%**********************]  8 of 8 completed"
     ]
    },
    {
     "name": "stderr",
     "output_type": "stream",
     "text": [
      "\n",
      "3 Failed downloads:\n",
      "['ORIRAIL.BO', 'SEALMATIC.BO', 'MESON.BO']: Exception(\"%ticker%: Period 'max' is invalid, must be one of ['1d', '5d']\")\n"
     ]
    },
    {
     "name": "stdout",
     "output_type": "stream",
     "text": [
      "\n",
      "[*********************100%%**********************]  8 of 8 completed"
     ]
    },
    {
     "name": "stderr",
     "output_type": "stream",
     "text": [
      "\n",
      "4 Failed downloads:\n",
      "['ESABINDIA.BO', 'ADORWELD.BO']: Exception('%ticker%: No price data found, symbol may be delisted (1m 2024-01-10 14:45:03.205896 -> 2024-01-10 15:15:03+05:30)')\n",
      "['MESON.BO', 'SEALMATIC.BO']: Exception(\"%ticker%: Period 'max' is invalid, must be one of ['1d', '5d']\")\n"
     ]
    },
    {
     "name": "stdout",
     "output_type": "stream",
     "text": [
      "\n",
      "[*********************100%%**********************]  1 of 1 completed\n",
      "[*********************100%%**********************]  1 of 1 completed\n",
      "[*********************100%%**********************]  7 of 7 completed\n",
      "[*********************100%%**********************]  7 of 7 completed"
     ]
    },
    {
     "name": "stderr",
     "output_type": "stream",
     "text": [
      "\n",
      "3 Failed downloads:\n",
      "['STEELCAS.BO', 'NELCAST.BO', 'MMFL.BO']: Exception('%ticker%: No price data found, symbol may be delisted (1m 2024-01-10 14:45:04.516011 -> 2024-01-10 15:15:04+05:30)')\n"
     ]
    },
    {
     "name": "stdout",
     "output_type": "stream",
     "text": [
      "\n",
      "[*********************100%%**********************]  1 of 1 completed\n",
      "[*********************100%%**********************]  1 of 1 completed\n",
      "[*********************100%%**********************]  7 of 7 completed\n",
      "[*********************100%%**********************]  7 of 7 completed\n",
      "[*********************100%%**********************]  1 of 1 completed\n",
      "[*********************100%%**********************]  1 of 1 completed\n",
      "[*********************100%%**********************]  7 of 7 completed"
     ]
    },
    {
     "name": "stderr",
     "output_type": "stream",
     "text": [
      "\n",
      "1 Failed download:\n",
      "['MERCURYEV.BO']: Exception(\"%ticker%: Period 'max' is invalid, must be one of ['1d', '5d']\")\n"
     ]
    },
    {
     "name": "stdout",
     "output_type": "stream",
     "text": [
      "\n",
      "[*********************100%%**********************]  7 of 7 completed\n",
      "[*********************100%%**********************]  1 of 1 completed\n",
      "[*********************100%%**********************]  1 of 1 completed\n",
      "[*********************100%%**********************]  7 of 7 completed\n",
      "[*********************100%%**********************]  7 of 7 completed\n",
      "[*********************100%%**********************]  1 of 1 completed\n",
      "[*********************100%%**********************]  1 of 1 completed\n",
      "[*********************100%%**********************]  7 of 7 completed\n",
      "[*********************100%%**********************]  7 of 7 completed\n",
      "[*********************100%%**********************]  1 of 1 completed\n",
      "[*********************100%%**********************]  1 of 1 completed\n",
      "[*********************100%%**********************]  7 of 7 completed\n",
      "[*********************100%%**********************]  7 of 7 completed\n",
      "[*********************100%%**********************]  1 of 1 completed\n",
      "[*********************100%%**********************]  1 of 1 completed\n",
      "[*********************100%%**********************]  7 of 7 completed\n",
      "[*********************100%%**********************]  7 of 7 completed"
     ]
    },
    {
     "name": "stderr",
     "output_type": "stream",
     "text": [
      "\n",
      "1 Failed download:\n",
      "['KHADIM.BO']: Exception('%ticker%: No price data found, symbol may be delisted (1m 2024-01-10 14:45:17.582136 -> 2024-01-10 15:15:17+05:30)')\n"
     ]
    },
    {
     "name": "stdout",
     "output_type": "stream",
     "text": [
      "\n",
      "[*********************100%%**********************]  1 of 1 completed\n",
      "[*********************100%%**********************]  1 of 1 completed\n",
      "[*********************100%%**********************]  6 of 6 completed\n",
      "[*********************100%%**********************]  6 of 6 completed\n",
      "[*********************100%%**********************]  1 of 1 completed\n",
      "[*********************100%%**********************]  1 of 1 completed\n",
      "[*********************100%%**********************]  6 of 6 completed\n",
      "[*********************100%%**********************]  6 of 6 completed"
     ]
    },
    {
     "name": "stderr",
     "output_type": "stream",
     "text": [
      "\n",
      "1 Failed download:\n",
      "['TIDEWATER.BO']: Exception('%ticker%: No price data found, symbol may be delisted (1m 2024-01-10 14:45:20.620218 -> 2024-01-10 15:15:20+05:30)')\n"
     ]
    },
    {
     "name": "stdout",
     "output_type": "stream",
     "text": [
      "\n",
      "[*********************100%%**********************]  1 of 1 completed\n",
      "[*********************100%%**********************]  1 of 1 completed\n",
      "[*********************100%%**********************]  6 of 6 completed\n",
      "[*********************100%%**********************]  6 of 6 completed\n",
      "[*********************100%%**********************]  1 of 1 completed\n",
      "[*********************100%%**********************]  1 of 1 completed\n",
      "[*********************100%%**********************]  6 of 6 completed\n",
      "[*********************100%%**********************]  6 of 6 completed"
     ]
    },
    {
     "name": "stderr",
     "output_type": "stream",
     "text": [
      "\n",
      "1 Failed download:\n",
      "['AGARIND.BO']: Exception('%ticker%: No price data found, symbol may be delisted (1m 2024-01-10 14:45:23.446054 -> 2024-01-10 15:15:23+05:30)')\n"
     ]
    },
    {
     "name": "stdout",
     "output_type": "stream",
     "text": [
      "\n",
      "[*********************100%%**********************]  1 of 1 completed\n",
      "[*********************100%%**********************]  1 of 1 completed\n",
      "[*********************100%%**********************]  6 of 6 completed"
     ]
    },
    {
     "name": "stderr",
     "output_type": "stream",
     "text": [
      "\n",
      "1 Failed download:\n",
      "['AQFINTECH.BO']: Exception(\"%ticker%: Period 'max' is invalid, must be one of ['1d', '5d']\")\n"
     ]
    },
    {
     "name": "stdout",
     "output_type": "stream",
     "text": [
      "\n",
      "[*********************100%%**********************]  6 of 6 completed\n",
      "[*********************100%%**********************]  1 of 1 completed\n",
      "[*********************100%%**********************]  1 of 1 completed\n",
      "[*********************100%%**********************]  6 of 6 completed"
     ]
    },
    {
     "name": "stderr",
     "output_type": "stream",
     "text": [
      "\n",
      "1 Failed download:\n",
      "['BONDADA.BO']: Exception(\"%ticker%: Period 'max' is invalid, must be one of ['1d', '5d']\")\n"
     ]
    },
    {
     "name": "stdout",
     "output_type": "stream",
     "text": [
      "\n",
      "[*********************100%%**********************]  6 of 6 completed"
     ]
    },
    {
     "name": "stderr",
     "output_type": "stream",
     "text": [
      "\n",
      "2 Failed downloads:\n",
      "['BONDADA.BO']: Exception(\"%ticker%: Period 'max' is invalid, must be one of ['1d', '5d']\")\n",
      "['VINDHYATEL.BO']: Exception('%ticker%: No price data found, symbol may be delisted (1m 2024-01-10 14:45:26.458545 -> 2024-01-10 15:15:26+05:30)')\n"
     ]
    },
    {
     "name": "stdout",
     "output_type": "stream",
     "text": [
      "\n",
      "[*********************100%%**********************]  1 of 1 completed\n",
      "[*********************100%%**********************]  1 of 1 completed\n",
      "[*********************100%%**********************]  6 of 6 completed\n",
      "[*********************100%%**********************]  6 of 6 completed"
     ]
    },
    {
     "name": "stderr",
     "output_type": "stream",
     "text": [
      "\n",
      "1 Failed download:\n",
      "['SASTASUNDR.BO']: Exception('%ticker%: No price data found, symbol may be delisted (1m 2024-01-10 14:45:27.648658 -> 2024-01-10 15:15:27+05:30)')\n"
     ]
    },
    {
     "name": "stdout",
     "output_type": "stream",
     "text": [
      "\n",
      "[*********************100%%**********************]  1 of 1 completed\n",
      "[*********************100%%**********************]  1 of 1 completed\n",
      "[*********************100%%**********************]  6 of 6 completed\n",
      "[*********************100%%**********************]  6 of 6 completed"
     ]
    },
    {
     "name": "stderr",
     "output_type": "stream",
     "text": [
      "\n",
      "1 Failed download:\n",
      "['RPSGVENT.BO']: Exception('%ticker%: No price data found, symbol may be delisted (1m 2024-01-10 14:45:29.139870 -> 2024-01-10 15:15:29+05:30)')\n"
     ]
    },
    {
     "name": "stdout",
     "output_type": "stream",
     "text": [
      "\n",
      "[*********************100%%**********************]  1 of 1 completed\n",
      "[*********************100%%**********************]  1 of 1 completed\n",
      "[*********************100%%**********************]  6 of 6 completed"
     ]
    },
    {
     "name": "stderr",
     "output_type": "stream",
     "text": [
      "\n",
      "1 Failed download:\n",
      "['WARDINMOBI.BO']: Exception(\"%ticker%: Period 'max' is invalid, must be one of ['1d', '5d']\")\n"
     ]
    },
    {
     "name": "stdout",
     "output_type": "stream",
     "text": [
      "\n",
      "[*********************100%%**********************]  6 of 6 completed"
     ]
    },
    {
     "name": "stderr",
     "output_type": "stream",
     "text": [
      "\n",
      "1 Failed download:\n",
      "['SCOOTER.BO']: Exception('%ticker%: No price data found, symbol may be delisted (1m 2024-01-10 14:45:30.897490 -> 2024-01-10 15:15:30+05:30)')\n"
     ]
    },
    {
     "name": "stdout",
     "output_type": "stream",
     "text": [
      "\n",
      "[*********************100%%**********************]  1 of 1 completed\n",
      "[*********************100%%**********************]  1 of 1 completed\n",
      "[*********************100%%**********************]  6 of 6 completed\n",
      "[*********************100%%**********************]  6 of 6 completed"
     ]
    },
    {
     "name": "stderr",
     "output_type": "stream",
     "text": [
      "\n",
      "2 Failed downloads:\n",
      "['TVSELECT.BO', 'DLINKINDIA.BO']: Exception('%ticker%: No price data found, symbol may be delisted (1m 2024-01-10 14:45:32.595609 -> 2024-01-10 15:15:32+05:30)')\n"
     ]
    },
    {
     "name": "stdout",
     "output_type": "stream",
     "text": [
      "\n",
      "[*********************100%%**********************]  1 of 1 completed\n",
      "[*********************100%%**********************]  1 of 1 completed\n",
      "[*********************100%%**********************]  6 of 6 completed\n",
      "[*********************100%%**********************]  6 of 6 completed"
     ]
    },
    {
     "name": "stderr",
     "output_type": "stream",
     "text": [
      "\n",
      "1 Failed download:\n",
      "['PGEL.BO']: Exception('%ticker%: No price data found, symbol may be delisted (1m 2024-01-10 14:45:34.091351 -> 2024-01-10 15:15:34+05:30)')\n"
     ]
    },
    {
     "name": "stdout",
     "output_type": "stream",
     "text": [
      "\n",
      "[*********************100%%**********************]  1 of 1 completed\n",
      "[*********************100%%**********************]  1 of 1 completed\n",
      "[*********************100%%**********************]  6 of 6 completed\n",
      "[*********************100%%**********************]  6 of 6 completed"
     ]
    },
    {
     "name": "stderr",
     "output_type": "stream",
     "text": [
      "\n",
      "3 Failed downloads:\n",
      "['BHAGIL.BO', 'SHREEPUSHK.BO', 'KIRIINDUS.BO']: Exception('%ticker%: No price data found, symbol may be delisted (1m 2024-01-10 14:45:35.561637 -> 2024-01-10 15:15:35+05:30)')\n"
     ]
    },
    {
     "name": "stdout",
     "output_type": "stream",
     "text": [
      "\n",
      "[*********************100%%**********************]  1 of 1 completed\n",
      "[*********************100%%**********************]  1 of 1 completed\n",
      "[*********************100%%**********************]  6 of 6 completed\n",
      "[*********************100%%**********************]  6 of 6 completed\n",
      "[*********************100%%**********************]  1 of 1 completed\n",
      "[*********************100%%**********************]  1 of 1 completed\n",
      "[*********************100%%**********************]  5 of 5 completed\n",
      "[*********************100%%**********************]  5 of 5 completed"
     ]
    },
    {
     "name": "stderr",
     "output_type": "stream",
     "text": [
      "\n",
      "1 Failed download:\n",
      "['EXXARO.BO']: Exception('%ticker%: No price data found, symbol may be delisted (1m 2024-01-10 14:45:38.937548 -> 2024-01-10 15:15:38+05:30)')\n"
     ]
    },
    {
     "name": "stdout",
     "output_type": "stream",
     "text": [
      "\n",
      "[*********************100%%**********************]  1 of 1 completed\n",
      "[*********************100%%**********************]  1 of 1 completed\n",
      "[*********************100%%**********************]  5 of 5 completed\n",
      "[*********************100%%**********************]  5 of 5 completed\n",
      "[*********************100%%**********************]  1 of 1 completed\n",
      "[*********************100%%**********************]  1 of 1 completed\n",
      "[*********************100%%**********************]  5 of 5 completed\n",
      "[*********************100%%**********************]  5 of 5 completed"
     ]
    },
    {
     "name": "stderr",
     "output_type": "stream",
     "text": [
      "\n",
      "3 Failed downloads:\n",
      "['EVEREADY.BO', 'JINDALPHOT.BO', 'NIPPOBATRY.BO']: Exception('%ticker%: No price data found, symbol may be delisted (1m 2024-01-10 14:45:44.180197 -> 2024-01-10 15:15:44+05:30)')\n"
     ]
    },
    {
     "name": "stdout",
     "output_type": "stream",
     "text": [
      "\n",
      "[*********************100%%**********************]  1 of 1 completed\n",
      "[*********************100%%**********************]  1 of 1 completed\n",
      "[*********************100%%**********************]  5 of 5 completed\n",
      "[*********************100%%**********************]  5 of 5 completed"
     ]
    },
    {
     "name": "stderr",
     "output_type": "stream",
     "text": [
      "\n",
      "1 Failed download:\n",
      "['CLEDUCATE.BO']: Exception('%ticker%: No price data found, symbol may be delisted (1m 2024-01-10 14:45:46.010769 -> 2024-01-10 15:15:46+05:30)')\n"
     ]
    },
    {
     "name": "stdout",
     "output_type": "stream",
     "text": [
      "\n",
      "[*********************100%%**********************]  1 of 1 completed\n",
      "[*********************100%%**********************]  1 of 1 completed\n",
      "[*********************100%%**********************]  5 of 5 completed\n",
      "[*********************100%%**********************]  5 of 5 completed\n",
      "[*********************100%%**********************]  1 of 1 completed\n",
      "[*********************100%%**********************]  1 of 1 completed\n",
      "[*********************100%%**********************]  5 of 5 completed\n",
      "[*********************100%%**********************]  5 of 5 completed\n",
      "[*********************100%%**********************]  1 of 1 completed\n",
      "[*********************100%%**********************]  1 of 1 completed\n",
      "[*********************100%%**********************]  5 of 5 completed\n",
      "[*********************100%%**********************]  5 of 5 completed"
     ]
    },
    {
     "name": "stderr",
     "output_type": "stream",
     "text": [
      "\n",
      "1 Failed download:\n",
      "['GRNLAMIND.BO']: Exception('%ticker%: No price data found, symbol may be delisted (1m 2024-01-10 14:45:51.640714 -> 2024-01-10 15:15:51+05:30)')\n"
     ]
    },
    {
     "name": "stdout",
     "output_type": "stream",
     "text": [
      "\n",
      "[*********************100%%**********************]  1 of 1 completed\n",
      "[*********************100%%**********************]  1 of 1 completed\n",
      "[*********************100%%**********************]  5 of 5 completed\n",
      "[*********************100%%**********************]  5 of 5 completed"
     ]
    },
    {
     "name": "stderr",
     "output_type": "stream",
     "text": [
      "\n",
      "1 Failed download:\n",
      "['SANDESH.BO']: Exception('%ticker%: No price data found, symbol may be delisted (1m 2024-01-10 14:45:53.211420 -> 2024-01-10 15:15:53+05:30)')\n"
     ]
    },
    {
     "name": "stdout",
     "output_type": "stream",
     "text": [
      "\n",
      "[*********************100%%**********************]  1 of 1 completed\n",
      "[*********************100%%**********************]  1 of 1 completed\n",
      "[*********************100%%**********************]  5 of 5 completed\n",
      "[*********************100%%**********************]  5 of 5 completed\n",
      "[*********************100%%**********************]  1 of 1 completed\n",
      "[*********************100%%**********************]  1 of 1 completed\n",
      "[*********************100%%**********************]  5 of 5 completed\n",
      "[*********************100%%**********************]  5 of 5 completed\n",
      "[*********************100%%**********************]  1 of 1 completed\n",
      "[*********************100%%**********************]  1 of 1 completed\n",
      "[*********************100%%**********************]  5 of 5 completed"
     ]
    },
    {
     "name": "stderr",
     "output_type": "stream",
     "text": [
      "\n",
      "1 Failed download:\n",
      "['MUTHOOTMF.BO']: Exception(\"%ticker%: Period 'max' is invalid, must be one of ['1d', '5d']\")\n"
     ]
    },
    {
     "name": "stdout",
     "output_type": "stream",
     "text": [
      "\n",
      "[*********************100%%**********************]  5 of 5 completed\n",
      "[*********************100%%**********************]  1 of 1 completed\n",
      "[*********************100%%**********************]  1 of 1 completed\n",
      "[*********************100%%**********************]  5 of 5 completed\n",
      "[*********************100%%**********************]  5 of 5 completed"
     ]
    },
    {
     "name": "stderr",
     "output_type": "stream",
     "text": [
      "\n",
      "1 Failed download:\n",
      "['WENDT.BO']: Exception('%ticker%: No price data found, symbol may be delisted (1m 2024-01-10 14:45:59.928894 -> 2024-01-10 15:15:59+05:30)')\n"
     ]
    },
    {
     "name": "stdout",
     "output_type": "stream",
     "text": [
      "\n",
      "[*********************100%%**********************]  1 of 1 completed\n",
      "[*********************100%%**********************]  1 of 1 completed\n",
      "[*********************100%%**********************]  5 of 5 completed\n",
      "[*********************100%%**********************]  5 of 5 completed"
     ]
    },
    {
     "name": "stderr",
     "output_type": "stream",
     "text": [
      "\n",
      "2 Failed downloads:\n",
      "['DEEPENR.BO', 'SELAN.BO']: Exception('%ticker%: No price data found, symbol may be delisted (1m 2024-01-10 14:46:01.693916 -> 2024-01-10 15:16:01+05:30)')\n"
     ]
    },
    {
     "name": "stdout",
     "output_type": "stream",
     "text": [
      "\n",
      "[*********************100%%**********************]  1 of 1 completed\n",
      "[*********************100%%**********************]  1 of 1 completed\n",
      "[*********************100%%**********************]  4 of 4 completed"
     ]
    },
    {
     "name": "stderr",
     "output_type": "stream",
     "text": [
      "\n",
      "1 Failed download:\n",
      "['SPENCER.BO']: Exception(\"%ticker%: Period 'max' is invalid, must be one of ['1d', '5d']\")\n"
     ]
    },
    {
     "name": "stdout",
     "output_type": "stream",
     "text": [
      "\n",
      "[*********************100%%**********************]  4 of 4 completed"
     ]
    },
    {
     "name": "stderr",
     "output_type": "stream",
     "text": [
      "\n",
      "3 Failed downloads:\n",
      "['VMART.BO', 'SHOPERSTOP.BO']: Exception('%ticker%: No price data found, symbol may be delisted (1m 2024-01-10 14:46:03.020580 -> 2024-01-10 15:16:03+05:30)')\n",
      "['SPENCER.BO']: Exception(\"%ticker%: Period 'max' is invalid, must be one of ['1d', '5d']\")\n"
     ]
    },
    {
     "name": "stdout",
     "output_type": "stream",
     "text": [
      "\n",
      "[*********************100%%**********************]  1 of 1 completed\n",
      "[*********************100%%**********************]  1 of 1 completed\n",
      "[*********************100%%**********************]  4 of 4 completed\n",
      "[*********************100%%**********************]  4 of 4 completed\n",
      "[*********************100%%**********************]  1 of 1 completed\n",
      "[*********************100%%**********************]  1 of 1 completed\n",
      "[*********************100%%**********************]  4 of 4 completed\n",
      "[*********************100%%**********************]  4 of 4 completed\n",
      "[*********************100%%**********************]  1 of 1 completed\n",
      "[*********************100%%**********************]  1 of 1 completed\n",
      "[*********************100%%**********************]  4 of 4 completed\n",
      "[*********************100%%**********************]  4 of 4 completed"
     ]
    },
    {
     "name": "stderr",
     "output_type": "stream",
     "text": [
      "\n",
      "2 Failed downloads:\n",
      "['NILKAMAL.BO', 'SAFARIND.BO']: Exception('%ticker%: No price data found, symbol may be delisted (1m 2024-01-10 14:46:07.566716 -> 2024-01-10 15:16:07+05:30)')\n"
     ]
    },
    {
     "name": "stdout",
     "output_type": "stream",
     "text": [
      "\n",
      "[*********************100%%**********************]  1 of 1 completed\n",
      "[*********************100%%**********************]  1 of 1 completed\n",
      "[*********************100%%**********************]  4 of 4 completed\n",
      "[*********************100%%**********************]  4 of 4 completed\n",
      "[*********************100%%**********************]  1 of 1 completed\n",
      "[*********************100%%**********************]  1 of 1 completed\n",
      "[*********************100%%**********************]  4 of 4 completed\n",
      "[*********************100%%**********************]  4 of 4 completed\n",
      "[*********************100%%**********************]  1 of 1 completed\n",
      "[*********************100%%**********************]  1 of 1 completed\n",
      "[*********************100%%**********************]  4 of 4 completed\n",
      "[*********************100%%**********************]  4 of 4 completed\n",
      "[*********************100%%**********************]  1 of 1 completed\n",
      "[*********************100%%**********************]  1 of 1 completed\n",
      "[*********************100%%**********************]  4 of 4 completed\n",
      "[*********************100%%**********************]  4 of 4 completed"
     ]
    },
    {
     "name": "stderr",
     "output_type": "stream",
     "text": [
      "\n",
      "1 Failed download:\n",
      "['TAALENT.BO']: Exception('%ticker%: No price data found, symbol may be delisted (1m 2024-01-10 14:46:14.027359 -> 2024-01-10 15:16:14+05:30)')\n"
     ]
    },
    {
     "name": "stdout",
     "output_type": "stream",
     "text": [
      "\n",
      "[*********************100%%**********************]  1 of 1 completed\n",
      "[*********************100%%**********************]  1 of 1 completed\n",
      "[*********************100%%**********************]  4 of 4 completed\n",
      "[*********************100%%**********************]  4 of 4 completed\n",
      "[*********************100%%**********************]  1 of 1 completed\n",
      "[*********************100%%**********************]  1 of 1 completed\n",
      "[*********************100%%**********************]  4 of 4 completed"
     ]
    },
    {
     "name": "stderr",
     "output_type": "stream",
     "text": [
      "\n",
      "1 Failed download:\n",
      "['ATL.BO']: Exception(\"%ticker%: Period 'max' is invalid, must be one of ['1d', '5d']\")\n"
     ]
    },
    {
     "name": "stdout",
     "output_type": "stream",
     "text": [
      "\n",
      "[*********************100%%**********************]  4 of 4 completed\n",
      "[*********************100%%**********************]  1 of 1 completed\n",
      "[*********************100%%**********************]  1 of 1 completed\n",
      "[*********************100%%**********************]  4 of 4 completed\n",
      "[*********************100%%**********************]  4 of 4 completed\n",
      "[*********************100%%**********************]  1 of 1 completed\n",
      "[*********************100%%**********************]  1 of 1 completed\n",
      "[*********************100%%**********************]  4 of 4 completed\n",
      "[*********************100%%**********************]  4 of 4 completed\n",
      "[*********************100%%**********************]  1 of 1 completed\n",
      "[*********************100%%**********************]  1 of 1 completed\n",
      "[*********************100%%**********************]  4 of 4 completed\n",
      "[*********************100%%**********************]  4 of 4 completed\n",
      "[*********************100%%**********************]  1 of 1 completed\n",
      "[*********************100%%**********************]  1 of 1 completed\n",
      "[*********************100%%**********************]  4 of 4 completed\n",
      "[*********************100%%**********************]  4 of 4 completed\n",
      "[*********************100%%**********************]  1 of 1 completed\n",
      "[*********************100%%**********************]  1 of 1 completed\n",
      "[*********************100%%**********************]  3 of 3 completed\n",
      "[*********************100%%**********************]  3 of 3 completed\n",
      "[*********************100%%**********************]  1 of 1 completed\n",
      "[*********************100%%**********************]  1 of 1 completed\n",
      "[*********************100%%**********************]  3 of 3 completed\n",
      "[*********************100%%**********************]  3 of 3 completed\n",
      "[*********************100%%**********************]  1 of 1 completed\n",
      "[*********************100%%**********************]  1 of 1 completed\n",
      "[*********************100%%**********************]  3 of 3 completed\n",
      "[*********************100%%**********************]  3 of 3 completed\n",
      "[*********************100%%**********************]  1 of 1 completed\n",
      "[*********************100%%**********************]  1 of 1 completed\n",
      "[*********************100%%**********************]  3 of 3 completed\n",
      "[*********************100%%**********************]  3 of 3 completed"
     ]
    },
    {
     "name": "stderr",
     "output_type": "stream",
     "text": [
      "\n",
      "3 Failed downloads:\n",
      "['PREMEXPLQ.BO', 'SOLARINDS.BO', 'GOCLCORP.BO']: Exception('%ticker%: No price data found, symbol may be delisted (1m 2024-01-10 14:46:28.374251 -> 2024-01-10 15:16:28+05:30)')\n"
     ]
    },
    {
     "name": "stdout",
     "output_type": "stream",
     "text": [
      "\n",
      "[*********************100%%**********************]  1 of 1 completed\n",
      "[*********************100%%**********************]  1 of 1 completed\n",
      "[*********************100%%**********************]  3 of 3 completed\n",
      "[*********************100%%**********************]  3 of 3 completed"
     ]
    },
    {
     "name": "stderr",
     "output_type": "stream",
     "text": [
      "\n",
      "1 Failed download:\n",
      "['GUJGAS.BO']: Exception('%ticker%: No price data found, symbol may be delisted (1m 2024-01-10 14:46:29.946876 -> 2024-01-10 15:16:29+05:30)')\n"
     ]
    },
    {
     "name": "stdout",
     "output_type": "stream",
     "text": [
      "\n",
      "[*********************100%%**********************]  1 of 1 completed\n",
      "[*********************100%%**********************]  1 of 1 completed\n",
      "[*********************100%%**********************]  3 of 3 completed\n",
      "[*********************100%%**********************]  3 of 3 completed\n",
      "[*********************100%%**********************]  1 of 1 completed\n",
      "[*********************100%%**********************]  1 of 1 completed\n",
      "[*********************100%%**********************]  3 of 3 completed\n",
      "[*********************100%%**********************]  3 of 3 completed\n",
      "[*********************100%%**********************]  1 of 1 completed\n",
      "[*********************100%%**********************]  1 of 1 completed\n",
      "[*********************100%%**********************]  3 of 3 completed"
     ]
    },
    {
     "name": "stderr",
     "output_type": "stream",
     "text": [
      "\n",
      "1 Failed download:\n",
      "['PREVEST.BO']: Exception(\"%ticker%: Period 'max' is invalid, must be one of ['1d', '5d']\")\n"
     ]
    },
    {
     "name": "stdout",
     "output_type": "stream",
     "text": [
      "\n",
      "[*********************100%%**********************]  3 of 3 completed\n",
      "[*********************100%%**********************]  1 of 1 completed\n",
      "[*********************100%%**********************]  1 of 1 completed\n",
      "[*********************100%%**********************]  3 of 3 completed\n",
      "[*********************100%%**********************]  3 of 3 completed\n",
      "[*********************100%%**********************]  1 of 1 completed\n",
      "[*********************100%%**********************]  1 of 1 completed\n",
      "[*********************100%%**********************]  3 of 3 completed\n",
      "[*********************100%%**********************]  3 of 3 completed"
     ]
    },
    {
     "name": "stderr",
     "output_type": "stream",
     "text": [
      "\n",
      "2 Failed downloads:\n",
      "['SCHAND.BO', 'REPRO.BO']: Exception('%ticker%: No price data found, symbol may be delisted (1m 2024-01-10 14:46:37.053034 -> 2024-01-10 15:16:37+05:30)')\n"
     ]
    },
    {
     "name": "stdout",
     "output_type": "stream",
     "text": [
      "\n",
      "[*********************100%%**********************]  1 of 1 completed\n",
      "[*********************100%%**********************]  1 of 1 completed\n",
      "[*********************100%%**********************]  3 of 3 completed\n",
      "[*********************100%%**********************]  3 of 3 completed"
     ]
    },
    {
     "name": "stderr",
     "output_type": "stream",
     "text": [
      "\n",
      "1 Failed download:\n",
      "['JAYKAY.BO']: Exception('%ticker%: No price data found, symbol may be delisted (1m 2024-01-10 14:46:38.431414 -> 2024-01-10 15:16:38+05:30)')\n"
     ]
    },
    {
     "name": "stdout",
     "output_type": "stream",
     "text": [
      "\n",
      "[*********************100%%**********************]  1 of 1 completed\n",
      "[*********************100%%**********************]  1 of 1 completed\n",
      "[*********************100%%**********************]  3 of 3 completed\n",
      "[*********************100%%**********************]  3 of 3 completed"
     ]
    },
    {
     "name": "stderr",
     "output_type": "stream",
     "text": [
      "\n",
      "1 Failed download:\n",
      "['JITFINFRA.BO']: Exception('%ticker%: No price data found, symbol may be delisted (1m 2024-01-10 14:46:39.986314 -> 2024-01-10 15:16:39+05:30)')\n"
     ]
    },
    {
     "name": "stdout",
     "output_type": "stream",
     "text": [
      "\n",
      "[*********************100%%**********************]  1 of 1 completed\n",
      "[*********************100%%**********************]  1 of 1 completed\n",
      "[*********************100%%**********************]  3 of 3 completed\n",
      "[*********************100%%**********************]  3 of 3 completed"
     ]
    },
    {
     "name": "stderr",
     "output_type": "stream",
     "text": [
      "\n",
      "1 Failed download:\n",
      "['MAITHANALL.BO']: Exception('%ticker%: No price data found, symbol may be delisted (1m 2024-01-10 14:46:41.575058 -> 2024-01-10 15:16:41+05:30)')\n"
     ]
    },
    {
     "name": "stdout",
     "output_type": "stream",
     "text": [
      "\n",
      "[*********************100%%**********************]  1 of 1 completed\n",
      "[*********************100%%**********************]  1 of 1 completed\n",
      "[*********************100%%**********************]  3 of 3 completed"
     ]
    },
    {
     "name": "stderr",
     "output_type": "stream",
     "text": [
      "\n",
      "1 Failed download:\n",
      "['WARDWIZFBL.BO']: Exception(\"%ticker%: Period 'max' is invalid, must be one of ['1d', '5d']\")\n"
     ]
    },
    {
     "name": "stdout",
     "output_type": "stream",
     "text": [
      "\n",
      "[*********************100%%**********************]  3 of 3 completed\n",
      "[*********************100%%**********************]  1 of 1 completed\n",
      "[*********************100%%**********************]  1 of 1 completed\n",
      "[*********************100%%**********************]  3 of 3 completed"
     ]
    },
    {
     "name": "stderr",
     "output_type": "stream",
     "text": [
      "\n",
      "1 Failed download:\n",
      "['SRD.BO']: Exception(\"%ticker%: Period 'max' is invalid, must be one of ['1d', '5d']\")\n"
     ]
    },
    {
     "name": "stdout",
     "output_type": "stream",
     "text": [
      "\n",
      "[*********************100%%**********************]  3 of 3 completed"
     ]
    },
    {
     "name": "stderr",
     "output_type": "stream",
     "text": [
      "\n",
      "1 Failed download:\n",
      "['UNIPHOS.BO']: Exception('%ticker%: No price data found, symbol may be delisted (1m 2024-01-10 14:46:44.392033 -> 2024-01-10 15:16:44+05:30)')\n"
     ]
    },
    {
     "name": "stdout",
     "output_type": "stream",
     "text": [
      "\n",
      "[*********************100%%**********************]  1 of 1 completed\n",
      "[*********************100%%**********************]  1 of 1 completed\n",
      "[*********************100%%**********************]  3 of 3 completed\n",
      "[*********************100%%**********************]  3 of 3 completed"
     ]
    },
    {
     "name": "stderr",
     "output_type": "stream",
     "text": [
      "\n",
      "1 Failed download:\n",
      "['VIMTALABS.BO']: Exception('%ticker%: No price data found, symbol may be delisted (1m 2024-01-10 14:46:45.816518 -> 2024-01-10 15:16:45+05:30)')\n"
     ]
    },
    {
     "name": "stdout",
     "output_type": "stream",
     "text": [
      "\n",
      "[*********************100%%**********************]  1 of 1 completed\n",
      "[*********************100%%**********************]  1 of 1 completed\n",
      "[*********************100%%**********************]  3 of 3 completed\n",
      "[*********************100%%**********************]  3 of 3 completed"
     ]
    },
    {
     "name": "stderr",
     "output_type": "stream",
     "text": [
      "\n",
      "2 Failed downloads:\n",
      "['ECORECO.BO', 'RACE.BO']: Exception('%ticker%: No price data found, symbol may be delisted (1m 2024-01-10 14:46:46.929834 -> 2024-01-10 15:16:46+05:30)')\n"
     ]
    },
    {
     "name": "stdout",
     "output_type": "stream",
     "text": [
      "\n",
      "[*********************100%%**********************]  1 of 1 completed\n",
      "[*********************100%%**********************]  1 of 1 completed\n",
      "[*********************100%%**********************]  3 of 3 completed\n",
      "[*********************100%%**********************]  3 of 3 completed"
     ]
    },
    {
     "name": "stderr",
     "output_type": "stream",
     "text": [
      "\n",
      "3 Failed downloads:\n",
      "['GRPLTD.BO', 'PIXTRANS.BO', 'APCOTEXIND.BO']: Exception('%ticker%: No price data found, symbol may be delisted (1m 2024-01-10 14:46:47.985954 -> 2024-01-10 15:16:47+05:30)')\n"
     ]
    },
    {
     "name": "stdout",
     "output_type": "stream",
     "text": [
      "\n",
      "[*********************100%%**********************]  1 of 1 completed\n",
      "[*********************100%%**********************]  1 of 1 completed\n",
      "[*********************100%%**********************]  3 of 3 completed\n",
      "[*********************100%%**********************]  3 of 3 completed"
     ]
    },
    {
     "name": "stderr",
     "output_type": "stream",
     "text": [
      "\n",
      "1 Failed download:\n",
      "['VENKYS.BO']: Exception('%ticker%: No price data found, symbol may be delisted (1m 2024-01-10 14:46:49.108186 -> 2024-01-10 15:16:49+05:30)')\n"
     ]
    },
    {
     "name": "stdout",
     "output_type": "stream",
     "text": [
      "\n",
      "[*********************100%%**********************]  1 of 1 completed\n",
      "[*********************100%%**********************]  1 of 1 completed\n",
      "[*********************100%%**********************]  3 of 3 completed\n",
      "[*********************100%%**********************]  3 of 3 completed\n",
      "[*********************100%%**********************]  1 of 1 completed\n",
      "[*********************100%%**********************]  1 of 1 completed\n",
      "[*********************100%%**********************]  3 of 3 completed\n",
      "[*********************100%%**********************]  3 of 3 completed"
     ]
    },
    {
     "name": "stderr",
     "output_type": "stream",
     "text": [
      "\n",
      "2 Failed downloads:\n",
      "['KSE.BO', 'AVANTI.BO']: Exception('%ticker%: No price data found, symbol may be delisted (1m 2024-01-10 14:46:51.208795 -> 2024-01-10 15:16:51+05:30)')\n"
     ]
    },
    {
     "name": "stdout",
     "output_type": "stream",
     "text": [
      "\n",
      "[*********************100%%**********************]  1 of 1 completed\n",
      "[*********************100%%**********************]  1 of 1 completed\n",
      "[*********************100%%**********************]  3 of 3 completed"
     ]
    },
    {
     "name": "stderr",
     "output_type": "stream",
     "text": [
      "\n",
      "1 Failed download:\n",
      "['DEEPIND.BO']: Exception('%ticker%: No price data found, symbol may be delisted (1d 1925-02-03 -> 2024-01-10)')\n"
     ]
    },
    {
     "name": "stdout",
     "output_type": "stream",
     "text": [
      "\n",
      "[*********************100%%**********************]  3 of 3 completed"
     ]
    },
    {
     "name": "stderr",
     "output_type": "stream",
     "text": [
      "\n",
      "2 Failed downloads:\n",
      "['DOLPHINOFF.BO', 'DEEPIND.BO']: Exception('%ticker%: No price data found, symbol may be delisted (1m 2024-01-10 14:46:52.285971 -> 2024-01-10 15:16:52+05:30)')\n"
     ]
    },
    {
     "name": "stdout",
     "output_type": "stream",
     "text": [
      "\n",
      "[*********************100%%**********************]  1 of 1 completed\n",
      "[*********************100%%**********************]  1 of 1 completed\n",
      "[*********************100%%**********************]  2 of 2 completed\n",
      "[*********************100%%**********************]  2 of 2 completed\n",
      "[*********************100%%**********************]  1 of 1 completed\n",
      "[*********************100%%**********************]  1 of 1 completed\n",
      "[*********************100%%**********************]  2 of 2 completed\n",
      "[*********************100%%**********************]  2 of 2 completed"
     ]
    },
    {
     "name": "stderr",
     "output_type": "stream",
     "text": [
      "\n",
      "1 Failed download:\n",
      "['MAYURUNIQ.BO']: Exception('%ticker%: No price data found, symbol may be delisted (1m 2024-01-10 14:46:54.165682 -> 2024-01-10 15:16:54+05:30)')\n"
     ]
    },
    {
     "name": "stdout",
     "output_type": "stream",
     "text": [
      "\n",
      "[*********************100%%**********************]  1 of 1 completed\n",
      "[*********************100%%**********************]  1 of 1 completed\n",
      "[*********************100%%**********************]  2 of 2 completed"
     ]
    },
    {
     "name": "stderr",
     "output_type": "stream",
     "text": [
      "\n",
      "1 Failed download:\n",
      "['KMEW.BO']: Exception(\"%ticker%: Period 'max' is invalid, must be one of ['1d', '5d']\")\n"
     ]
    },
    {
     "name": "stdout",
     "output_type": "stream",
     "text": [
      "\n",
      "[*********************100%%**********************]  2 of 2 completed\n",
      "[*********************100%%**********************]  1 of 1 completed\n",
      "[*********************100%%**********************]  1 of 1 completed\n",
      "[*********************100%%**********************]  2 of 2 completed\n",
      "[*********************100%%**********************]  2 of 2 completed\n",
      "[*********************100%%**********************]  1 of 1 completed\n",
      "[*********************100%%**********************]  1 of 1 completed\n",
      "[*********************100%%**********************]  2 of 2 completed\n",
      "[*********************100%%**********************]  2 of 2 completed\n",
      "[*********************100%%**********************]  1 of 1 completed\n",
      "[*********************100%%**********************]  1 of 1 completed\n",
      "[*********************100%%**********************]  2 of 2 completed\n",
      "[*********************100%%**********************]  2 of 2 completed\n",
      "[*********************100%%**********************]  1 of 1 completed\n",
      "[*********************100%%**********************]  1 of 1 completed\n",
      "[*********************100%%**********************]  2 of 2 completed\n",
      "[*********************100%%**********************]  2 of 2 completed\n",
      "[*********************100%%**********************]  1 of 1 completed\n",
      "[*********************100%%**********************]  1 of 1 completed\n",
      "[*********************100%%**********************]  2 of 2 completed"
     ]
    },
    {
     "name": "stderr",
     "output_type": "stream",
     "text": [
      "\n",
      "1 Failed download:\n",
      "['STARLENT.BO']: Exception(\"%ticker%: Period 'max' is invalid, must be one of ['1d', '5d']\")\n"
     ]
    },
    {
     "name": "stdout",
     "output_type": "stream",
     "text": [
      "\n",
      "[*********************100%%**********************]  2 of 2 completed"
     ]
    },
    {
     "name": "stderr",
     "output_type": "stream",
     "text": [
      "\n",
      "1 Failed download:\n",
      "['STARLENT.BO']: Exception(\"%ticker%: Period 'max' is invalid, must be one of ['1d', '5d']\")\n"
     ]
    },
    {
     "name": "stdout",
     "output_type": "stream",
     "text": [
      "\n",
      "[*********************100%%**********************]  1 of 1 completed\n",
      "[*********************100%%**********************]  1 of 1 completed\n",
      "[*********************100%%**********************]  2 of 2 completed\n",
      "[*********************100%%**********************]  2 of 2 completed\n",
      "[*********************100%%**********************]  1 of 1 completed\n",
      "[*********************100%%**********************]  1 of 1 completed\n",
      "[*********************100%%**********************]  2 of 2 completed\n",
      "[*********************100%%**********************]  2 of 2 completed\n",
      "[*********************100%%**********************]  1 of 1 completed\n",
      "[*********************100%%**********************]  1 of 1 completed\n",
      "[*********************100%%**********************]  2 of 2 completed\n",
      "[*********************100%%**********************]  2 of 2 completed\n",
      "[*********************100%%**********************]  1 of 1 completed\n",
      "[*********************100%%**********************]  1 of 1 completed\n",
      "[*********************100%%**********************]  2 of 2 completed\n",
      "[*********************100%%**********************]  2 of 2 completed\n",
      "[*********************100%%**********************]  1 of 1 completed\n",
      "[*********************100%%**********************]  1 of 1 completed\n",
      "[*********************100%%**********************]  2 of 2 completed\n",
      "[*********************100%%**********************]  2 of 2 completed"
     ]
    },
    {
     "name": "stderr",
     "output_type": "stream",
     "text": [
      "\n",
      "1 Failed download:\n",
      "['CERA.BO']: Exception('%ticker%: No price data found, symbol may be delisted (1m 2024-01-10 14:47:05.024095 -> 2024-01-10 15:17:05+05:30)')\n"
     ]
    },
    {
     "name": "stdout",
     "output_type": "stream",
     "text": [
      "\n",
      "[*********************100%%**********************]  1 of 1 completed\n",
      "[*********************100%%**********************]  1 of 1 completed\n",
      "[*********************100%%**********************]  2 of 2 completed"
     ]
    },
    {
     "name": "stderr",
     "output_type": "stream",
     "text": [
      "\n",
      "2 Failed downloads:\n",
      "['BRIGHT.BO', 'PRAVEG.BO']: Exception(\"%ticker%: Period 'max' is invalid, must be one of ['1d', '5d']\")\n"
     ]
    },
    {
     "name": "stdout",
     "output_type": "stream",
     "text": [
      "\n",
      "positional indexers are out-of-bounds\n",
      "empty\n",
      "[*********************100%%**********************]  2 of 2 completed\n",
      "[*********************100%%**********************]  2 of 2 completed\n",
      "[*********************100%%**********************]  1 of 1 completed\n",
      "[*********************100%%**********************]  1 of 1 completed\n",
      "[*********************100%%**********************]  2 of 2 completed\n",
      "[*********************100%%**********************]  2 of 2 completed\n",
      "[*********************100%%**********************]  1 of 1 completed\n",
      "[*********************100%%**********************]  1 of 1 completed\n",
      "[*********************100%%**********************]  2 of 2 completed\n",
      "[*********************100%%**********************]  2 of 2 completed\n",
      "[*********************100%%**********************]  1 of 1 completed\n",
      "[*********************100%%**********************]  1 of 1 completed\n",
      "[*********************100%%**********************]  2 of 2 completed\n",
      "[*********************100%%**********************]  2 of 2 completed"
     ]
    },
    {
     "name": "stderr",
     "output_type": "stream",
     "text": [
      "\n",
      "1 Failed download:\n",
      "['ICRA.BO']: Exception('%ticker%: No price data found, symbol may be delisted (1m 2024-01-10 14:47:09.311225 -> 2024-01-10 15:17:09+05:30)')\n"
     ]
    },
    {
     "name": "stdout",
     "output_type": "stream",
     "text": [
      "\n",
      "[*********************100%%**********************]  1 of 1 completed\n",
      "[*********************100%%**********************]  1 of 1 completed\n",
      "[*********************100%%**********************]  2 of 2 completed"
     ]
    },
    {
     "name": "stderr",
     "output_type": "stream",
     "text": [
      "\n",
      "1 Failed download:\n",
      "['EKI.BO']: Exception(\"%ticker%: Period 'max' is invalid, must be one of ['1d', '5d']\")\n"
     ]
    },
    {
     "name": "stdout",
     "output_type": "stream",
     "text": [
      "\n",
      "[*********************100%%**********************]  2 of 2 completed\n",
      "[*********************100%%**********************]  1 of 1 completed\n",
      "[*********************100%%**********************]  1 of 1 completed\n",
      "[*********************100%%**********************]  2 of 2 completed\n",
      "[*********************100%%**********************]  2 of 2 completed"
     ]
    },
    {
     "name": "stderr",
     "output_type": "stream",
     "text": [
      "\n",
      "1 Failed download:\n",
      "['REFEX.BO']: Exception('%ticker%: No price data found, symbol may be delisted (1m 2024-01-10 14:47:11.746254 -> 2024-01-10 15:17:11+05:30)')\n"
     ]
    },
    {
     "name": "stdout",
     "output_type": "stream",
     "text": [
      "\n",
      "[*********************100%%**********************]  1 of 1 completed\n",
      "[*********************100%%**********************]  1 of 1 completed\n",
      "[*********************100%%**********************]  2 of 2 completed\n",
      "[*********************100%%**********************]  2 of 2 completed"
     ]
    },
    {
     "name": "stderr",
     "output_type": "stream",
     "text": [
      "\n",
      "1 Failed download:\n",
      "['MPSLTD.BO']: Exception('%ticker%: No price data found, symbol may be delisted (1m 2024-01-10 14:47:12.805156 -> 2024-01-10 15:17:12+05:30)')\n"
     ]
    },
    {
     "name": "stdout",
     "output_type": "stream",
     "text": [
      "\n",
      "[*********************100%%**********************]  1 of 1 completed\n",
      "[*********************100%%**********************]  1 of 1 completed\n",
      "[*********************100%%**********************]  2 of 2 completed\n",
      "[*********************100%%**********************]  2 of 2 completed\n",
      "[*********************100%%**********************]  1 of 1 completed\n",
      "[*********************100%%**********************]  1 of 1 completed\n",
      "[*********************100%%**********************]  1 of 1 completed\n",
      "'numpy.float64' object has no attribute 'fillna'\n",
      "empty\n"
     ]
    }
   ],
   "source": [
    "sector_analysis = []\n",
    "sector_returns = []\n",
    "sector_indices = {}\n",
    "\n",
    "for i in stocks_list.keys():\n",
    "    try:\n",
    "        lists = stocks_selector(stocks_list, market_cap, i)\n",
    "        sector_analysis.append(lists[1])\n",
    "        sector_returns.append(lists[0])\n",
    "        sector_indices[i] = lists[2]\n",
    "    except Exception as e:\n",
    "        print(e)\n",
    "        print('empty')"
   ]
  },
  {
   "cell_type": "code",
   "execution_count": 53,
   "id": "335233c1",
   "metadata": {},
   "outputs": [
    {
     "data": {
      "text/plain": [
       "[['Pharmaceuticals',\n",
       "  1.0052175917762345,\n",
       "  1.1040083330468666,\n",
       "  1.2006674647141846],\n",
       " ['Auto Components & Equipments',\n",
       "  1.036015888603742,\n",
       "  1.0782350819094264,\n",
       "  1.196267073050962],\n",
       " ['Specialty Chemicals',\n",
       "  0.9611630411958124,\n",
       "  1.0482070556956748,\n",
       "  1.1053311524102107],\n",
       " ['Industrial Products',\n",
       "  1.0056885020399429,\n",
       "  1.0509114869832326,\n",
       "  1.0863077321870687],\n",
       " ['Non Banking Financial Company (NBFC)',\n",
       "  1.0234825680967994,\n",
       "  1.0406115417034272,\n",
       "  1.0495744979493136],\n",
       " ['Civil Construction',\n",
       "  1.032113981181103,\n",
       "  1.057591367172536,\n",
       "  1.198069526878469],\n",
       " ['Residential, Commercial Projects',\n",
       "  1.1004991642414945,\n",
       "  1.1636459761289166,\n",
       "  1.5135058210302488],\n",
       " ['Iron & Steel Products',\n",
       "  1.0469244284819788,\n",
       "  1.077157294831398,\n",
       "  1.2931561277306751],\n",
       " ['Computers - Software & Consulting',\n",
       "  1.0104440019027923,\n",
       "  1.0362567257754463,\n",
       "  1.091448375262965],\n",
       " ['Cement & Cement Products',\n",
       "  0.9817124440499299,\n",
       "  1.0061364762281857,\n",
       "  1.1657813866138809],\n",
       " ['Other Textile Products',\n",
       "  1.0928596428893347,\n",
       "  1.0782816449986523,\n",
       "  1.210211093871329],\n",
       " ['IT Enabled Services',\n",
       "  1.0183917858163423,\n",
       "  1.0890154056428416,\n",
       "  1.1971235366273154],\n",
       " ['Commodity Chemicals',\n",
       "  0.9724255710994324,\n",
       "  1.0367173005103716,\n",
       "  1.0819980010705503],\n",
       " ['Heavy Electrical Equipment',\n",
       "  1.0378552662588383,\n",
       "  1.0932393351510712,\n",
       "  1.3096770279283332],\n",
       " ['Private Sector Bank',\n",
       "  0.9970293198758251,\n",
       "  1.012417821847774,\n",
       "  1.096647029719964],\n",
       " ['Pesticides & Agrochemicals',\n",
       "  1.0009880435612526,\n",
       "  0.9666150979360301,\n",
       "  1.017083313508702],\n",
       " ['Logistics Solution Provider',\n",
       "  1.0201978569017014,\n",
       "  1.0793992461246293,\n",
       "  1.179327949900693],\n",
       " ['Packaging', 1.0132279908547903, 1.0455788867193454, 1.0765957391293406],\n",
       " ['Household Appliances',\n",
       "  1.0237629641741768,\n",
       "  1.0625122165671508,\n",
       "  1.0710371579576377],\n",
       " ['Investment Company',\n",
       "  1.0067381523691203,\n",
       "  1.041377116192969,\n",
       "  1.1145257066414576],\n",
       " ['Aerospace & Defense',\n",
       "  1.0363145570289143,\n",
       "  1.109986417389089,\n",
       "  1.4514560856710936],\n",
       " ['Gems, Jewellery And Watches',\n",
       "  1.0092959082355009,\n",
       "  1.0456520452679139,\n",
       "  1.169384597925724],\n",
       " ['Sugar', 0.9884647963426675, 1.0062947272629854, 0.9566998922233823],\n",
       " ['Power Generation',\n",
       "  1.032610370968789,\n",
       "  1.105679082781087,\n",
       "  1.5104670752412466],\n",
       " ['Hospital', 1.032447942684359, 1.0639363350744737, 1.2209116268231819],\n",
       " ['Hotels & Resorts',\n",
       "  1.0305849258767372,\n",
       "  1.0824434565624044,\n",
       "  1.145373207229269],\n",
       " ['Garments & Apparels',\n",
       "  0.9883463274749062,\n",
       "  0.9982241653526539,\n",
       "  1.0438229692521266],\n",
       " ['Other Electrical Equipment',\n",
       "  0.9923143161964941,\n",
       "  1.1037946209482103,\n",
       "  1.133570604690093],\n",
       " ['Fertilizers', 0.9713967780209316, 1.0470948498722525, 1.369359331400583],\n",
       " ['Plastic Products - Industrial',\n",
       "  0.9824530648420722,\n",
       "  0.9691765656486693,\n",
       "  1.0793399556786805],\n",
       " ['Stockbroking & Allied',\n",
       "  1.0704450110653476,\n",
       "  1.1646710211501865,\n",
       "  1.5509756521956761],\n",
       " ['Public Sector Bank',\n",
       "  0.9755342884479604,\n",
       "  1.0150305141395901,\n",
       "  1.0961820296470883],\n",
       " ['Paper & Paper Products',\n",
       "  1.0977275564556088,\n",
       "  1.0775550645968754,\n",
       "  1.1884080244696928],\n",
       " ['Holding Company',\n",
       "  0.9948148680875395,\n",
       "  0.9937911070929407,\n",
       "  1.0621627936622688],\n",
       " ['Speciality Retail',\n",
       "  1.0150455983165374,\n",
       "  1.0392369940695196,\n",
       "  1.3470224450411208],\n",
       " ['Trading & Distributors',\n",
       "  1.0625480212371423,\n",
       "  1.097410924827876,\n",
       "  1.181953396875345],\n",
       " ['Compressors, Pumps & Diesel Engines',\n",
       "  1.01894956025865,\n",
       "  1.0201438241978402,\n",
       "  1.1791362305156383],\n",
       " ['Iron & Steel', 0.9939469235808691, 1.0365847467284173, 1.1452122900706563],\n",
       " ['Packaged Foods',\n",
       "  0.9737211806954538,\n",
       "  1.0358533559045418,\n",
       "  1.1313376436671467],\n",
       " ['Other Agricultural Products',\n",
       "  1.0076599234399954,\n",
       "  0.9989185584895769,\n",
       "  1.0775578366480385],\n",
       " ['Breweries & Distilleries',\n",
       "  1.0182110281140033,\n",
       "  1.0549091359415534,\n",
       "  1.1626490468198045],\n",
       " ['Housing Finance Company',\n",
       "  1.003323604308344,\n",
       "  1.0219496956606604,\n",
       "  1.1159024651993927],\n",
       " ['Diversified Commercial Services',\n",
       "  1.0163774156717846,\n",
       "  1.0364128486912856,\n",
       "  1.2139862009187814],\n",
       " ['Personal Care', 0.9841390530594897, 1.0546847345941353, 1.1347609703467445],\n",
       " ['Electrodes & Refractories',\n",
       "  1.0029708373989743,\n",
       "  1.0278530636665726,\n",
       "  1.1405393045902035],\n",
       " ['Software Products',\n",
       "  1.0279400173247633,\n",
       "  1.0722584820330323,\n",
       "  1.0819193043661262],\n",
       " ['Diversified', 1.022412257693943, 1.13562008462148, 1.1539945999344865],\n",
       " ['TV Broadcasting & Software Production',\n",
       "  1.0245631438338905,\n",
       "  1.0641129905178295,\n",
       "  1.1825313128680737],\n",
       " ['Industrial Minerals',\n",
       "  0.9954380817106256,\n",
       "  1.116084785138093,\n",
       "  1.44446102827199],\n",
       " ['Cables - Electricals',\n",
       "  0.9401445880873828,\n",
       "  0.9345329594893009,\n",
       "  1.0194540964323209],\n",
       " ['Edible Oil', 0.9994702676909238, 1.0066026542917859, 1.1346382810410316],\n",
       " ['Restaurants', 0.9710770731230632, 0.9722279028612435, 0.9438302465683401],\n",
       " ['Paints', 0.9813342314638748, 1.0204795214123539, 1.0467063340916782],\n",
       " ['Other Industrial Products',\n",
       "  0.9935527751427478,\n",
       "  1.1862242996023387,\n",
       "  1.1825986660205263],\n",
       " ['Castings & Forgings',\n",
       "  1.0537139788229943,\n",
       "  1.0593679876853301,\n",
       "  1.1708677214723768],\n",
       " ['Refineries & Marketing',\n",
       "  1.0190188297654177,\n",
       "  1.077657936979053,\n",
       "  1.209571126540618],\n",
       " ['Passenger Cars & Utility Vehicles',\n",
       "  1.019047089667787,\n",
       "  1.0488641274261503,\n",
       "  1.1743321056332754],\n",
       " ['Integrated Power Utilities',\n",
       "  1.033485029965136,\n",
       "  1.0518434829473986,\n",
       "  1.5137817149788684],\n",
       " ['Tyres & Rubber Products',\n",
       "  1.0237730956768432,\n",
       "  1.063877314386046,\n",
       "  1.1846596604000923],\n",
       " ['Other Bank', 1.0192351865343283, 1.0618190366909206, 1.0920871943444928],\n",
       " ['Footwear', 0.9991886722446857, 0.9826770520478929, 1.0350895347257465],\n",
       " ['LPG/CNG/PNG/LNG Supplier',\n",
       "  0.9874687935614728,\n",
       "  0.9768780501981406,\n",
       "  1.4772312293063907],\n",
       " ['Lubricants', 0.9663191162111543, 1.2197044108025294, 1.3037460176613058],\n",
       " ['Financial Institution',\n",
       "  0.9935368997002768,\n",
       "  1.0498892092044672,\n",
       "  1.54732327549823],\n",
       " ['Petrochemicals', 0.9991908283179443, 1.033363091670043, 1.0567527087411428],\n",
       " ['Other Financial Services',\n",
       "  1.0054477668412474,\n",
       "  0.9896975719383998,\n",
       "  1.0826773231281306],\n",
       " ['Telecom - Infrastructure',\n",
       "  1.0360554435182343,\n",
       "  1.1605417360913897,\n",
       "  1.227291233670888],\n",
       " ['Healthcare Service Provider',\n",
       "  0.9649097312053603,\n",
       "  1.0063834241956553,\n",
       "  1.0901121390709958],\n",
       " ['Business Process Outsourcing (BPO)/ Knowledge Process Outsourcing (KPO)',\n",
       "  1.006336808241406,\n",
       "  1.0335782117997,\n",
       "  1.1821846349899674],\n",
       " ['2/3 Wheelers', 1.0099531465389984, 1.0776614725296008, 1.3233208639669474],\n",
       " ['Computers Hardware & Equipments',\n",
       "  1.0758399034825237,\n",
       "  1.1748513546965458,\n",
       "  1.4837228643900837],\n",
       " ['Consumer Electronics',\n",
       "  0.9974036718624912,\n",
       "  1.0251491989537755,\n",
       "  1.0783590267747554],\n",
       " ['Dyes And Pigments',\n",
       "  0.9696367043412989,\n",
       "  1.0696339665544365,\n",
       "  1.0702812867354001],\n",
       " ['Media & Entertainment',\n",
       "  1.1533023683475867,\n",
       "  1.1631796470465323,\n",
       "  1.3642591198293768],\n",
       " ['Ceramics', 1.0466881070578369, 0.9830015017055683, 1.062701085164882],\n",
       " ['Life Insurance', 1.0102738321374949, 1.0448232749687054, 1.217943366648341],\n",
       " ['Household Products',\n",
       "  1.0264341501239098,\n",
       "  1.0747456948016045,\n",
       "  1.3703084194817632],\n",
       " ['Education', 1.000000814799189, 1.0586591627309845, 1.021574162241309],\n",
       " ['Dairy Products', 1.0251657262969167, 1.066284963309504, 1.0820085320771318],\n",
       " ['Telecom - Cellular & Fixed line services',\n",
       "  1.023478088796804,\n",
       "  1.075443020736006,\n",
       "  1.1674794913247601],\n",
       " ['Plywood Boards/ Laminates',\n",
       "  1.0013765760860516,\n",
       "  1.1113556929208053,\n",
       "  1.2480273675065436],\n",
       " ['Print Media', 1.1058216289201535, 1.1686070047499373, 1.16418948013008],\n",
       " ['Telecom - Equipment & Accessories',\n",
       "  0.997667433405325,\n",
       "  1.0323410596345926,\n",
       "  1.2681671131610108],\n",
       " ['Shipping', 0.9940598040913825, 1.1106020600895232, 1.247411351358217],\n",
       " ['Microfinance Institutions',\n",
       "  1.0926728221717512,\n",
       "  1.0570568409022127,\n",
       "  1.3188480263442472],\n",
       " ['Abrasives & Bearings',\n",
       "  1.012227543216362,\n",
       "  1.0099358000848595,\n",
       "  1.019497499126114],\n",
       " ['Oil Exploration & Production',\n",
       "  1.008562240282178,\n",
       "  1.0807074549082916,\n",
       "  1.166497815472586],\n",
       " ['Diversified Retail',\n",
       "  0.9732958688764697,\n",
       "  0.94139634406436,\n",
       "  1.0080564736058217],\n",
       " ['Internet & Catalogue Retail',\n",
       "  1.0161907042652885,\n",
       "  1.0544228231623283,\n",
       "  1.1743215349726293],\n",
       " ['Amusement Parks/ Other Recreation',\n",
       "  0.9966116874080834,\n",
       "  1.046864727422684,\n",
       "  1.1074332464779477],\n",
       " ['Plastic Products - Consumer',\n",
       "  0.9660168878719665,\n",
       "  0.9424161716434833,\n",
       "  0.8524036406654399],\n",
       " ['Commercial Vehicles',\n",
       "  0.9943046637049474,\n",
       "  1.0107447238876826,\n",
       "  1.045149331170173],\n",
       " ['Aluminium', 0.981211319069383, 1.142562602776408, 1.2598307936165523],\n",
       " ['Tea & Coffee', 1.0263904019075727, 1.1616555554375756, 1.2480073639800269],\n",
       " ['Airline', 1.0337455722836866, 1.055011238826417, 1.267883593666834],\n",
       " ['Railway', 1.0293177110727696, 1.231233301162088, 1.4250544081463523],\n",
       " ['Port & Port services',\n",
       "  1.1080714064602903,\n",
       "  1.1745001937252593,\n",
       "  1.528486388173975],\n",
       " ['General Insurance',\n",
       "  0.9955853010034179,\n",
       "  0.975643361344661,\n",
       "  1.2414379366652428],\n",
       " ['Asset Management Company',\n",
       "  1.0488173022954754,\n",
       "  1.1183561347278381,\n",
       "  1.281171661003813],\n",
       " ['Financial Technology (Fintech)',\n",
       "  1.0454971357425253,\n",
       "  1.043565457679243,\n",
       "  0.9477738218901883],\n",
       " ['Tour, Travel Related Services',\n",
       "  1.095197841612817,\n",
       "  1.1662527968223244,\n",
       "  1.3502217010172757],\n",
       " ['Construction Vehicles',\n",
       "  1.0380309014817068,\n",
       "  1.1730993600205348,\n",
       "  1.315253011258935],\n",
       " ['Diversified FMCG',\n",
       "  0.9804666696710304,\n",
       "  1.0266982459411604,\n",
       "  1.0390460977075133],\n",
       " ['Furniture, Home Furnishing',\n",
       "  0.9726808149962003,\n",
       "  0.9777693442551223,\n",
       "  1.0283881830357673],\n",
       " ['Explosives', 0.0, 0.0, 0.0],\n",
       " ['Gas Transmission/Marketing',\n",
       "  0.9917904894463663,\n",
       "  1.1314129195994111,\n",
       "  1.2927939889836022],\n",
       " ['Film Production, Distribution & Exhibition',\n",
       "  0.9560131377846901,\n",
       "  0.9243024682932087,\n",
       "  0.9828380360963448],\n",
       " ['E-Retail/ E-Commerce',\n",
       "  1.0795244939268525,\n",
       "  1.128500750253254,\n",
       "  1.2938916626946488],\n",
       " ['Medical Equipment & Supplies',\n",
       "  1.0042621711129136,\n",
       "  0.9571647579404922,\n",
       "  1.0582303818805383],\n",
       " ['Stationary', 0.9750666220320772, 0.9654165259379388, 0.998489852171847],\n",
       " ['Printing & Publication',\n",
       "  0.9790034093422807,\n",
       "  1.0869867798570814,\n",
       "  0.9674821920146394],\n",
       " ['Depositories, Clearing Houses and Other Intermediaries',\n",
       "  1.0510157473122284,\n",
       "  1.0152207430254157,\n",
       "  1.1439164006988718],\n",
       " ['Water Supply & Management',\n",
       "  0.9775649620615569,\n",
       "  0.9905545394718942,\n",
       "  1.411452812204504],\n",
       " ['Ferro & Silica Manganese',\n",
       "  1.090102071003546,\n",
       "  1.1153594885682432,\n",
       "  1.3141059166344766],\n",
       " ['Other Food Products',\n",
       "  1.0408738014650278,\n",
       "  1.1542352307409804,\n",
       "  1.3706197578261836],\n",
       " ['Trading - Chemicals',\n",
       "  0.9977074502336927,\n",
       "  1.0473298762132015,\n",
       "  1.056287576883873],\n",
       " ['Healthcare Research, Analytics & Technology',\n",
       "  1.0030254491077528,\n",
       "  1.0279619872063996,\n",
       "  0.9580236840151493],\n",
       " ['Waste Management',\n",
       "  1.1114363143493107,\n",
       "  1.156783787850796,\n",
       "  1.431726348136455],\n",
       " ['Rubber', 0.0, 0.0, 0.0],\n",
       " ['Meat Products including Poultry',\n",
       "  0.976840371797119,\n",
       "  1.1500035529557826,\n",
       "  1.0123985612791995],\n",
       " ['Other Telecom Services',\n",
       "  0.978062572221391,\n",
       "  1.0266878239240547,\n",
       "  1.0069043200467491],\n",
       " ['Animal Feed', 0.9661999261895404, 1.0396315610744578, 1.1044958685379054],\n",
       " ['Offshore Support Solution Drilling',\n",
       "  1.0243453018122664,\n",
       "  0.9382260934328154,\n",
       "  1.1375236467898049],\n",
       " ['Coal', 0.9937482523132944, 1.0856979109870197, 1.3442386629151972],\n",
       " ['Leather And Leather Products',\n",
       "  1.235094372273489,\n",
       "  1.213719770551841,\n",
       "  1.238247206186545],\n",
       " ['Dredging', 0.9631578947368421, 1.0423239142084844, 1.3342680874929893],\n",
       " ['Ship Building & Allied Services',\n",
       "  1.059847680690635,\n",
       "  0.9604306104085762,\n",
       "  1.018747395978993],\n",
       " ['Exchange and Data Platform',\n",
       "  0.980069634674309,\n",
       "  0.9983509353101283,\n",
       "  1.360238520529845],\n",
       " ['Financial Products Distributor',\n",
       "  1.0622145376478773,\n",
       "  1.0803940670191392,\n",
       "  1.3115539406425678],\n",
       " ['Sponge Iron', 0.9484432459534289, 0.9468886352119611, 1.1079695521851316],\n",
       " ['Trading - Minerals',\n",
       "  1.031308793540796,\n",
       "  1.084752902875208,\n",
       "  1.268866063788843],\n",
       " ['Cigarettes & Tobacco Products',\n",
       "  0.9824157897329353,\n",
       "  1.0783781151144125,\n",
       "  1.0653771436085844],\n",
       " ['Pig Iron', 0.9821240754095782, 1.0087354314069634, 1.1440238976246173],\n",
       " ['Houseware', 1.0130523436093846, 0.988862605953085, 1.0597493134286318],\n",
       " ['Glass - Consumer',\n",
       "  1.0265658120167895,\n",
       "  1.0068270674792688,\n",
       "  0.8507048276280903],\n",
       " ['Sanitary Ware', 0.9943441037149504, 0.9852521872381732, 0.9609703957264623],\n",
       " ['Tractors', 0.9927077852607035, 0.8980448010749682, 0.8945755090747426],\n",
       " ['Granites & Marbles',\n",
       "  1.0033320998527997,\n",
       "  1.0065185936866305,\n",
       "  1.03028463701859],\n",
       " ['Airport & Airport services',\n",
       "  1.053651910692521,\n",
       "  1.174243926668743,\n",
       "  1.472760339757165],\n",
       " ['Ratings', 1.00856319875394, 1.0173282145436064, 1.0191103084546551],\n",
       " ['Consulting Services',\n",
       "  1.0513816843132424,\n",
       "  1.1783200433780474,\n",
       "  1.245653386170874],\n",
       " ['Industrial Gases',\n",
       "  1.0103040331282478,\n",
       "  0.9628344690902684,\n",
       "  0.9376155115579259],\n",
       " ['E-Learning', 1.0742887003499821, 0.9226244528009521, 1.6285942552366368],\n",
       " ['Power - Transmission',\n",
       "  1.005890638955541,\n",
       "  1.0397430471800189,\n",
       "  1.3218312032625703]]"
      ]
     },
     "execution_count": 53,
     "metadata": {},
     "output_type": "execute_result"
    }
   ],
   "source": [
    "sector_returns"
   ]
  },
  {
   "cell_type": "code",
   "execution_count": 54,
   "id": "02181232",
   "metadata": {},
   "outputs": [
    {
     "data": {
      "text/html": [
       "<div>\n",
       "<style scoped>\n",
       "    .dataframe tbody tr th:only-of-type {\n",
       "        vertical-align: middle;\n",
       "    }\n",
       "\n",
       "    .dataframe tbody tr th {\n",
       "        vertical-align: top;\n",
       "    }\n",
       "\n",
       "    .dataframe thead th {\n",
       "        text-align: right;\n",
       "    }\n",
       "</style>\n",
       "<table border=\"1\" class=\"dataframe\">\n",
       "  <thead>\n",
       "    <tr style=\"text-align: right;\">\n",
       "      <th></th>\n",
       "      <th>week_ret</th>\n",
       "      <th>monthly_ret</th>\n",
       "      <th>quarterly_ret</th>\n",
       "    </tr>\n",
       "    <tr>\n",
       "      <th>sectors</th>\n",
       "      <th></th>\n",
       "      <th></th>\n",
       "      <th></th>\n",
       "    </tr>\n",
       "  </thead>\n",
       "  <tbody>\n",
       "    <tr>\n",
       "      <th>Pharmaceuticals</th>\n",
       "      <td>0.521759</td>\n",
       "      <td>10.400833</td>\n",
       "      <td>20.066746</td>\n",
       "    </tr>\n",
       "    <tr>\n",
       "      <th>Auto Components &amp; Equipments</th>\n",
       "      <td>3.601589</td>\n",
       "      <td>7.823508</td>\n",
       "      <td>19.626707</td>\n",
       "    </tr>\n",
       "    <tr>\n",
       "      <th>Specialty Chemicals</th>\n",
       "      <td>-3.883696</td>\n",
       "      <td>4.820706</td>\n",
       "      <td>10.533115</td>\n",
       "    </tr>\n",
       "    <tr>\n",
       "      <th>Industrial Products</th>\n",
       "      <td>0.568850</td>\n",
       "      <td>5.091149</td>\n",
       "      <td>8.630773</td>\n",
       "    </tr>\n",
       "    <tr>\n",
       "      <th>Non Banking Financial Company (NBFC)</th>\n",
       "      <td>2.348257</td>\n",
       "      <td>4.061154</td>\n",
       "      <td>4.957450</td>\n",
       "    </tr>\n",
       "    <tr>\n",
       "      <th>...</th>\n",
       "      <td>...</td>\n",
       "      <td>...</td>\n",
       "      <td>...</td>\n",
       "    </tr>\n",
       "    <tr>\n",
       "      <th>Ratings</th>\n",
       "      <td>0.856320</td>\n",
       "      <td>1.732821</td>\n",
       "      <td>1.911031</td>\n",
       "    </tr>\n",
       "    <tr>\n",
       "      <th>Consulting Services</th>\n",
       "      <td>5.138168</td>\n",
       "      <td>17.832004</td>\n",
       "      <td>24.565339</td>\n",
       "    </tr>\n",
       "    <tr>\n",
       "      <th>Industrial Gases</th>\n",
       "      <td>1.030403</td>\n",
       "      <td>-3.716553</td>\n",
       "      <td>-6.238449</td>\n",
       "    </tr>\n",
       "    <tr>\n",
       "      <th>E-Learning</th>\n",
       "      <td>7.428870</td>\n",
       "      <td>-7.737555</td>\n",
       "      <td>62.859426</td>\n",
       "    </tr>\n",
       "    <tr>\n",
       "      <th>Power - Transmission</th>\n",
       "      <td>0.589064</td>\n",
       "      <td>3.974305</td>\n",
       "      <td>32.183120</td>\n",
       "    </tr>\n",
       "  </tbody>\n",
       "</table>\n",
       "<p>144 rows × 3 columns</p>\n",
       "</div>"
      ],
      "text/plain": [
       "                                      week_ret  monthly_ret  quarterly_ret\n",
       "sectors                                                                   \n",
       "Pharmaceuticals                       0.521759    10.400833      20.066746\n",
       "Auto Components & Equipments          3.601589     7.823508      19.626707\n",
       "Specialty Chemicals                  -3.883696     4.820706      10.533115\n",
       "Industrial Products                   0.568850     5.091149       8.630773\n",
       "Non Banking Financial Company (NBFC)  2.348257     4.061154       4.957450\n",
       "...                                        ...          ...            ...\n",
       "Ratings                               0.856320     1.732821       1.911031\n",
       "Consulting Services                   5.138168    17.832004      24.565339\n",
       "Industrial Gases                      1.030403    -3.716553      -6.238449\n",
       "E-Learning                            7.428870    -7.737555      62.859426\n",
       "Power - Transmission                  0.589064     3.974305      32.183120\n",
       "\n",
       "[144 rows x 3 columns]"
      ]
     },
     "execution_count": 54,
     "metadata": {},
     "output_type": "execute_result"
    }
   ],
   "source": [
    "sector_returns_df = pd.DataFrame(sector_returns, columns = ['sectors', 'week_ret', 'monthly_ret', 'quarterly_ret'])\n",
    "sector_returns_df = sector_returns_df.set_index('sectors')\n",
    "sector_returns_df = (sector_returns_df-1)*100\n",
    "sector_returns_df"
   ]
  },
  {
   "cell_type": "code",
   "execution_count": 55,
   "id": "b5fc567f",
   "metadata": {},
   "outputs": [],
   "source": [
    "filtered_sector_analysis = []\n",
    "for i in sector_analysis:\n",
    "    if type(i) == str:\n",
    "        pass\n",
    "    else:\n",
    "        filtered_sector_analysis.append(i)"
   ]
  },
  {
   "cell_type": "code",
   "execution_count": 56,
   "id": "182b7188",
   "metadata": {},
   "outputs": [],
   "source": [
    "final_df = pd.concat(filtered_sector_analysis).dropna()"
   ]
  },
  {
   "cell_type": "code",
   "execution_count": 57,
   "id": "cb3f8c98",
   "metadata": {},
   "outputs": [],
   "source": [
    "final_df.columns = ['sector', 'stock_name', 'RS']"
   ]
  },
  {
   "cell_type": "code",
   "execution_count": 58,
   "id": "e46fef67",
   "metadata": {},
   "outputs": [
    {
     "data": {
      "text/html": [
       "<div>\n",
       "<style scoped>\n",
       "    .dataframe tbody tr th:only-of-type {\n",
       "        vertical-align: middle;\n",
       "    }\n",
       "\n",
       "    .dataframe tbody tr th {\n",
       "        vertical-align: top;\n",
       "    }\n",
       "\n",
       "    .dataframe thead th {\n",
       "        text-align: right;\n",
       "    }\n",
       "</style>\n",
       "<table border=\"1\" class=\"dataframe\">\n",
       "  <thead>\n",
       "    <tr style=\"text-align: right;\">\n",
       "      <th></th>\n",
       "      <th>sector</th>\n",
       "      <th>stock_name</th>\n",
       "      <th>RS</th>\n",
       "    </tr>\n",
       "  </thead>\n",
       "  <tbody>\n",
       "    <tr>\n",
       "      <th>0</th>\n",
       "      <td>Pharmaceuticals</td>\n",
       "      <td>ANUHPHR.BO</td>\n",
       "      <td>0.272682</td>\n",
       "    </tr>\n",
       "    <tr>\n",
       "      <th>1</th>\n",
       "      <td>Pharmaceuticals</td>\n",
       "      <td>ASTRAZEN.BO</td>\n",
       "      <td>0.754576</td>\n",
       "    </tr>\n",
       "    <tr>\n",
       "      <th>2</th>\n",
       "      <td>Pharmaceuticals</td>\n",
       "      <td>AUROPHARMA.BO</td>\n",
       "      <td>0.221663</td>\n",
       "    </tr>\n",
       "    <tr>\n",
       "      <th>3</th>\n",
       "      <td>Pharmaceuticals</td>\n",
       "      <td>DCAL.BO</td>\n",
       "      <td>0.388486</td>\n",
       "    </tr>\n",
       "    <tr>\n",
       "      <th>4</th>\n",
       "      <td>Pharmaceuticals</td>\n",
       "      <td>GLAXO.BO</td>\n",
       "      <td>0.593495</td>\n",
       "    </tr>\n",
       "    <tr>\n",
       "      <th>...</th>\n",
       "      <td>...</td>\n",
       "      <td>...</td>\n",
       "      <td>...</td>\n",
       "    </tr>\n",
       "    <tr>\n",
       "      <th>0</th>\n",
       "      <td>Construction Vehicles</td>\n",
       "      <td>BEML.BO</td>\n",
       "      <td>0.571144</td>\n",
       "    </tr>\n",
       "    <tr>\n",
       "      <th>0</th>\n",
       "      <td>E-Retail/ E-Commerce</td>\n",
       "      <td>NYKAA.BO</td>\n",
       "      <td>0.404372</td>\n",
       "    </tr>\n",
       "    <tr>\n",
       "      <th>0</th>\n",
       "      <td>Ferro &amp; Silica Manganese</td>\n",
       "      <td>POCL.BO</td>\n",
       "      <td>1.762670</td>\n",
       "    </tr>\n",
       "    <tr>\n",
       "      <th>0</th>\n",
       "      <td>Financial Products Distributor</td>\n",
       "      <td>ANANDRATHI.BO</td>\n",
       "      <td>0.454291</td>\n",
       "    </tr>\n",
       "    <tr>\n",
       "      <th>0</th>\n",
       "      <td>Airport &amp; Airport services</td>\n",
       "      <td>GMRINFRA.BO</td>\n",
       "      <td>0.542742</td>\n",
       "    </tr>\n",
       "  </tbody>\n",
       "</table>\n",
       "<p>124 rows × 3 columns</p>\n",
       "</div>"
      ],
      "text/plain": [
       "                            sector     stock_name        RS\n",
       "0                  Pharmaceuticals     ANUHPHR.BO  0.272682\n",
       "1                  Pharmaceuticals    ASTRAZEN.BO  0.754576\n",
       "2                  Pharmaceuticals  AUROPHARMA.BO  0.221663\n",
       "3                  Pharmaceuticals        DCAL.BO  0.388486\n",
       "4                  Pharmaceuticals       GLAXO.BO  0.593495\n",
       "..                             ...            ...       ...\n",
       "0            Construction Vehicles        BEML.BO  0.571144\n",
       "0             E-Retail/ E-Commerce       NYKAA.BO  0.404372\n",
       "0         Ferro & Silica Manganese        POCL.BO  1.762670\n",
       "0   Financial Products Distributor  ANANDRATHI.BO  0.454291\n",
       "0       Airport & Airport services    GMRINFRA.BO  0.542742\n",
       "\n",
       "[124 rows x 3 columns]"
      ]
     },
     "execution_count": 58,
     "metadata": {},
     "output_type": "execute_result"
    }
   ],
   "source": [
    "final_df"
   ]
  },
  {
   "cell_type": "code",
   "execution_count": 59,
   "id": "3b9695ef",
   "metadata": {},
   "outputs": [],
   "source": [
    "top_20_df = final_df#.nlargest(20, columns = 'RS')"
   ]
  },
  {
   "cell_type": "code",
   "execution_count": 60,
   "id": "487fe562",
   "metadata": {},
   "outputs": [],
   "source": [
    "import datetime\n",
    "from datetime import datetime, timedelta\n",
    "\n",
    "'''datetime.now() - timedelta(minutes = 15)'''\n",
    "\n",
    "def stock_current_price(stock_ticker):\n",
    "    a = yf.download(stock_ticker, interval = '1m', start = datetime.now() - timedelta(minutes = 30))\n",
    "    a = a['Adj Close']\n",
    "    a = a.sort_index().max()\n",
    "    return a"
   ]
  },
  {
   "cell_type": "code",
   "execution_count": 61,
   "id": "fdc660f7",
   "metadata": {},
   "outputs": [],
   "source": [
    "sl = 0.85\n",
    "tp = 1.3\n",
    "capital = 300000"
   ]
  },
  {
   "cell_type": "code",
   "execution_count": 62,
   "id": "a63009af",
   "metadata": {},
   "outputs": [
    {
     "name": "stdout",
     "output_type": "stream",
     "text": [
      "[*********************100%%**********************]  1 of 1 completed\n",
      "[*********************100%%**********************]  1 of 1 completed\n",
      "[*********************100%%**********************]  1 of 1 completed\n",
      "[*********************100%%**********************]  1 of 1 completed\n",
      "[*********************100%%**********************]  1 of 1 completed\n",
      "[*********************100%%**********************]  1 of 1 completed\n",
      "[*********************100%%**********************]  1 of 1 completed\n",
      "[*********************100%%**********************]  1 of 1 completed\n",
      "[*********************100%%**********************]  1 of 1 completed\n",
      "[*********************100%%**********************]  1 of 1 completed\n",
      "[*********************100%%**********************]  1 of 1 completed\n",
      "[*********************100%%**********************]  1 of 1 completed\n",
      "[*********************100%%**********************]  1 of 1 completed\n",
      "[*********************100%%**********************]  1 of 1 completed\n",
      "[*********************100%%**********************]  1 of 1 completed\n",
      "[*********************100%%**********************]  1 of 1 completed\n",
      "[*********************100%%**********************]  1 of 1 completed\n",
      "[*********************100%%**********************]  1 of 1 completed\n",
      "[*********************100%%**********************]  1 of 1 completed\n",
      "[*********************100%%**********************]  1 of 1 completed\n",
      "[*********************100%%**********************]  1 of 1 completed\n",
      "[*********************100%%**********************]  1 of 1 completed\n",
      "[*********************100%%**********************]  1 of 1 completed\n",
      "[*********************100%%**********************]  1 of 1 completed\n",
      "[*********************100%%**********************]  1 of 1 completed\n",
      "[*********************100%%**********************]  1 of 1 completed\n",
      "[*********************100%%**********************]  1 of 1 completed\n",
      "[*********************100%%**********************]  1 of 1 completed\n",
      "[*********************100%%**********************]  1 of 1 completed\n",
      "[*********************100%%**********************]  1 of 1 completed\n",
      "[*********************100%%**********************]  1 of 1 completed\n",
      "[*********************100%%**********************]  1 of 1 completed\n",
      "[*********************100%%**********************]  1 of 1 completed\n",
      "[*********************100%%**********************]  1 of 1 completed\n",
      "[*********************100%%**********************]  1 of 1 completed\n",
      "[*********************100%%**********************]  1 of 1 completed\n",
      "[*********************100%%**********************]  1 of 1 completed\n",
      "[*********************100%%**********************]  1 of 1 completed\n",
      "[*********************100%%**********************]  1 of 1 completed\n",
      "[*********************100%%**********************]  1 of 1 completed\n",
      "[*********************100%%**********************]  1 of 1 completed\n",
      "[*********************100%%**********************]  1 of 1 completed\n",
      "[*********************100%%**********************]  1 of 1 completed\n",
      "[*********************100%%**********************]  1 of 1 completed\n",
      "[*********************100%%**********************]  1 of 1 completed\n",
      "[*********************100%%**********************]  1 of 1 completed\n",
      "[*********************100%%**********************]  1 of 1 completed\n",
      "[*********************100%%**********************]  1 of 1 completed\n",
      "[*********************100%%**********************]  1 of 1 completed\n",
      "[*********************100%%**********************]  1 of 1 completed\n",
      "[*********************100%%**********************]  1 of 1 completed"
     ]
    },
    {
     "name": "stderr",
     "output_type": "stream",
     "text": [
      "\n",
      "1 Failed download:\n",
      "['INDOTECH.BO']: Exception('%ticker%: No price data found, symbol may be delisted (1m 2024-01-10 14:47:23.032260 -> 2024-01-10 15:17:23+05:30)')\n"
     ]
    },
    {
     "name": "stdout",
     "output_type": "stream",
     "text": [
      "\n",
      "[*********************100%%**********************]  1 of 1 completed\n",
      "[*********************100%%**********************]  1 of 1 completed\n",
      "[*********************100%%**********************]  1 of 1 completed\n",
      "[*********************100%%**********************]  1 of 1 completed\n",
      "[*********************100%%**********************]  1 of 1 completed\n",
      "[*********************100%%**********************]  1 of 1 completed\n",
      "[*********************100%%**********************]  1 of 1 completed\n",
      "[*********************100%%**********************]  1 of 1 completed\n",
      "[*********************100%%**********************]  1 of 1 completed\n",
      "[*********************100%%**********************]  1 of 1 completed\n",
      "[*********************100%%**********************]  1 of 1 completed\n",
      "[*********************100%%**********************]  1 of 1 completed\n",
      "[*********************100%%**********************]  1 of 1 completed\n",
      "[*********************100%%**********************]  1 of 1 completed\n",
      "[*********************100%%**********************]  1 of 1 completed\n",
      "[*********************100%%**********************]  1 of 1 completed\n",
      "[*********************100%%**********************]  1 of 1 completed\n",
      "[*********************100%%**********************]  1 of 1 completed\n",
      "[*********************100%%**********************]  1 of 1 completed\n",
      "[*********************100%%**********************]  1 of 1 completed\n",
      "[*********************100%%**********************]  1 of 1 completed\n",
      "[*********************100%%**********************]  1 of 1 completed\n",
      "[*********************100%%**********************]  1 of 1 completed\n",
      "[*********************100%%**********************]  1 of 1 completed\n",
      "[*********************100%%**********************]  1 of 1 completed\n",
      "[*********************100%%**********************]  1 of 1 completed\n",
      "[*********************100%%**********************]  1 of 1 completed\n",
      "[*********************100%%**********************]  1 of 1 completed\n",
      "[*********************100%%**********************]  1 of 1 completed\n",
      "[*********************100%%**********************]  1 of 1 completed\n",
      "[*********************100%%**********************]  1 of 1 completed\n",
      "[*********************100%%**********************]  1 of 1 completed\n",
      "[*********************100%%**********************]  1 of 1 completed\n",
      "[*********************100%%**********************]  1 of 1 completed\n",
      "[*********************100%%**********************]  1 of 1 completed\n",
      "[*********************100%%**********************]  1 of 1 completed\n",
      "[*********************100%%**********************]  1 of 1 completed\n",
      "[*********************100%%**********************]  1 of 1 completed\n",
      "[*********************100%%**********************]  1 of 1 completed\n",
      "[*********************100%%**********************]  1 of 1 completed\n",
      "[*********************100%%**********************]  1 of 1 completed\n",
      "[*********************100%%**********************]  1 of 1 completed\n",
      "[*********************100%%**********************]  1 of 1 completed\n",
      "[*********************100%%**********************]  1 of 1 completed\n",
      "[*********************100%%**********************]  1 of 1 completed\n",
      "[*********************100%%**********************]  1 of 1 completed\n",
      "[*********************100%%**********************]  1 of 1 completed\n",
      "[*********************100%%**********************]  1 of 1 completed\n",
      "[*********************100%%**********************]  1 of 1 completed\n",
      "[*********************100%%**********************]  1 of 1 completed\n",
      "[*********************100%%**********************]  1 of 1 completed\n",
      "[*********************100%%**********************]  1 of 1 completed\n",
      "[*********************100%%**********************]  1 of 1 completed\n",
      "[*********************100%%**********************]  1 of 1 completed\n",
      "[*********************100%%**********************]  1 of 1 completed\n",
      "[*********************100%%**********************]  1 of 1 completed\n",
      "[*********************100%%**********************]  1 of 1 completed\n",
      "[*********************100%%**********************]  1 of 1 completed\n",
      "[*********************100%%**********************]  1 of 1 completed\n",
      "[*********************100%%**********************]  1 of 1 completed\n",
      "[*********************100%%**********************]  1 of 1 completed\n",
      "[*********************100%%**********************]  1 of 1 completed\n",
      "[*********************100%%**********************]  1 of 1 completed\n",
      "[*********************100%%**********************]  1 of 1 completed\n",
      "[*********************100%%**********************]  1 of 1 completed\n",
      "[*********************100%%**********************]  1 of 1 completed\n",
      "[*********************100%%**********************]  1 of 1 completed\n",
      "[*********************100%%**********************]  1 of 1 completed\n",
      "[*********************100%%**********************]  1 of 1 completed\n",
      "[*********************100%%**********************]  1 of 1 completed\n",
      "[*********************100%%**********************]  1 of 1 completed\n",
      "[*********************100%%**********************]  1 of 1 completed\n",
      "[*********************100%%**********************]  1 of 1 completed\n"
     ]
    }
   ],
   "source": [
    "top_20_df['current_price'] = top_20_df['stock_name'].apply(lambda x:stock_current_price(x))\n",
    "top_20_df['sl'], top_20_df['tp'] = top_20_df['current_price']*sl, top_20_df['current_price']*tp"
   ]
  },
  {
   "cell_type": "code",
   "execution_count": 63,
   "id": "723b17d2",
   "metadata": {},
   "outputs": [],
   "source": [
    "#filter on stock price\n",
    "\n",
    "top_20_df = top_20_df[top_20_df['current_price']<5000]"
   ]
  },
  {
   "cell_type": "code",
   "execution_count": 64,
   "id": "ff0da14b",
   "metadata": {},
   "outputs": [],
   "source": [
    "top_20_df = top_20_df.nlargest(20, columns = 'RS')"
   ]
  },
  {
   "cell_type": "code",
   "execution_count": 65,
   "id": "d900a5a2",
   "metadata": {},
   "outputs": [],
   "source": [
    "top_20_df = top_20_df.sort_values(by = 'current_price')"
   ]
  },
  {
   "cell_type": "code",
   "execution_count": 66,
   "id": "c3a4bb95",
   "metadata": {},
   "outputs": [],
   "source": [
    "def buy_stocks(prices, capital):\n",
    "    total_stocks = len(prices)\n",
    "    \n",
    "    equal_weight = capital / total_stocks\n",
    "    \n",
    "    stocks_to_buy = np.floor(equal_weight / prices)\n",
    "    \n",
    "    allocation = stocks_to_buy * prices\n",
    "    \n",
    "    remaining_cash = capital - np.sum(stocks_to_buy * prices)\n",
    "    \n",
    "    while remaining_cash > 0:\n",
    "        \n",
    "        idx = np.argmin(allocation)\n",
    "        stocks_to_buy[idx] += 1\n",
    "        remaining_cash -= prices[idx]\n",
    "    \n",
    "    return stocks_to_buy\n",
    "\n",
    "prices = top_20_df['current_price'].values\n",
    "\n",
    "stocks_to_buy = buy_stocks(prices, capital)\n",
    "top_20_df['number_of_stocks'] = stocks_to_buy"
   ]
  },
  {
   "cell_type": "code",
   "execution_count": 67,
   "id": "683d80fa",
   "metadata": {},
   "outputs": [],
   "source": [
    "top_20_df['allocation'] = (top_20_df['current_price'] * top_20_df['number_of_stocks'])*100/capital"
   ]
  },
  {
   "cell_type": "code",
   "execution_count": 68,
   "id": "5aad0e33",
   "metadata": {},
   "outputs": [],
   "source": [
    "top_20_df = top_20_df.sort_values(by = 'RS', ascending=False)"
   ]
  },
  {
   "cell_type": "code",
   "execution_count": 69,
   "id": "20355306",
   "metadata": {},
   "outputs": [],
   "source": [
    "top_20_df.reset_index(drop = True, inplace = True)"
   ]
  },
  {
   "cell_type": "code",
   "execution_count": 70,
   "id": "7d95ad20",
   "metadata": {},
   "outputs": [
    {
     "data": {
      "text/html": [
       "<div>\n",
       "<style scoped>\n",
       "    .dataframe tbody tr th:only-of-type {\n",
       "        vertical-align: middle;\n",
       "    }\n",
       "\n",
       "    .dataframe tbody tr th {\n",
       "        vertical-align: top;\n",
       "    }\n",
       "\n",
       "    .dataframe thead th {\n",
       "        text-align: right;\n",
       "    }\n",
       "</style>\n",
       "<table border=\"1\" class=\"dataframe\">\n",
       "  <thead>\n",
       "    <tr style=\"text-align: right;\">\n",
       "      <th></th>\n",
       "      <th>sector</th>\n",
       "      <th>stock_name</th>\n",
       "      <th>RS</th>\n",
       "      <th>current_price</th>\n",
       "      <th>sl</th>\n",
       "      <th>tp</th>\n",
       "      <th>number_of_stocks</th>\n",
       "      <th>allocation</th>\n",
       "    </tr>\n",
       "  </thead>\n",
       "  <tbody>\n",
       "    <tr>\n",
       "      <th>0</th>\n",
       "      <td>Gems, Jewellery And Watches</td>\n",
       "      <td>PCJEWELLER.BO</td>\n",
       "      <td>2.302247</td>\n",
       "      <td>64.690002</td>\n",
       "      <td>54.986502</td>\n",
       "      <td>84.097003</td>\n",
       "      <td>231.0</td>\n",
       "      <td>4.981130</td>\n",
       "    </tr>\n",
       "    <tr>\n",
       "      <th>1</th>\n",
       "      <td>Ferro &amp; Silica Manganese</td>\n",
       "      <td>POCL.BO</td>\n",
       "      <td>1.762670</td>\n",
       "      <td>797.049988</td>\n",
       "      <td>677.492490</td>\n",
       "      <td>1036.164984</td>\n",
       "      <td>18.0</td>\n",
       "      <td>4.782300</td>\n",
       "    </tr>\n",
       "    <tr>\n",
       "      <th>2</th>\n",
       "      <td>Iron &amp; Steel Products</td>\n",
       "      <td>GALLANTT.BO</td>\n",
       "      <td>1.753880</td>\n",
       "      <td>188.800003</td>\n",
       "      <td>160.480003</td>\n",
       "      <td>245.440004</td>\n",
       "      <td>79.0</td>\n",
       "      <td>4.971733</td>\n",
       "    </tr>\n",
       "    <tr>\n",
       "      <th>3</th>\n",
       "      <td>Residential, Commercial Projects</td>\n",
       "      <td>SIGNATURE.BO</td>\n",
       "      <td>1.411396</td>\n",
       "      <td>1122.000000</td>\n",
       "      <td>953.700000</td>\n",
       "      <td>1458.600000</td>\n",
       "      <td>13.0</td>\n",
       "      <td>4.862000</td>\n",
       "    </tr>\n",
       "    <tr>\n",
       "      <th>4</th>\n",
       "      <td>Logistics Solution Provider</td>\n",
       "      <td>TIGERLOGS.BO</td>\n",
       "      <td>1.314439</td>\n",
       "      <td>833.000000</td>\n",
       "      <td>708.050000</td>\n",
       "      <td>1082.900000</td>\n",
       "      <td>18.0</td>\n",
       "      <td>4.998000</td>\n",
       "    </tr>\n",
       "    <tr>\n",
       "      <th>5</th>\n",
       "      <td>Pharmaceuticals</td>\n",
       "      <td>GUJTHEM.BO</td>\n",
       "      <td>1.310802</td>\n",
       "      <td>336.399994</td>\n",
       "      <td>285.939995</td>\n",
       "      <td>437.319992</td>\n",
       "      <td>44.0</td>\n",
       "      <td>4.933867</td>\n",
       "    </tr>\n",
       "    <tr>\n",
       "      <th>6</th>\n",
       "      <td>Logistics Solution Provider</td>\n",
       "      <td>NAVKARCORP.BO</td>\n",
       "      <td>1.183047</td>\n",
       "      <td>120.800003</td>\n",
       "      <td>102.680003</td>\n",
       "      <td>157.040004</td>\n",
       "      <td>124.0</td>\n",
       "      <td>4.993067</td>\n",
       "    </tr>\n",
       "    <tr>\n",
       "      <th>7</th>\n",
       "      <td>Telecom - Infrastructure</td>\n",
       "      <td>GTLINFRA.BO</td>\n",
       "      <td>1.158312</td>\n",
       "      <td>1.800000</td>\n",
       "      <td>1.530000</td>\n",
       "      <td>2.340000</td>\n",
       "      <td>8333.0</td>\n",
       "      <td>4.999800</td>\n",
       "    </tr>\n",
       "    <tr>\n",
       "      <th>8</th>\n",
       "      <td>Iron &amp; Steel Products</td>\n",
       "      <td>SURYAROSNI.BO</td>\n",
       "      <td>1.141834</td>\n",
       "      <td>834.900024</td>\n",
       "      <td>709.665021</td>\n",
       "      <td>1085.370032</td>\n",
       "      <td>22.0</td>\n",
       "      <td>6.122600</td>\n",
       "    </tr>\n",
       "    <tr>\n",
       "      <th>9</th>\n",
       "      <td>Media &amp; Entertainment</td>\n",
       "      <td>NETWORK18.BO</td>\n",
       "      <td>1.111556</td>\n",
       "      <td>119.370003</td>\n",
       "      <td>101.464502</td>\n",
       "      <td>155.181004</td>\n",
       "      <td>125.0</td>\n",
       "      <td>4.973750</td>\n",
       "    </tr>\n",
       "    <tr>\n",
       "      <th>10</th>\n",
       "      <td>Residential, Commercial Projects</td>\n",
       "      <td>TARC.BO</td>\n",
       "      <td>1.106718</td>\n",
       "      <td>169.350006</td>\n",
       "      <td>143.947505</td>\n",
       "      <td>220.155008</td>\n",
       "      <td>88.0</td>\n",
       "      <td>4.967600</td>\n",
       "    </tr>\n",
       "    <tr>\n",
       "      <th>11</th>\n",
       "      <td>Auto Components &amp; Equipments</td>\n",
       "      <td>MUNJALAU.BO</td>\n",
       "      <td>1.053943</td>\n",
       "      <td>106.500000</td>\n",
       "      <td>90.525000</td>\n",
       "      <td>138.450000</td>\n",
       "      <td>140.0</td>\n",
       "      <td>4.970000</td>\n",
       "    </tr>\n",
       "    <tr>\n",
       "      <th>12</th>\n",
       "      <td>Pharmaceuticals</td>\n",
       "      <td>SYNCOMF.BO</td>\n",
       "      <td>1.021689</td>\n",
       "      <td>16.639999</td>\n",
       "      <td>14.143999</td>\n",
       "      <td>21.631999</td>\n",
       "      <td>901.0</td>\n",
       "      <td>4.997546</td>\n",
       "    </tr>\n",
       "    <tr>\n",
       "      <th>13</th>\n",
       "      <td>Iron &amp; Steel Products</td>\n",
       "      <td>KAMDHENU.BO</td>\n",
       "      <td>1.010831</td>\n",
       "      <td>437.850006</td>\n",
       "      <td>372.172505</td>\n",
       "      <td>569.205008</td>\n",
       "      <td>34.0</td>\n",
       "      <td>4.962300</td>\n",
       "    </tr>\n",
       "    <tr>\n",
       "      <th>14</th>\n",
       "      <td>Pharmaceuticals</td>\n",
       "      <td>SIGACHI.BO</td>\n",
       "      <td>0.976395</td>\n",
       "      <td>69.000000</td>\n",
       "      <td>58.650000</td>\n",
       "      <td>89.700000</td>\n",
       "      <td>217.0</td>\n",
       "      <td>4.991000</td>\n",
       "    </tr>\n",
       "    <tr>\n",
       "      <th>15</th>\n",
       "      <td>Residential, Commercial Projects</td>\n",
       "      <td>PURVA.BO</td>\n",
       "      <td>0.945257</td>\n",
       "      <td>232.000000</td>\n",
       "      <td>197.200000</td>\n",
       "      <td>301.600000</td>\n",
       "      <td>64.0</td>\n",
       "      <td>4.949333</td>\n",
       "    </tr>\n",
       "    <tr>\n",
       "      <th>16</th>\n",
       "      <td>Iron &amp; Steel Products</td>\n",
       "      <td>HITECH.BO</td>\n",
       "      <td>0.937411</td>\n",
       "      <td>143.649994</td>\n",
       "      <td>122.102495</td>\n",
       "      <td>186.744992</td>\n",
       "      <td>104.0</td>\n",
       "      <td>4.979866</td>\n",
       "    </tr>\n",
       "    <tr>\n",
       "      <th>17</th>\n",
       "      <td>Breweries &amp; Distilleries</td>\n",
       "      <td>SULA.BO</td>\n",
       "      <td>0.932127</td>\n",
       "      <td>655.299988</td>\n",
       "      <td>557.004990</td>\n",
       "      <td>851.889984</td>\n",
       "      <td>22.0</td>\n",
       "      <td>4.805533</td>\n",
       "    </tr>\n",
       "    <tr>\n",
       "      <th>18</th>\n",
       "      <td>Iron &amp; Steel Products</td>\n",
       "      <td>STEELXIND.BO</td>\n",
       "      <td>0.926987</td>\n",
       "      <td>13.230000</td>\n",
       "      <td>11.245500</td>\n",
       "      <td>17.198999</td>\n",
       "      <td>1133.0</td>\n",
       "      <td>4.996530</td>\n",
       "    </tr>\n",
       "    <tr>\n",
       "      <th>19</th>\n",
       "      <td>Residential, Commercial Projects</td>\n",
       "      <td>SOBHA.BO</td>\n",
       "      <td>0.922997</td>\n",
       "      <td>1309.550049</td>\n",
       "      <td>1113.117542</td>\n",
       "      <td>1702.415063</td>\n",
       "      <td>11.0</td>\n",
       "      <td>4.801684</td>\n",
       "    </tr>\n",
       "  </tbody>\n",
       "</table>\n",
       "</div>"
      ],
      "text/plain": [
       "                              sector     stock_name        RS  current_price  \\\n",
       "0        Gems, Jewellery And Watches  PCJEWELLER.BO  2.302247      64.690002   \n",
       "1           Ferro & Silica Manganese        POCL.BO  1.762670     797.049988   \n",
       "2              Iron & Steel Products    GALLANTT.BO  1.753880     188.800003   \n",
       "3   Residential, Commercial Projects   SIGNATURE.BO  1.411396    1122.000000   \n",
       "4        Logistics Solution Provider   TIGERLOGS.BO  1.314439     833.000000   \n",
       "5                    Pharmaceuticals     GUJTHEM.BO  1.310802     336.399994   \n",
       "6        Logistics Solution Provider  NAVKARCORP.BO  1.183047     120.800003   \n",
       "7           Telecom - Infrastructure    GTLINFRA.BO  1.158312       1.800000   \n",
       "8              Iron & Steel Products  SURYAROSNI.BO  1.141834     834.900024   \n",
       "9              Media & Entertainment   NETWORK18.BO  1.111556     119.370003   \n",
       "10  Residential, Commercial Projects        TARC.BO  1.106718     169.350006   \n",
       "11      Auto Components & Equipments    MUNJALAU.BO  1.053943     106.500000   \n",
       "12                   Pharmaceuticals     SYNCOMF.BO  1.021689      16.639999   \n",
       "13             Iron & Steel Products    KAMDHENU.BO  1.010831     437.850006   \n",
       "14                   Pharmaceuticals     SIGACHI.BO  0.976395      69.000000   \n",
       "15  Residential, Commercial Projects       PURVA.BO  0.945257     232.000000   \n",
       "16             Iron & Steel Products      HITECH.BO  0.937411     143.649994   \n",
       "17          Breweries & Distilleries        SULA.BO  0.932127     655.299988   \n",
       "18             Iron & Steel Products   STEELXIND.BO  0.926987      13.230000   \n",
       "19  Residential, Commercial Projects       SOBHA.BO  0.922997    1309.550049   \n",
       "\n",
       "             sl           tp  number_of_stocks  allocation  \n",
       "0     54.986502    84.097003             231.0    4.981130  \n",
       "1    677.492490  1036.164984              18.0    4.782300  \n",
       "2    160.480003   245.440004              79.0    4.971733  \n",
       "3    953.700000  1458.600000              13.0    4.862000  \n",
       "4    708.050000  1082.900000              18.0    4.998000  \n",
       "5    285.939995   437.319992              44.0    4.933867  \n",
       "6    102.680003   157.040004             124.0    4.993067  \n",
       "7      1.530000     2.340000            8333.0    4.999800  \n",
       "8    709.665021  1085.370032              22.0    6.122600  \n",
       "9    101.464502   155.181004             125.0    4.973750  \n",
       "10   143.947505   220.155008              88.0    4.967600  \n",
       "11    90.525000   138.450000             140.0    4.970000  \n",
       "12    14.143999    21.631999             901.0    4.997546  \n",
       "13   372.172505   569.205008              34.0    4.962300  \n",
       "14    58.650000    89.700000             217.0    4.991000  \n",
       "15   197.200000   301.600000              64.0    4.949333  \n",
       "16   122.102495   186.744992             104.0    4.979866  \n",
       "17   557.004990   851.889984              22.0    4.805533  \n",
       "18    11.245500    17.198999            1133.0    4.996530  \n",
       "19  1113.117542  1702.415063              11.0    4.801684  "
      ]
     },
     "execution_count": 70,
     "metadata": {},
     "output_type": "execute_result"
    }
   ],
   "source": [
    "top_20_df"
   ]
  },
  {
   "cell_type": "code",
   "execution_count": 71,
   "id": "d6db2e85",
   "metadata": {},
   "outputs": [
    {
     "data": {
      "text/plain": [
       "100.03964016270638"
      ]
     },
     "execution_count": 71,
     "metadata": {},
     "output_type": "execute_result"
    }
   ],
   "source": [
    "top_20_df['allocation'].sum()"
   ]
  },
  {
   "cell_type": "code",
   "execution_count": 72,
   "id": "7354a83c",
   "metadata": {},
   "outputs": [],
   "source": [
    "import sqlalchemy"
   ]
  },
  {
   "cell_type": "code",
   "execution_count": 73,
   "id": "58d8b523",
   "metadata": {},
   "outputs": [],
   "source": [
    "engine = sqlalchemy.create_engine('sqlite:///daily_stocks.db')"
   ]
  },
  {
   "cell_type": "code",
   "execution_count": 74,
   "id": "e6a45291",
   "metadata": {},
   "outputs": [],
   "source": [
    "top_20_df['date'] = pd.to_datetime(datetime.now().date())"
   ]
  },
  {
   "cell_type": "code",
   "execution_count": 75,
   "id": "bfbf5cf7",
   "metadata": {},
   "outputs": [
    {
     "data": {
      "text/plain": [
       "20"
      ]
     },
     "execution_count": 75,
     "metadata": {},
     "output_type": "execute_result"
    }
   ],
   "source": [
    "top_20_df.to_sql('daily_stocks', engine, if_exists='append', index=False)"
   ]
  },
  {
   "cell_type": "code",
   "execution_count": 76,
   "id": "22c72e39",
   "metadata": {},
   "outputs": [],
   "source": [
    "engine1 = sqlalchemy.create_engine('sqlite:///sectoral_indices.db')"
   ]
  },
  {
   "cell_type": "code",
   "execution_count": 109,
   "id": "9748d47a",
   "metadata": {},
   "outputs": [
    {
     "name": "stdout",
     "output_type": "stream",
     "text": [
      "Pharmaceuticals values uploaded from 2024-01-10 00:00:00\n",
      "Auto Components & Equipments values uploaded from 2024-01-10 00:00:00\n",
      "Specialty Chemicals values uploaded from 2024-01-10 00:00:00\n",
      "Industrial Products values uploaded from 2024-01-10 00:00:00\n",
      "Non Banking Financial Company (NBFC) values uploaded from 2024-01-10 00:00:00\n",
      "Civil Construction values uploaded from 2024-01-10 00:00:00\n",
      "Residential, Commercial Projects values uploaded from 2024-01-10 00:00:00\n",
      "Iron & Steel Products values uploaded from 2024-01-10 00:00:00\n",
      "Computers - Software & Consulting values uploaded from 2024-01-10 00:00:00\n",
      "Cement & Cement Products values uploaded from 2024-01-10 00:00:00\n",
      "Other Textile Products values uploaded from 2024-01-10 00:00:00\n",
      "IT Enabled Services values uploaded from 2024-01-10 00:00:00\n",
      "Commodity Chemicals values uploaded from 2024-01-10 00:00:00\n",
      "Heavy Electrical Equipment values uploaded from 2024-01-10 00:00:00\n",
      "Private Sector Bank values uploaded from 2024-01-10 00:00:00\n",
      "Pesticides & Agrochemicals values uploaded from 2024-01-10 00:00:00\n",
      "Logistics Solution Provider values uploaded from 2024-01-10 00:00:00\n",
      "Packaging values uploaded from 2024-01-10 00:00:00\n",
      "Household Appliances values uploaded from 2024-01-10 00:00:00\n",
      "Investment Company values uploaded from 2024-01-10 00:00:00\n",
      "Aerospace & Defense values uploaded from 2024-01-10 00:00:00\n",
      "Gems, Jewellery And Watches values uploaded from 2024-01-10 00:00:00\n",
      "Sugar values uploaded from 2024-01-10 00:00:00\n",
      "Power Generation values uploaded from 2024-01-10 00:00:00\n",
      "Hospital values uploaded from 2024-01-10 00:00:00\n",
      "Hotels & Resorts values uploaded from 2024-01-10 00:00:00\n",
      "Garments & Apparels values uploaded from 2024-01-10 00:00:00\n",
      "Other Electrical Equipment values uploaded from 2024-01-10 00:00:00\n",
      "Fertilizers values uploaded from 2024-01-10 00:00:00\n",
      "Plastic Products - Industrial values uploaded from 2024-01-10 00:00:00\n",
      "Stockbroking & Allied values uploaded from 2024-01-10 00:00:00\n",
      "Public Sector Bank values uploaded from 2024-01-10 00:00:00\n",
      "Paper & Paper Products values uploaded from 2024-01-10 00:00:00\n",
      "Holding Company values uploaded from 2024-01-10 00:00:00\n",
      "Speciality Retail values uploaded from 2024-01-10 00:00:00\n",
      "Trading & Distributors values uploaded from 2024-01-10 00:00:00\n",
      "Compressors, Pumps & Diesel Engines values uploaded from 2024-01-10 00:00:00\n",
      "Iron & Steel values uploaded from 2024-01-10 00:00:00\n",
      "Packaged Foods values uploaded from 2024-01-10 00:00:00\n",
      "Other Agricultural Products values uploaded from 2024-01-10 00:00:00\n",
      "Breweries & Distilleries values uploaded from 2024-01-10 00:00:00\n",
      "Housing Finance Company values uploaded from 2024-01-10 00:00:00\n",
      "Diversified Commercial Services values uploaded from 2024-01-10 00:00:00\n",
      "Personal Care values uploaded from 2024-01-10 00:00:00\n",
      "Electrodes & Refractories values uploaded from 2024-01-10 00:00:00\n",
      "Software Products values uploaded from 2024-01-10 00:00:00\n",
      "Diversified values uploaded from 2024-01-10 00:00:00\n",
      "TV Broadcasting & Software Production values uploaded from 2024-01-10 00:00:00\n",
      "Industrial Minerals values uploaded from 2024-01-10 00:00:00\n",
      "Cables - Electricals values uploaded from 2024-01-10 00:00:00\n",
      "Edible Oil values uploaded from 2024-01-10 00:00:00\n",
      "Restaurants values uploaded from 2024-01-10 00:00:00\n",
      "Paints values uploaded from 2024-01-10 00:00:00\n",
      "Other Industrial Products values uploaded from 2024-01-10 00:00:00\n",
      "Castings & Forgings values uploaded from 2024-01-10 00:00:00\n",
      "Refineries & Marketing values uploaded from 2024-01-10 00:00:00\n",
      "Passenger Cars & Utility Vehicles values uploaded from 2024-01-10 00:00:00\n",
      "Integrated Power Utilities values uploaded from 2024-01-10 00:00:00\n",
      "Tyres & Rubber Products values uploaded from 2024-01-10 00:00:00\n",
      "Other Bank values uploaded from 2024-01-10 00:00:00\n",
      "Footwear values uploaded from 2024-01-10 00:00:00\n",
      "LPG/CNG/PNG/LNG Supplier values uploaded from 2024-01-10 00:00:00\n",
      "Lubricants values uploaded from 2024-01-10 00:00:00\n",
      "Financial Institution values uploaded from 2024-01-10 00:00:00\n",
      "Petrochemicals values uploaded from 2024-01-10 00:00:00\n",
      "Other Financial Services values uploaded from 2024-01-10 00:00:00\n",
      "Telecom - Infrastructure values uploaded from 2024-01-10 00:00:00\n",
      "Healthcare Service Provider values uploaded from 2024-01-10 00:00:00\n",
      "Business Process Outsourcing (BPO)/ Knowledge Process Outsourcing (KPO) values uploaded from 2024-01-10 00:00:00\n",
      "2/3 Wheelers values uploaded from 2024-01-10 00:00:00\n",
      "Computers Hardware & Equipments values uploaded from 2024-01-10 00:00:00\n",
      "Consumer Electronics values uploaded from 2024-01-10 00:00:00\n",
      "Dyes And Pigments values uploaded from 2024-01-10 00:00:00\n",
      "Media & Entertainment values uploaded from 2024-01-10 00:00:00\n",
      "Ceramics values uploaded from 2024-01-10 00:00:00\n",
      "Life Insurance values uploaded from 2024-01-10 00:00:00\n",
      "Household Products values uploaded from 2024-01-10 00:00:00\n",
      "Education values uploaded from 2024-01-10 00:00:00\n",
      "Dairy Products values uploaded from 2024-01-10 00:00:00\n",
      "Telecom - Cellular & Fixed line services values uploaded from 2024-01-10 00:00:00\n",
      "Plywood Boards/ Laminates values uploaded from 2024-01-10 00:00:00\n",
      "Print Media values uploaded from 2024-01-10 00:00:00\n",
      "Telecom - Equipment & Accessories values uploaded from 2024-01-10 00:00:00\n",
      "Shipping values uploaded from 2024-01-10 00:00:00\n",
      "Microfinance Institutions values uploaded from 2024-01-10 00:00:00\n",
      "Abrasives & Bearings values uploaded from 2024-01-10 00:00:00\n",
      "Oil Exploration & Production values uploaded from 2024-01-10 00:00:00\n",
      "Diversified Retail values uploaded from 2024-01-10 00:00:00\n",
      "Internet & Catalogue Retail values uploaded from 2024-01-10 00:00:00\n",
      "Amusement Parks/ Other Recreation values uploaded from 2024-01-10 00:00:00\n",
      "Plastic Products - Consumer values uploaded from 2024-01-10 00:00:00\n",
      "Commercial Vehicles values uploaded from 2024-01-10 00:00:00\n",
      "Aluminium values uploaded from 2024-01-10 00:00:00\n",
      "Tea & Coffee values uploaded from 2024-01-10 00:00:00\n",
      "Airline values uploaded from 2024-01-10 00:00:00\n",
      "Railway values uploaded from 2024-01-10 00:00:00\n",
      "Port & Port services values uploaded from 2024-01-10 00:00:00\n",
      "General Insurance values uploaded from 2024-01-10 00:00:00\n",
      "Asset Management Company values uploaded from 2024-01-10 00:00:00\n",
      "Financial Technology (Fintech) values uploaded from 2024-01-10 00:00:00\n",
      "Tour, Travel Related Services values uploaded from 2024-01-10 00:00:00\n",
      "Construction Vehicles values uploaded from 2024-01-10 00:00:00\n",
      "Diversified FMCG values uploaded from 2024-01-10 00:00:00\n",
      "Furniture, Home Furnishing values uploaded from 2024-01-10 00:00:00\n",
      "Explosives values uploaded from 2024-01-10 00:00:00\n",
      "Gas Transmission/Marketing values uploaded from 2024-01-10 00:00:00\n",
      "Film Production, Distribution & Exhibition values uploaded from 2024-01-10 00:00:00\n",
      "E-Retail/ E-Commerce values uploaded from 2024-01-10 00:00:00\n",
      "Medical Equipment & Supplies values uploaded from 2024-01-10 00:00:00\n",
      "Stationary values uploaded from 2024-01-10 00:00:00\n",
      "Printing & Publication values uploaded from 2024-01-10 00:00:00\n",
      "Depositories, Clearing Houses and Other Intermediaries values uploaded from 2024-01-10 00:00:00\n",
      "Water Supply & Management values uploaded from 2024-01-10 00:00:00\n",
      "Ferro & Silica Manganese values uploaded from 2024-01-10 00:00:00\n",
      "Other Food Products values uploaded from 2024-01-10 00:00:00\n",
      "Trading - Chemicals values uploaded from 2024-01-10 00:00:00\n",
      "Healthcare Research, Analytics & Technology values uploaded from 2024-01-10 00:00:00\n",
      "Waste Management values uploaded from 2024-01-10 00:00:00\n",
      "Rubber values uploaded from 2024-01-10 00:00:00\n",
      "Meat Products including Poultry values uploaded from 2024-01-10 00:00:00\n",
      "Other Telecom Services values uploaded from 2024-01-10 00:00:00\n",
      "Animal Feed values uploaded from 2024-01-10 00:00:00\n",
      "Offshore Support Solution Drilling values uploaded from 2024-01-10 00:00:00\n",
      "Coal values uploaded from 2024-01-10 00:00:00\n",
      "Leather And Leather Products values uploaded from 2024-01-10 00:00:00\n",
      "Dredging values uploaded from 2024-01-10 00:00:00\n",
      "Ship Building & Allied Services values uploaded from 2024-01-10 00:00:00\n",
      "Exchange and Data Platform values uploaded from 2024-01-10 00:00:00\n",
      "Financial Products Distributor values uploaded from 2024-01-10 00:00:00\n",
      "Sponge Iron values uploaded from 2024-01-10 00:00:00\n",
      "Trading - Minerals values uploaded from 2024-01-10 00:00:00\n",
      "Cigarettes & Tobacco Products values uploaded from 2024-01-10 00:00:00\n",
      "Pig Iron values uploaded from 2024-01-10 00:00:00\n",
      "Houseware values uploaded from 2024-01-10 00:00:00\n",
      "Glass - Consumer values uploaded from 2024-01-10 00:00:00\n",
      "Sanitary Ware values uploaded from 2024-01-10 00:00:00\n",
      "Tractors values uploaded from 2024-01-10 00:00:00\n"
     ]
    },
    {
     "name": "stdout",
     "output_type": "stream",
     "text": [
      "Granites & Marbles values uploaded from 2024-01-10 00:00:00\n",
      "Airport & Airport services values uploaded from 2024-01-10 00:00:00\n",
      "Ratings values uploaded from 2024-01-10 00:00:00\n",
      "Consulting Services values uploaded from 2024-01-10 00:00:00\n",
      "Industrial Gases values uploaded from 2024-01-10 00:00:00\n",
      "E-Learning values uploaded from 2024-01-10 00:00:00\n",
      "Power - Transmission values uploaded from 2024-01-10 00:00:00\n"
     ]
    }
   ],
   "source": [
    "for keys, values in sector_indices.items():\n",
    "    \n",
    "    date_indb = pd.read_sql(keys, engine1)['Date'].iloc[-1]\n",
    "    \n",
    "    if date_indb < values.index[-1]:\n",
    "        \n",
    "        values.loc[date_indb:].iloc[1:].to_sql(keys, engine1, if_exists='append', index=True)\n",
    "        \n",
    "    print(f'{keys} values uploaded from {date_indb}')"
   ]
  },
  {
   "cell_type": "markdown",
   "id": "af71f0c9",
   "metadata": {},
   "source": [
    "def exits(daily_stocks_dataframe = daily_stocks, portfolio_stocks_dataframe=portfolio_stocks):\n",
    "    \n",
    "#exits\n",
    "    \n",
    "    exits = []\n",
    "    \n",
    "    for index, rows in portfolio_stocks_dataframe.iterrows():\n",
    "        \n",
    "        stock_df = yf.download(rows['stock_name'], interval = '1m', start = datetime.now().date())\n",
    "        \n",
    "        if stock_df['High'].max() > rows['tp']:\n",
    "            \n",
    "            exits.append(rows['stock_name'])\n",
    "\n",
    "        if stock_df['Low'].min() < rows['sl']:\n",
    "            \n",
    "            exits.append(rows['stock_name'])\n",
    "            \n",
    "    portfolio_stocks_dataframe = portfolio_stocks_dataframe[portfolio_stocks_dataframe['stock_name'] != exits]\n",
    "    \n",
    "    return portfolio_stocks_dataframe, exits"
   ]
  },
  {
   "cell_type": "markdown",
   "id": "50065efc",
   "metadata": {},
   "source": [
    "exits_df, exits_df = exits()\n",
    "\n",
    "exits_df.to_sql('portfolio_stocks', if_exists = 'replace', con = engine, index = False)"
   ]
  },
  {
   "cell_type": "markdown",
   "id": "1e19e046",
   "metadata": {},
   "source": [
    "def exits(daily_stocks_dataframe = daily_stocks, portfolio_stocks_dataframe=portfolio_stocks):\n",
    "    \n",
    "#exits\n",
    "    \n",
    "    exits = []\n",
    "    \n",
    "    for index, rows in portfolio_stocks_dataframe.iterrows():\n",
    "        \n",
    "        stock_df = yf.download(rows['stock_name'], interval = '1m', start = datetime.now().date())\n",
    "        \n",
    "        if stock_df['High'].max() > rows['tp']:\n",
    "            \n",
    "            exits.append(rows['stock_name'])\n",
    "\n",
    "        if stock_df['Low'].min() < rows['sl']:\n",
    "            \n",
    "            exits.append(rows['stock_name'])\n",
    "            \n",
    "    portfolio_stocks_dataframe = portfolio_stocks_dataframe[portfolio_stocks_dataframe['stock_name'] != exits]\n",
    "    \n",
    "    return portfolio_stocks_dataframe"
   ]
  },
  {
   "cell_type": "markdown",
   "id": "cd34652e",
   "metadata": {},
   "source": [
    "import pickle\n",
    "\n",
    "output_path = r\"..\\relative strength strategy\\final_datas\"\n",
    "\n",
    "with open(f\"{output_path}\\\\sector_analysis.pkl\", \"wb\") as f:\n",
    "    pickle.dump(sector_analysis, f)\n",
    "\n",
    "with open(f\"{output_path}\\\\sector_returns.pkl\", \"wb\") as f:\n",
    "    pickle.dump(sector_returns, f)\n",
    "\n",
    "with open(f\"{output_path}\\\\sector_indices.pkl\", \"wb\") as f:\n",
    "    pickle.dump(sector_indices, f)"
   ]
  },
  {
   "cell_type": "code",
   "execution_count": null,
   "id": "d852d899",
   "metadata": {},
   "outputs": [],
   "source": []
  },
  {
   "cell_type": "code",
   "execution_count": null,
   "id": "f9c54a7b-d561-445c-8a86-addf47bf44ea",
   "metadata": {},
   "outputs": [],
   "source": []
  }
 ],
 "metadata": {
  "kernelspec": {
   "display_name": "Python 3 (ipykernel)",
   "language": "python",
   "name": "python3"
  },
  "language_info": {
   "codemirror_mode": {
    "name": "ipython",
    "version": 3
   },
   "file_extension": ".py",
   "mimetype": "text/x-python",
   "name": "python",
   "nbconvert_exporter": "python",
   "pygments_lexer": "ipython3",
   "version": "3.11.5"
  }
 },
 "nbformat": 4,
 "nbformat_minor": 5
}
